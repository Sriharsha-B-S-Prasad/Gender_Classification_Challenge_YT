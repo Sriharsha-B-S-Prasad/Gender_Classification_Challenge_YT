{
 "cells": [
  {
   "cell_type": "code",
   "execution_count": 1,
   "metadata": {},
   "outputs": [],
   "source": [
    "import numpy as np\n",
    "import pandas as pd\n",
    "import matplotlib.pyplot as plt\n",
    "import re\n",
    "import string\n",
    "from sklearn.feature_extraction.text import CountVectorizer\n",
    "from sklearn.feature_extraction.text import TfidfTransformer\n",
    "from sklearn.model_selection import train_test_split\n",
    "from sklearn.metrics import confusion_matrix\n",
    "from sklearn import metrics\n",
    "from nltk.stem.porter import PorterStemmer\n",
    "from nltk.corpus import stopwords\n",
    "%matplotlib inline"
   ]
  },
  {
   "cell_type": "code",
   "execution_count": 2,
   "metadata": {},
   "outputs": [
    {
     "data": {
      "text/html": [
       "<div>\n",
       "<style scoped>\n",
       "    .dataframe tbody tr th:only-of-type {\n",
       "        vertical-align: middle;\n",
       "    }\n",
       "\n",
       "    .dataframe tbody tr th {\n",
       "        vertical-align: top;\n",
       "    }\n",
       "\n",
       "    .dataframe thead th {\n",
       "        text-align: right;\n",
       "    }\n",
       "</style>\n",
       "<table border=\"1\" class=\"dataframe\">\n",
       "  <thead>\n",
       "    <tr style=\"text-align: right;\">\n",
       "      <th></th>\n",
       "      <th>id</th>\n",
       "      <th>brand</th>\n",
       "      <th>categories</th>\n",
       "      <th>dateAdded</th>\n",
       "      <th>dateUpdated</th>\n",
       "      <th>ean</th>\n",
       "      <th>keys</th>\n",
       "      <th>manufacturer</th>\n",
       "      <th>manufacturerNumber</th>\n",
       "      <th>name</th>\n",
       "      <th>...</th>\n",
       "      <th>reviews.id</th>\n",
       "      <th>reviews.numHelpful</th>\n",
       "      <th>Online_Reviews_Rating</th>\n",
       "      <th>reviews.sourceURLs</th>\n",
       "      <th>Online_Reviews</th>\n",
       "      <th>reviews.title</th>\n",
       "      <th>reviews.userCity</th>\n",
       "      <th>reviews.userProvince</th>\n",
       "      <th>reviews.username</th>\n",
       "      <th>upc</th>\n",
       "    </tr>\n",
       "  </thead>\n",
       "  <tbody>\n",
       "    <tr>\n",
       "      <th>0</th>\n",
       "      <td>AV13O1A8GV-KLJ3akUyj</td>\n",
       "      <td>Universal Music</td>\n",
       "      <td>Movies, Music &amp; Books,Music,R&amp;b,Movies &amp; TV,Mo...</td>\n",
       "      <td>2017-07-25T00:52:42Z</td>\n",
       "      <td>2018-02-05T08:36:58Z</td>\n",
       "      <td>6.03E+11</td>\n",
       "      <td>602537205981,universalmusic/14331328,universal...</td>\n",
       "      <td>Universal Music Group / Cash Money</td>\n",
       "      <td>14331328</td>\n",
       "      <td>Pink Friday: Roman Reloaded Re-Up (w/dvd)</td>\n",
       "      <td>...</td>\n",
       "      <td>NaN</td>\n",
       "      <td>0.0</td>\n",
       "      <td>5</td>\n",
       "      <td>https://redsky.target.com/groot-domain-api/v1/...</td>\n",
       "      <td>i love this album. it's very good. more to the...</td>\n",
       "      <td>Just Awesome</td>\n",
       "      <td>Los Angeles</td>\n",
       "      <td>NaN</td>\n",
       "      <td>Joshua</td>\n",
       "      <td>6.03E+11</td>\n",
       "    </tr>\n",
       "    <tr>\n",
       "      <th>1</th>\n",
       "      <td>AV14LG0R-jtxr-f38QfS</td>\n",
       "      <td>Lundberg</td>\n",
       "      <td>Food,Packaged Foods,Snacks,Crackers,Snacks, Co...</td>\n",
       "      <td>2017-07-25T05:16:03Z</td>\n",
       "      <td>2018-02-05T11:27:45Z</td>\n",
       "      <td>73416000391</td>\n",
       "      <td>lundbergorganiccinnamontoastricecakes/b000fvzw...</td>\n",
       "      <td>Lundberg</td>\n",
       "      <td>574764</td>\n",
       "      <td>Lundberg Organic Cinnamon Toast Rice Cakes</td>\n",
       "      <td>...</td>\n",
       "      <td>100209113.0</td>\n",
       "      <td>NaN</td>\n",
       "      <td>5</td>\n",
       "      <td>https://www.walmart.com/reviews/product/29775278</td>\n",
       "      <td>Good flavor. This review was collected as part...</td>\n",
       "      <td>Good</td>\n",
       "      <td>NaN</td>\n",
       "      <td>NaN</td>\n",
       "      <td>Dorothy W</td>\n",
       "      <td>73416000391</td>\n",
       "    </tr>\n",
       "    <tr>\n",
       "      <th>2</th>\n",
       "      <td>AV14LG0R-jtxr-f38QfS</td>\n",
       "      <td>Lundberg</td>\n",
       "      <td>Food,Packaged Foods,Snacks,Crackers,Snacks, Co...</td>\n",
       "      <td>2017-07-25T05:16:03Z</td>\n",
       "      <td>2018-02-05T11:27:45Z</td>\n",
       "      <td>73416000391</td>\n",
       "      <td>lundbergorganiccinnamontoastricecakes/b000fvzw...</td>\n",
       "      <td>Lundberg</td>\n",
       "      <td>574764</td>\n",
       "      <td>Lundberg Organic Cinnamon Toast Rice Cakes</td>\n",
       "      <td>...</td>\n",
       "      <td>100209113.0</td>\n",
       "      <td>NaN</td>\n",
       "      <td>5</td>\n",
       "      <td>https://www.walmart.com/reviews/product/29775278</td>\n",
       "      <td>Good flavor.</td>\n",
       "      <td>Good</td>\n",
       "      <td>NaN</td>\n",
       "      <td>NaN</td>\n",
       "      <td>Dorothy W</td>\n",
       "      <td>73416000391</td>\n",
       "    </tr>\n",
       "    <tr>\n",
       "      <th>3</th>\n",
       "      <td>AV16khLE-jtxr-f38VFn</td>\n",
       "      <td>K-Y</td>\n",
       "      <td>Personal Care,Medicine Cabinet,Lubricant/Sperm...</td>\n",
       "      <td>2017-07-25T16:26:19Z</td>\n",
       "      <td>2018-02-05T11:25:51Z</td>\n",
       "      <td>67981934427</td>\n",
       "      <td>kylovesensualitypleasuregel/b00u2whx8s,0679819...</td>\n",
       "      <td>K-Y</td>\n",
       "      <td>67981934427</td>\n",
       "      <td>K-Y Love Sensuality Pleasure Gel</td>\n",
       "      <td>...</td>\n",
       "      <td>113026909.0</td>\n",
       "      <td>NaN</td>\n",
       "      <td>1</td>\n",
       "      <td>https://www.walmart.com/reviews/product/43383370</td>\n",
       "      <td>I read through the reviews on here before look...</td>\n",
       "      <td>Disappointed</td>\n",
       "      <td>NaN</td>\n",
       "      <td>NaN</td>\n",
       "      <td>Rebecca</td>\n",
       "      <td>67981934427</td>\n",
       "    </tr>\n",
       "    <tr>\n",
       "      <th>4</th>\n",
       "      <td>AV16khLE-jtxr-f38VFn</td>\n",
       "      <td>K-Y</td>\n",
       "      <td>Personal Care,Medicine Cabinet,Lubricant/Sperm...</td>\n",
       "      <td>2017-07-25T16:26:19Z</td>\n",
       "      <td>2018-02-05T11:25:51Z</td>\n",
       "      <td>67981934427</td>\n",
       "      <td>kylovesensualitypleasuregel/b00u2whx8s,0679819...</td>\n",
       "      <td>K-Y</td>\n",
       "      <td>67981934427</td>\n",
       "      <td>K-Y Love Sensuality Pleasure Gel</td>\n",
       "      <td>...</td>\n",
       "      <td>171267657.0</td>\n",
       "      <td>NaN</td>\n",
       "      <td>1</td>\n",
       "      <td>https://www.walmart.com/reviews/product/43383370</td>\n",
       "      <td>My husband bought this gel for us. The gel cau...</td>\n",
       "      <td>Irritation</td>\n",
       "      <td>NaN</td>\n",
       "      <td>NaN</td>\n",
       "      <td>Walker557</td>\n",
       "      <td>67981934427</td>\n",
       "    </tr>\n",
       "    <tr>\n",
       "      <th>5</th>\n",
       "      <td>AV16khLE-jtxr-f38VFn</td>\n",
       "      <td>K-Y</td>\n",
       "      <td>Personal Care,Medicine Cabinet,Lubricant/Sperm...</td>\n",
       "      <td>2017-07-25T16:26:19Z</td>\n",
       "      <td>2018-02-05T11:25:51Z</td>\n",
       "      <td>67981934427</td>\n",
       "      <td>kylovesensualitypleasuregel/b00u2whx8s,0679819...</td>\n",
       "      <td>K-Y</td>\n",
       "      <td>67981934427</td>\n",
       "      <td>K-Y Love Sensuality Pleasure Gel</td>\n",
       "      <td>...</td>\n",
       "      <td>149773828.0</td>\n",
       "      <td>NaN</td>\n",
       "      <td>1</td>\n",
       "      <td>https://www.walmart.com/reviews/product/43383370</td>\n",
       "      <td>My boyfriend and I bought this to spice things...</td>\n",
       "      <td>Not worth it</td>\n",
       "      <td>NaN</td>\n",
       "      <td>NaN</td>\n",
       "      <td>Samantha</td>\n",
       "      <td>67981934427</td>\n",
       "    </tr>\n",
       "    <tr>\n",
       "      <th>6</th>\n",
       "      <td>AV16khLE-jtxr-f38VFn</td>\n",
       "      <td>K-Y</td>\n",
       "      <td>Personal Care,Medicine Cabinet,Lubricant/Sperm...</td>\n",
       "      <td>2017-07-25T16:26:19Z</td>\n",
       "      <td>2018-02-05T11:25:51Z</td>\n",
       "      <td>67981934427</td>\n",
       "      <td>kylovesensualitypleasuregel/b00u2whx8s,0679819...</td>\n",
       "      <td>K-Y</td>\n",
       "      <td>67981934427</td>\n",
       "      <td>K-Y Love Sensuality Pleasure Gel</td>\n",
       "      <td>...</td>\n",
       "      <td>129088591.0</td>\n",
       "      <td>NaN</td>\n",
       "      <td>1</td>\n",
       "      <td>https://www.walmart.com/reviews/product/43383370</td>\n",
       "      <td>Bought this earlier today and was excited to c...</td>\n",
       "      <td>Disappointing</td>\n",
       "      <td>NaN</td>\n",
       "      <td>NaN</td>\n",
       "      <td>Raeanne</td>\n",
       "      <td>67981934427</td>\n",
       "    </tr>\n",
       "    <tr>\n",
       "      <th>7</th>\n",
       "      <td>AV16khLE-jtxr-f38VFn</td>\n",
       "      <td>K-Y</td>\n",
       "      <td>Personal Care,Medicine Cabinet,Lubricant/Sperm...</td>\n",
       "      <td>2017-07-25T16:26:19Z</td>\n",
       "      <td>2018-02-05T11:25:51Z</td>\n",
       "      <td>67981934427</td>\n",
       "      <td>kylovesensualitypleasuregel/b00u2whx8s,0679819...</td>\n",
       "      <td>K-Y</td>\n",
       "      <td>67981934427</td>\n",
       "      <td>K-Y Love Sensuality Pleasure Gel</td>\n",
       "      <td>...</td>\n",
       "      <td>131769441.0</td>\n",
       "      <td>NaN</td>\n",
       "      <td>1</td>\n",
       "      <td>https://www.walmart.com/reviews/product/43383370</td>\n",
       "      <td>I bought this product for my husband and I to ...</td>\n",
       "      <td>Not happy at all</td>\n",
       "      <td>NaN</td>\n",
       "      <td>NaN</td>\n",
       "      <td>Kimmie</td>\n",
       "      <td>67981934427</td>\n",
       "    </tr>\n",
       "    <tr>\n",
       "      <th>8</th>\n",
       "      <td>AV16khLE-jtxr-f38VFn</td>\n",
       "      <td>K-Y</td>\n",
       "      <td>Personal Care,Medicine Cabinet,Lubricant/Sperm...</td>\n",
       "      <td>2017-07-25T16:26:19Z</td>\n",
       "      <td>2018-02-05T11:25:51Z</td>\n",
       "      <td>67981934427</td>\n",
       "      <td>kylovesensualitypleasuregel/b00u2whx8s,0679819...</td>\n",
       "      <td>K-Y</td>\n",
       "      <td>67981934427</td>\n",
       "      <td>K-Y Love Sensuality Pleasure Gel</td>\n",
       "      <td>...</td>\n",
       "      <td>148314686.0</td>\n",
       "      <td>NaN</td>\n",
       "      <td>1</td>\n",
       "      <td>https://www.walmart.com/reviews/product/43383370</td>\n",
       "      <td>My husband and I bought this for some extra fu...</td>\n",
       "      <td>Very disappointing</td>\n",
       "      <td>NaN</td>\n",
       "      <td>NaN</td>\n",
       "      <td>cassie</td>\n",
       "      <td>67981934427</td>\n",
       "    </tr>\n",
       "    <tr>\n",
       "      <th>9</th>\n",
       "      <td>AV16khLE-jtxr-f38VFn</td>\n",
       "      <td>K-Y</td>\n",
       "      <td>Personal Care,Medicine Cabinet,Lubricant/Sperm...</td>\n",
       "      <td>2017-07-25T16:26:19Z</td>\n",
       "      <td>2018-02-05T11:25:51Z</td>\n",
       "      <td>67981934427</td>\n",
       "      <td>kylovesensualitypleasuregel/b00u2whx8s,0679819...</td>\n",
       "      <td>K-Y</td>\n",
       "      <td>67981934427</td>\n",
       "      <td>K-Y Love Sensuality Pleasure Gel</td>\n",
       "      <td>...</td>\n",
       "      <td>147862051.0</td>\n",
       "      <td>NaN</td>\n",
       "      <td>1</td>\n",
       "      <td>https://www.walmart.com/reviews/product/43383370</td>\n",
       "      <td>Got as a surprise for my husband there is noth...</td>\n",
       "      <td>Don't buy</td>\n",
       "      <td>NaN</td>\n",
       "      <td>NaN</td>\n",
       "      <td>Moore222</td>\n",
       "      <td>67981934427</td>\n",
       "    </tr>\n",
       "  </tbody>\n",
       "</table>\n",
       "<p>10 rows × 25 columns</p>\n",
       "</div>"
      ],
      "text/plain": [
       "                     id            brand  \\\n",
       "0  AV13O1A8GV-KLJ3akUyj  Universal Music   \n",
       "1  AV14LG0R-jtxr-f38QfS         Lundberg   \n",
       "2  AV14LG0R-jtxr-f38QfS         Lundberg   \n",
       "3  AV16khLE-jtxr-f38VFn              K-Y   \n",
       "4  AV16khLE-jtxr-f38VFn              K-Y   \n",
       "5  AV16khLE-jtxr-f38VFn              K-Y   \n",
       "6  AV16khLE-jtxr-f38VFn              K-Y   \n",
       "7  AV16khLE-jtxr-f38VFn              K-Y   \n",
       "8  AV16khLE-jtxr-f38VFn              K-Y   \n",
       "9  AV16khLE-jtxr-f38VFn              K-Y   \n",
       "\n",
       "                                          categories             dateAdded  \\\n",
       "0  Movies, Music & Books,Music,R&b,Movies & TV,Mo...  2017-07-25T00:52:42Z   \n",
       "1  Food,Packaged Foods,Snacks,Crackers,Snacks, Co...  2017-07-25T05:16:03Z   \n",
       "2  Food,Packaged Foods,Snacks,Crackers,Snacks, Co...  2017-07-25T05:16:03Z   \n",
       "3  Personal Care,Medicine Cabinet,Lubricant/Sperm...  2017-07-25T16:26:19Z   \n",
       "4  Personal Care,Medicine Cabinet,Lubricant/Sperm...  2017-07-25T16:26:19Z   \n",
       "5  Personal Care,Medicine Cabinet,Lubricant/Sperm...  2017-07-25T16:26:19Z   \n",
       "6  Personal Care,Medicine Cabinet,Lubricant/Sperm...  2017-07-25T16:26:19Z   \n",
       "7  Personal Care,Medicine Cabinet,Lubricant/Sperm...  2017-07-25T16:26:19Z   \n",
       "8  Personal Care,Medicine Cabinet,Lubricant/Sperm...  2017-07-25T16:26:19Z   \n",
       "9  Personal Care,Medicine Cabinet,Lubricant/Sperm...  2017-07-25T16:26:19Z   \n",
       "\n",
       "            dateUpdated          ean  \\\n",
       "0  2018-02-05T08:36:58Z     6.03E+11   \n",
       "1  2018-02-05T11:27:45Z  73416000391   \n",
       "2  2018-02-05T11:27:45Z  73416000391   \n",
       "3  2018-02-05T11:25:51Z  67981934427   \n",
       "4  2018-02-05T11:25:51Z  67981934427   \n",
       "5  2018-02-05T11:25:51Z  67981934427   \n",
       "6  2018-02-05T11:25:51Z  67981934427   \n",
       "7  2018-02-05T11:25:51Z  67981934427   \n",
       "8  2018-02-05T11:25:51Z  67981934427   \n",
       "9  2018-02-05T11:25:51Z  67981934427   \n",
       "\n",
       "                                                keys  \\\n",
       "0  602537205981,universalmusic/14331328,universal...   \n",
       "1  lundbergorganiccinnamontoastricecakes/b000fvzw...   \n",
       "2  lundbergorganiccinnamontoastricecakes/b000fvzw...   \n",
       "3  kylovesensualitypleasuregel/b00u2whx8s,0679819...   \n",
       "4  kylovesensualitypleasuregel/b00u2whx8s,0679819...   \n",
       "5  kylovesensualitypleasuregel/b00u2whx8s,0679819...   \n",
       "6  kylovesensualitypleasuregel/b00u2whx8s,0679819...   \n",
       "7  kylovesensualitypleasuregel/b00u2whx8s,0679819...   \n",
       "8  kylovesensualitypleasuregel/b00u2whx8s,0679819...   \n",
       "9  kylovesensualitypleasuregel/b00u2whx8s,0679819...   \n",
       "\n",
       "                         manufacturer manufacturerNumber  \\\n",
       "0  Universal Music Group / Cash Money           14331328   \n",
       "1                            Lundberg             574764   \n",
       "2                            Lundberg             574764   \n",
       "3                                 K-Y        67981934427   \n",
       "4                                 K-Y        67981934427   \n",
       "5                                 K-Y        67981934427   \n",
       "6                                 K-Y        67981934427   \n",
       "7                                 K-Y        67981934427   \n",
       "8                                 K-Y        67981934427   \n",
       "9                                 K-Y        67981934427   \n",
       "\n",
       "                                         name     ...        reviews.id  \\\n",
       "0   Pink Friday: Roman Reloaded Re-Up (w/dvd)     ...               NaN   \n",
       "1  Lundberg Organic Cinnamon Toast Rice Cakes     ...       100209113.0   \n",
       "2  Lundberg Organic Cinnamon Toast Rice Cakes     ...       100209113.0   \n",
       "3            K-Y Love Sensuality Pleasure Gel     ...       113026909.0   \n",
       "4            K-Y Love Sensuality Pleasure Gel     ...       171267657.0   \n",
       "5            K-Y Love Sensuality Pleasure Gel     ...       149773828.0   \n",
       "6            K-Y Love Sensuality Pleasure Gel     ...       129088591.0   \n",
       "7            K-Y Love Sensuality Pleasure Gel     ...       131769441.0   \n",
       "8            K-Y Love Sensuality Pleasure Gel     ...       148314686.0   \n",
       "9            K-Y Love Sensuality Pleasure Gel     ...       147862051.0   \n",
       "\n",
       "  reviews.numHelpful Online_Reviews_Rating  \\\n",
       "0                0.0                     5   \n",
       "1                NaN                     5   \n",
       "2                NaN                     5   \n",
       "3                NaN                     1   \n",
       "4                NaN                     1   \n",
       "5                NaN                     1   \n",
       "6                NaN                     1   \n",
       "7                NaN                     1   \n",
       "8                NaN                     1   \n",
       "9                NaN                     1   \n",
       "\n",
       "                                  reviews.sourceURLs  \\\n",
       "0  https://redsky.target.com/groot-domain-api/v1/...   \n",
       "1   https://www.walmart.com/reviews/product/29775278   \n",
       "2   https://www.walmart.com/reviews/product/29775278   \n",
       "3   https://www.walmart.com/reviews/product/43383370   \n",
       "4   https://www.walmart.com/reviews/product/43383370   \n",
       "5   https://www.walmart.com/reviews/product/43383370   \n",
       "6   https://www.walmart.com/reviews/product/43383370   \n",
       "7   https://www.walmart.com/reviews/product/43383370   \n",
       "8   https://www.walmart.com/reviews/product/43383370   \n",
       "9   https://www.walmart.com/reviews/product/43383370   \n",
       "\n",
       "                                      Online_Reviews       reviews.title  \\\n",
       "0  i love this album. it's very good. more to the...        Just Awesome   \n",
       "1  Good flavor. This review was collected as part...                Good   \n",
       "2                                       Good flavor.                Good   \n",
       "3  I read through the reviews on here before look...        Disappointed   \n",
       "4  My husband bought this gel for us. The gel cau...          Irritation   \n",
       "5  My boyfriend and I bought this to spice things...        Not worth it   \n",
       "6  Bought this earlier today and was excited to c...       Disappointing   \n",
       "7  I bought this product for my husband and I to ...    Not happy at all   \n",
       "8  My husband and I bought this for some extra fu...  Very disappointing   \n",
       "9  Got as a surprise for my husband there is noth...           Don't buy   \n",
       "\n",
       "   reviews.userCity  reviews.userProvince reviews.username          upc  \n",
       "0       Los Angeles                   NaN           Joshua     6.03E+11  \n",
       "1               NaN                   NaN        Dorothy W  73416000391  \n",
       "2               NaN                   NaN        Dorothy W  73416000391  \n",
       "3               NaN                   NaN          Rebecca  67981934427  \n",
       "4               NaN                   NaN        Walker557  67981934427  \n",
       "5               NaN                   NaN         Samantha  67981934427  \n",
       "6               NaN                   NaN          Raeanne  67981934427  \n",
       "7               NaN                   NaN           Kimmie  67981934427  \n",
       "8               NaN                   NaN           cassie  67981934427  \n",
       "9               NaN                   NaN         Moore222  67981934427  \n",
       "\n",
       "[10 rows x 25 columns]"
      ]
     },
     "execution_count": 2,
     "metadata": {},
     "output_type": "execute_result"
    }
   ],
   "source": [
    "#import data set\n",
    "df = pd.read_csv(\"GrammarandProductReviews.csv\")\n",
    "df.head(10)"
   ]
  },
  {
   "cell_type": "code",
   "execution_count": 3,
   "metadata": {},
   "outputs": [
    {
     "data": {
      "text/html": [
       "<div>\n",
       "<style scoped>\n",
       "    .dataframe tbody tr th:only-of-type {\n",
       "        vertical-align: middle;\n",
       "    }\n",
       "\n",
       "    .dataframe tbody tr th {\n",
       "        vertical-align: top;\n",
       "    }\n",
       "\n",
       "    .dataframe thead th {\n",
       "        text-align: right;\n",
       "    }\n",
       "</style>\n",
       "<table border=\"1\" class=\"dataframe\">\n",
       "  <thead>\n",
       "    <tr style=\"text-align: right;\">\n",
       "      <th></th>\n",
       "      <th>Online_Reviews_Rating</th>\n",
       "      <th>Online_Reviews</th>\n",
       "    </tr>\n",
       "  </thead>\n",
       "  <tbody>\n",
       "    <tr>\n",
       "      <th>0</th>\n",
       "      <td>5</td>\n",
       "      <td>i love this album. it's very good. more to the...</td>\n",
       "    </tr>\n",
       "    <tr>\n",
       "      <th>1</th>\n",
       "      <td>5</td>\n",
       "      <td>Good flavor. This review was collected as part...</td>\n",
       "    </tr>\n",
       "    <tr>\n",
       "      <th>2</th>\n",
       "      <td>5</td>\n",
       "      <td>Good flavor.</td>\n",
       "    </tr>\n",
       "    <tr>\n",
       "      <th>3</th>\n",
       "      <td>1</td>\n",
       "      <td>I read through the reviews on here before look...</td>\n",
       "    </tr>\n",
       "    <tr>\n",
       "      <th>4</th>\n",
       "      <td>1</td>\n",
       "      <td>My husband bought this gel for us. The gel cau...</td>\n",
       "    </tr>\n",
       "    <tr>\n",
       "      <th>5</th>\n",
       "      <td>1</td>\n",
       "      <td>My boyfriend and I bought this to spice things...</td>\n",
       "    </tr>\n",
       "    <tr>\n",
       "      <th>6</th>\n",
       "      <td>1</td>\n",
       "      <td>Bought this earlier today and was excited to c...</td>\n",
       "    </tr>\n",
       "    <tr>\n",
       "      <th>7</th>\n",
       "      <td>1</td>\n",
       "      <td>I bought this product for my husband and I to ...</td>\n",
       "    </tr>\n",
       "    <tr>\n",
       "      <th>8</th>\n",
       "      <td>1</td>\n",
       "      <td>My husband and I bought this for some extra fu...</td>\n",
       "    </tr>\n",
       "    <tr>\n",
       "      <th>9</th>\n",
       "      <td>1</td>\n",
       "      <td>Got as a surprise for my husband there is noth...</td>\n",
       "    </tr>\n",
       "  </tbody>\n",
       "</table>\n",
       "</div>"
      ],
      "text/plain": [
       "   Online_Reviews_Rating                                     Online_Reviews\n",
       "0                      5  i love this album. it's very good. more to the...\n",
       "1                      5  Good flavor. This review was collected as part...\n",
       "2                      5                                       Good flavor.\n",
       "3                      1  I read through the reviews on here before look...\n",
       "4                      1  My husband bought this gel for us. The gel cau...\n",
       "5                      1  My boyfriend and I bought this to spice things...\n",
       "6                      1  Bought this earlier today and was excited to c...\n",
       "7                      1  I bought this product for my husband and I to ...\n",
       "8                      1  My husband and I bought this for some extra fu...\n",
       "9                      1  Got as a surprise for my husband there is noth..."
      ]
     },
     "execution_count": 3,
     "metadata": {},
     "output_type": "execute_result"
    }
   ],
   "source": [
    "#Filter data\n",
    "filtered_data = df[['Online_Reviews_Rating' , 'Online_Reviews']]\n",
    "filtered_data.head(10)"
   ]
  },
  {
   "cell_type": "code",
   "execution_count": 4,
   "metadata": {},
   "outputs": [
    {
     "data": {
      "text/plain": [
       "Online_Reviews_Rating    False\n",
       "Online_Reviews           False\n",
       "dtype: bool"
      ]
     },
     "execution_count": 4,
     "metadata": {},
     "output_type": "execute_result"
    }
   ],
   "source": [
    "#check for missing data\n",
    "filtered_data.isnull().any()"
   ]
  },
  {
   "cell_type": "code",
   "execution_count": 5,
   "metadata": {},
   "outputs": [
    {
     "data": {
      "text/plain": [
       "Online_Reviews_Rating    0\n",
       "Online_Reviews           0\n",
       "dtype: int64"
      ]
     },
     "execution_count": 5,
     "metadata": {},
     "output_type": "execute_result"
    }
   ],
   "source": [
    "filtered_data.isnull().sum()"
   ]
  },
  {
   "cell_type": "code",
   "execution_count": 6,
   "metadata": {},
   "outputs": [
    {
     "name": "stderr",
     "output_type": "stream",
     "text": [
      "c:\\python\\lib\\site-packages\\ipykernel_launcher.py:11: SettingWithCopyWarning: \n",
      "A value is trying to be set on a copy of a slice from a DataFrame.\n",
      "Try using .loc[row_indexer,col_indexer] = value instead\n",
      "\n",
      "See the caveats in the documentation: http://pandas.pydata.org/pandas-docs/stable/indexing.html#indexing-view-versus-copy\n",
      "  # This is added back by InteractiveShellApp.init_path()\n"
     ]
    }
   ],
   "source": [
    "def func(row):\n",
    "    #print(row)\n",
    "    if row>4.0:       \n",
    "        return 'Good opinion'\n",
    "    elif row>2.0 and row<=4.0:\n",
    "        return 'Average opinion'\n",
    "    else:\n",
    "        return 'Bad opinion'\n",
    "    \n",
    "\n",
    "filtered_data[\"Opinion\"] = filtered_data[\"Online_Reviews_Rating\"].apply(func)"
   ]
  },
  {
   "cell_type": "code",
   "execution_count": 7,
   "metadata": {},
   "outputs": [
    {
     "data": {
      "text/html": [
       "<div>\n",
       "<style scoped>\n",
       "    .dataframe tbody tr th:only-of-type {\n",
       "        vertical-align: middle;\n",
       "    }\n",
       "\n",
       "    .dataframe tbody tr th {\n",
       "        vertical-align: top;\n",
       "    }\n",
       "\n",
       "    .dataframe thead th {\n",
       "        text-align: right;\n",
       "    }\n",
       "</style>\n",
       "<table border=\"1\" class=\"dataframe\">\n",
       "  <thead>\n",
       "    <tr style=\"text-align: right;\">\n",
       "      <th></th>\n",
       "      <th>Online_Reviews_Rating</th>\n",
       "      <th>Online_Reviews</th>\n",
       "      <th>Opinion</th>\n",
       "    </tr>\n",
       "  </thead>\n",
       "  <tbody>\n",
       "    <tr>\n",
       "      <th>0</th>\n",
       "      <td>5</td>\n",
       "      <td>i love this album. it's very good. more to the...</td>\n",
       "      <td>Good opinion</td>\n",
       "    </tr>\n",
       "    <tr>\n",
       "      <th>1</th>\n",
       "      <td>5</td>\n",
       "      <td>Good flavor. This review was collected as part...</td>\n",
       "      <td>Good opinion</td>\n",
       "    </tr>\n",
       "    <tr>\n",
       "      <th>2</th>\n",
       "      <td>5</td>\n",
       "      <td>Good flavor.</td>\n",
       "      <td>Good opinion</td>\n",
       "    </tr>\n",
       "    <tr>\n",
       "      <th>3</th>\n",
       "      <td>1</td>\n",
       "      <td>I read through the reviews on here before look...</td>\n",
       "      <td>Bad opinion</td>\n",
       "    </tr>\n",
       "    <tr>\n",
       "      <th>4</th>\n",
       "      <td>1</td>\n",
       "      <td>My husband bought this gel for us. The gel cau...</td>\n",
       "      <td>Bad opinion</td>\n",
       "    </tr>\n",
       "    <tr>\n",
       "      <th>5</th>\n",
       "      <td>1</td>\n",
       "      <td>My boyfriend and I bought this to spice things...</td>\n",
       "      <td>Bad opinion</td>\n",
       "    </tr>\n",
       "    <tr>\n",
       "      <th>6</th>\n",
       "      <td>1</td>\n",
       "      <td>Bought this earlier today and was excited to c...</td>\n",
       "      <td>Bad opinion</td>\n",
       "    </tr>\n",
       "    <tr>\n",
       "      <th>7</th>\n",
       "      <td>1</td>\n",
       "      <td>I bought this product for my husband and I to ...</td>\n",
       "      <td>Bad opinion</td>\n",
       "    </tr>\n",
       "    <tr>\n",
       "      <th>8</th>\n",
       "      <td>1</td>\n",
       "      <td>My husband and I bought this for some extra fu...</td>\n",
       "      <td>Bad opinion</td>\n",
       "    </tr>\n",
       "    <tr>\n",
       "      <th>9</th>\n",
       "      <td>1</td>\n",
       "      <td>Got as a surprise for my husband there is noth...</td>\n",
       "      <td>Bad opinion</td>\n",
       "    </tr>\n",
       "  </tbody>\n",
       "</table>\n",
       "</div>"
      ],
      "text/plain": [
       "   Online_Reviews_Rating                                     Online_Reviews  \\\n",
       "0                      5  i love this album. it's very good. more to the...   \n",
       "1                      5  Good flavor. This review was collected as part...   \n",
       "2                      5                                       Good flavor.   \n",
       "3                      1  I read through the reviews on here before look...   \n",
       "4                      1  My husband bought this gel for us. The gel cau...   \n",
       "5                      1  My boyfriend and I bought this to spice things...   \n",
       "6                      1  Bought this earlier today and was excited to c...   \n",
       "7                      1  I bought this product for my husband and I to ...   \n",
       "8                      1  My husband and I bought this for some extra fu...   \n",
       "9                      1  Got as a surprise for my husband there is noth...   \n",
       "\n",
       "        Opinion  \n",
       "0  Good opinion  \n",
       "1  Good opinion  \n",
       "2  Good opinion  \n",
       "3   Bad opinion  \n",
       "4   Bad opinion  \n",
       "5   Bad opinion  \n",
       "6   Bad opinion  \n",
       "7   Bad opinion  \n",
       "8   Bad opinion  \n",
       "9   Bad opinion  "
      ]
     },
     "execution_count": 7,
     "metadata": {},
     "output_type": "execute_result"
    }
   ],
   "source": [
    "filtered_data.head(10)"
   ]
  },
  {
   "cell_type": "code",
   "execution_count": 8,
   "metadata": {},
   "outputs": [
    {
     "name": "stdout",
     "output_type": "stream",
     "text": [
      "Good opinion       15259\n",
      "Average opinion     4189\n",
      "Bad opinion          552\n",
      "Name: Opinion, dtype: int64\n"
     ]
    }
   ],
   "source": [
    "#Total counts of opinion categories\n",
    "print(filtered_data[\"Opinion\"].value_counts())"
   ]
  },
  {
   "cell_type": "code",
   "execution_count": 9,
   "metadata": {},
   "outputs": [
    {
     "data": {
      "text/plain": [
       "<matplotlib.axes._subplots.AxesSubplot at 0x14637780>"
      ]
     },
     "execution_count": 9,
     "metadata": {},
     "output_type": "execute_result"
    },
    {
     "data": {
      "image/png": "[encoded data removed]",
      "text/plain": [
       "<matplotlib.figure.Figure at 0x145effd0>"
      ]
     },
     "metadata": {},
     "output_type": "display_data"
    }
   ],
   "source": [
    "#opinion categrory graph\n",
    "filtered_data[\"Opinion\"].value_counts().plot.bar()"
   ]
  },
  {
   "cell_type": "code",
   "execution_count": 10,
   "metadata": {},
   "outputs": [],
   "source": [
    "\n",
    "def text_process(review_message):\n",
    "    \n",
    "    cleantext_reg = re.compile('[^a-z]+')\n",
    "\n",
    "    nopunc = [char for char in review_message if char not in string.punctuation]\n",
    "\n",
    "    nopunc = ''.join(nopunc)\n",
    "    \n",
    "    lower_case = nopunc.lower()\n",
    "    processed_review = cleantext_reg.sub(' ', lower_case).strip()\n",
    "    \n",
    "    return processed_review"
   ]
  },
  {
   "cell_type": "code",
   "execution_count": 11,
   "metadata": {},
   "outputs": [
    {
     "name": "stderr",
     "output_type": "stream",
     "text": [
      "c:\\python\\lib\\site-packages\\ipykernel_launcher.py:1: SettingWithCopyWarning: \n",
      "A value is trying to be set on a copy of a slice from a DataFrame.\n",
      "Try using .loc[row_indexer,col_indexer] = value instead\n",
      "\n",
      "See the caveats in the documentation: http://pandas.pydata.org/pandas-docs/stable/indexing.html#indexing-view-versus-copy\n",
      "  \"\"\"Entry point for launching an IPython kernel.\n"
     ]
    }
   ],
   "source": [
    "filtered_data[\"Preprocessed_Opinion\"] = filtered_data[\"Online_Reviews\"].apply(text_process)"
   ]
  },
  {
   "cell_type": "code",
   "execution_count": 12,
   "metadata": {},
   "outputs": [
    {
     "data": {
      "text/html": [
       "<div>\n",
       "<style scoped>\n",
       "    .dataframe tbody tr th:only-of-type {\n",
       "        vertical-align: middle;\n",
       "    }\n",
       "\n",
       "    .dataframe tbody tr th {\n",
       "        vertical-align: top;\n",
       "    }\n",
       "\n",
       "    .dataframe thead th {\n",
       "        text-align: right;\n",
       "    }\n",
       "</style>\n",
       "<table border=\"1\" class=\"dataframe\">\n",
       "  <thead>\n",
       "    <tr style=\"text-align: right;\">\n",
       "      <th></th>\n",
       "      <th>Online_Reviews_Rating</th>\n",
       "      <th>Online_Reviews</th>\n",
       "      <th>Opinion</th>\n",
       "      <th>Preprocessed_Opinion</th>\n",
       "    </tr>\n",
       "  </thead>\n",
       "  <tbody>\n",
       "    <tr>\n",
       "      <th>0</th>\n",
       "      <td>5</td>\n",
       "      <td>i love this album. it's very good. more to the...</td>\n",
       "      <td>Good opinion</td>\n",
       "      <td>i love this album its very good more to the hi...</td>\n",
       "    </tr>\n",
       "    <tr>\n",
       "      <th>1</th>\n",
       "      <td>5</td>\n",
       "      <td>Good flavor. This review was collected as part...</td>\n",
       "      <td>Good opinion</td>\n",
       "      <td>good flavor this review was collected as part ...</td>\n",
       "    </tr>\n",
       "    <tr>\n",
       "      <th>2</th>\n",
       "      <td>5</td>\n",
       "      <td>Good flavor.</td>\n",
       "      <td>Good opinion</td>\n",
       "      <td>good flavor</td>\n",
       "    </tr>\n",
       "    <tr>\n",
       "      <th>3</th>\n",
       "      <td>1</td>\n",
       "      <td>I read through the reviews on here before look...</td>\n",
       "      <td>Bad opinion</td>\n",
       "      <td>i read through the reviews on here before look...</td>\n",
       "    </tr>\n",
       "    <tr>\n",
       "      <th>4</th>\n",
       "      <td>1</td>\n",
       "      <td>My husband bought this gel for us. The gel cau...</td>\n",
       "      <td>Bad opinion</td>\n",
       "      <td>my husband bought this gel for us the gel caus...</td>\n",
       "    </tr>\n",
       "  </tbody>\n",
       "</table>\n",
       "</div>"
      ],
      "text/plain": [
       "   Online_Reviews_Rating                                     Online_Reviews  \\\n",
       "0                      5  i love this album. it's very good. more to the...   \n",
       "1                      5  Good flavor. This review was collected as part...   \n",
       "2                      5                                       Good flavor.   \n",
       "3                      1  I read through the reviews on here before look...   \n",
       "4                      1  My husband bought this gel for us. The gel cau...   \n",
       "\n",
       "        Opinion                               Preprocessed_Opinion  \n",
       "0  Good opinion  i love this album its very good more to the hi...  \n",
       "1  Good opinion  good flavor this review was collected as part ...  \n",
       "2  Good opinion                                        good flavor  \n",
       "3   Bad opinion  i read through the reviews on here before look...  \n",
       "4   Bad opinion  my husband bought this gel for us the gel caus...  "
      ]
     },
     "execution_count": 12,
     "metadata": {},
     "output_type": "execute_result"
    }
   ],
   "source": [
    "filtered_data.head()"
   ]
  },
  {
   "cell_type": "code",
   "execution_count": 13,
   "metadata": {},
   "outputs": [
    {
     "name": "stdout",
     "output_type": "stream",
     "text": [
      "16000 4000 20000\n"
     ]
    }
   ],
   "source": [
    "processed_review_train, processed_review_test, opinion_train, opinion_test = train_test_split(filtered_data[\"Preprocessed_Opinion\"], filtered_data[\"Opinion\"], test_size=0.2,random_state=101)\n",
    "\n",
    "print(len(processed_review_train), len(processed_review_test), len(processed_review_train) + len(processed_review_test))"
   ]
  },
  {
   "cell_type": "code",
   "execution_count": 14,
   "metadata": {},
   "outputs": [
    {
     "name": "stdout",
     "output_type": "stream",
     "text": [
      "[('part', 7573), ('review', 7505), ('collected', 7408), ('promotion', 7408), ('review collected', 7407), ('collected part', 7407), ('part promotion', 7407), ('review collected part', 7407), ('collected part promotion', 7407), ('use', 6703)]\n"
     ]
    }
   ],
   "source": [
    "from wordcloud import STOPWORDS\n",
    "\n",
    "stopwords = set(STOPWORDS)\n",
    "swords=list(stopwords)\n",
    "swords.remove(\"not\")\n",
    "\n",
    "vec = CountVectorizer(min_df=2 ,stop_words=frozenset(swords) , ngram_range=(1,3)).fit(filtered_data[\"Preprocessed_Opinion\"])\n",
    "\n",
    "bag_of_words = vec.transform(filtered_data[\"Preprocessed_Opinion\"])\n",
    "sum_words = bag_of_words.sum(axis=0)\n",
    "words_freq = [(word, sum_words[0, idx]) for word, idx in vec.vocabulary_.items()]\n",
    "words_freq =sorted(words_freq, key = lambda x: x[1], reverse=True)[:10]\n",
    "print(words_freq)"
   ]
  },
  {
   "cell_type": "code",
   "execution_count": 15,
   "metadata": {},
   "outputs": [],
   "source": [
    "count_vect = CountVectorizer(min_df=2 ,stop_words=swords , ngram_range=(1,3))\n",
    "\n",
    "X_Train_counts = count_vect.fit_transform(processed_review_train)"
   ]
  },
  {
   "cell_type": "code",
   "execution_count": 16,
   "metadata": {},
   "outputs": [],
   "source": [
    "X_Test_counts = count_vect.transform(processed_review_test)"
   ]
  },
  {
   "cell_type": "code",
   "execution_count": 17,
   "metadata": {},
   "outputs": [
    {
     "name": "stdout",
     "output_type": "stream",
     "text": [
      "Shape of Sparse Matrix:  (4000, 53355)\n",
      "Amount of Non-Zero occurences:  100382\n"
     ]
    }
   ],
   "source": [
    "print('Shape of Sparse Matrix: ', X_Test_counts.shape)\n",
    "print('Amount of Non-Zero occurences: ', X_Test_counts.nnz)"
   ]
  },
  {
   "cell_type": "code",
   "execution_count": 18,
   "metadata": {},
   "outputs": [],
   "source": [
    "from sklearn.feature_extraction.text import TfidfTransformer\n",
    "tfidf_transformer = TfidfTransformer()\n",
    "X_Train_tfidf = tfidf_transformer.fit_transform(X_Train_counts)"
   ]
  },
  {
   "cell_type": "code",
   "execution_count": 19,
   "metadata": {},
   "outputs": [],
   "source": [
    "X_Test_tfidf = tfidf_transformer.transform(X_Test_counts)"
   ]
  },
  {
   "cell_type": "code",
   "execution_count": 20,
   "metadata": {},
   "outputs": [
    {
     "name": "stdout",
     "output_type": "stream",
     "text": [
      "(16000, 53355)\n",
      "(4000, 53355)\n"
     ]
    }
   ],
   "source": [
    "print(X_Train_tfidf.shape)\n",
    "print(X_Test_tfidf.shape)"
   ]
  },
  {
   "cell_type": "code",
   "execution_count": 21,
   "metadata": {},
   "outputs": [],
   "source": [
    "prediction={}"
   ]
  },
  {
   "cell_type": "code",
   "execution_count": 22,
   "metadata": {},
   "outputs": [
    {
     "name": "stdout",
     "output_type": "stream",
     "text": [
      "Logistic Regression Accuracy : 0.77\n"
     ]
    }
   ],
   "source": [
    "from sklearn import linear_model\n",
    "logreg = linear_model.LogisticRegression(solver='lbfgs' , C=10000)\n",
    "logistic = logreg.fit(X_Train_tfidf, opinion_train)\n",
    "prediction['LogisticRegression'] = logreg.predict(X_Test_tfidf)\n",
    "print(\"Logistic Regression Accuracy : {}\".format(logreg.score(X_Test_tfidf , opinion_test)))\n",
    "\n"
   ]
  },
  {
   "cell_type": "code",
   "execution_count": 23,
   "metadata": {},
   "outputs": [],
   "source": [
    "# Fitting SVM to the Training set\n",
    "from sklearn.svm import SVC\n",
    "svmclassifier = SVC(kernel = 'linear', random_state = 0)\n",
    "svmclassifier.fit(X_Train_tfidf, opinion_train)\n",
    "\n",
    "# Predicting the Test set results\n",
    "prediction['SVM'] = svmclassifier.predict(X_Test_tfidf)"
   ]
  },
  {
   "cell_type": "code",
   "execution_count": 24,
   "metadata": {},
   "outputs": [
    {
     "name": "stdout",
     "output_type": "stream",
     "text": [
      "SVM Accuracy : 0.795\n"
     ]
    }
   ],
   "source": [
    "print(\"SVM Accuracy : {}\".format(svmclassifier.score(X_Test_tfidf , opinion_test)))\n"
   ]
  },
  {
   "cell_type": "code",
   "execution_count": 25,
   "metadata": {},
   "outputs": [
    {
     "name": "stdout",
     "output_type": "stream",
     "text": [
      "                                      Online_Reviews\n",
      "0  I only use the Shampoo Suave Sleek and its the...\n",
      "1  I absolutely love this shampoo ! It has made m...\n",
      "2  Works like the most expensive shampoo but at a...\n",
      "3  I have curly unruly hair, and Suave Sleek and ...\n",
      "4  I love this shampoo! Years ago, I was having s...\n",
      "5  Texture not quite what I've had in other brand...\n",
      "6  I've had premium tuna in a can and this was no...\n",
      "7                    Tuna is good. Not cheap though.\n",
      "8  This is the only tunI buy. If you are a tuna f...\n",
      "9  I had 2 cans of tuna. One was Bumble Bee the o...\n",
      "Online_Reviews    150\n",
      "dtype: int64\n"
     ]
    }
   ],
   "source": [
    "new_reviewsdf = pd.read_csv(\"Predict_NewOnlineReview.csv\")\n",
    "new_reviewsfiltered_data = new_reviewsdf[['Online_Reviews']]\n",
    "print(new_reviewsfiltered_data.head(10))\n",
    "print(new_reviewsfiltered_data.count())"
   ]
  },
  {
   "cell_type": "code",
   "execution_count": 26,
   "metadata": {},
   "outputs": [
    {
     "name": "stderr",
     "output_type": "stream",
     "text": [
      "c:\\python\\lib\\site-packages\\ipykernel_launcher.py:1: SettingWithCopyWarning: \n",
      "A value is trying to be set on a copy of a slice from a DataFrame.\n",
      "Try using .loc[row_indexer,col_indexer] = value instead\n",
      "\n",
      "See the caveats in the documentation: http://pandas.pydata.org/pandas-docs/stable/indexing.html#indexing-view-versus-copy\n",
      "  \"\"\"Entry point for launching an IPython kernel.\n"
     ]
    }
   ],
   "source": [
    "new_reviewsfiltered_data[\"Preprocessed_Opinion\"] = new_reviewsfiltered_data[\"Online_Reviews\"].apply(text_process)"
   ]
  },
  {
   "cell_type": "code",
   "execution_count": 27,
   "metadata": {},
   "outputs": [
    {
     "data": {
      "text/html": [
       "<div>\n",
       "<style scoped>\n",
       "    .dataframe tbody tr th:only-of-type {\n",
       "        vertical-align: middle;\n",
       "    }\n",
       "\n",
       "    .dataframe tbody tr th {\n",
       "        vertical-align: top;\n",
       "    }\n",
       "\n",
       "    .dataframe thead th {\n",
       "        text-align: right;\n",
       "    }\n",
       "</style>\n",
       "<table border=\"1\" class=\"dataframe\">\n",
       "  <thead>\n",
       "    <tr style=\"text-align: right;\">\n",
       "      <th></th>\n",
       "      <th>Online_Reviews</th>\n",
       "      <th>Preprocessed_Opinion</th>\n",
       "    </tr>\n",
       "  </thead>\n",
       "  <tbody>\n",
       "    <tr>\n",
       "      <th>0</th>\n",
       "      <td>I only use the Shampoo Suave Sleek and its the...</td>\n",
       "      <td>i only use the shampoo suave sleek and its the...</td>\n",
       "    </tr>\n",
       "    <tr>\n",
       "      <th>1</th>\n",
       "      <td>I absolutely love this shampoo ! It has made m...</td>\n",
       "      <td>i absolutely love this shampoo it has made my ...</td>\n",
       "    </tr>\n",
       "    <tr>\n",
       "      <th>2</th>\n",
       "      <td>Works like the most expensive shampoo but at a...</td>\n",
       "      <td>works like the most expensive shampoo but at a...</td>\n",
       "    </tr>\n",
       "    <tr>\n",
       "      <th>3</th>\n",
       "      <td>I have curly unruly hair, and Suave Sleek and ...</td>\n",
       "      <td>i have curly unruly hair and suave sleek and s...</td>\n",
       "    </tr>\n",
       "    <tr>\n",
       "      <th>4</th>\n",
       "      <td>I love this shampoo! Years ago, I was having s...</td>\n",
       "      <td>i love this shampoo years ago i was having so ...</td>\n",
       "    </tr>\n",
       "  </tbody>\n",
       "</table>\n",
       "</div>"
      ],
      "text/plain": [
       "                                      Online_Reviews  \\\n",
       "0  I only use the Shampoo Suave Sleek and its the...   \n",
       "1  I absolutely love this shampoo ! It has made m...   \n",
       "2  Works like the most expensive shampoo but at a...   \n",
       "3  I have curly unruly hair, and Suave Sleek and ...   \n",
       "4  I love this shampoo! Years ago, I was having s...   \n",
       "\n",
       "                                Preprocessed_Opinion  \n",
       "0  i only use the shampoo suave sleek and its the...  \n",
       "1  i absolutely love this shampoo it has made my ...  \n",
       "2  works like the most expensive shampoo but at a...  \n",
       "3  i have curly unruly hair and suave sleek and s...  \n",
       "4  i love this shampoo years ago i was having so ...  "
      ]
     },
     "execution_count": 27,
     "metadata": {},
     "output_type": "execute_result"
    }
   ],
   "source": [
    "new_reviewsfiltered_data.head()"
   ]
  },
  {
   "cell_type": "code",
   "execution_count": 28,
   "metadata": {},
   "outputs": [],
   "source": [
    "New_Reviews_counts = count_vect.transform(new_reviewsfiltered_data[\"Preprocessed_Opinion\"])\n",
    "New_Reviews_tfidf = tfidf_transformer.transform(New_Reviews_counts)"
   ]
  },
  {
   "cell_type": "code",
   "execution_count": 29,
   "metadata": {},
   "outputs": [
    {
     "name": "stdout",
     "output_type": "stream",
     "text": [
      "[[0. 0. 0. ... 0. 0. 0.]\n",
      " [0. 0. 0. ... 0. 0. 0.]\n",
      " [0. 0. 0. ... 0. 0. 0.]\n",
      " ...\n",
      " [0. 0. 0. ... 0. 0. 0.]\n",
      " [0. 0. 0. ... 0. 0. 0.]\n",
      " [0. 0. 0. ... 0. 0. 0.]]\n",
      "(150, 53355)\n"
     ]
    }
   ],
   "source": [
    "print(New_Reviews_tfidf.toarray())\n",
    "print(New_Reviews_tfidf.shape)"
   ]
  },
  {
   "cell_type": "code",
   "execution_count": 30,
   "metadata": {},
   "outputs": [
    {
     "name": "stderr",
     "output_type": "stream",
     "text": [
      "c:\\python\\lib\\site-packages\\ipykernel_launcher.py:1: SettingWithCopyWarning: \n",
      "A value is trying to be set on a copy of a slice from a DataFrame.\n",
      "Try using .loc[row_indexer,col_indexer] = value instead\n",
      "\n",
      "See the caveats in the documentation: http://pandas.pydata.org/pandas-docs/stable/indexing.html#indexing-view-versus-copy\n",
      "  \"\"\"Entry point for launching an IPython kernel.\n"
     ]
    }
   ],
   "source": [
    "new_reviewsfiltered_data[\"Logistic Regression\"] = logreg.predict(New_Reviews_tfidf)"
   ]
  },
  {
   "cell_type": "code",
   "execution_count": 31,
   "metadata": {},
   "outputs": [
    {
     "data": {
      "text/html": [
       "<div>\n",
       "<style scoped>\n",
       "    .dataframe tbody tr th:only-of-type {\n",
       "        vertical-align: middle;\n",
       "    }\n",
       "\n",
       "    .dataframe tbody tr th {\n",
       "        vertical-align: top;\n",
       "    }\n",
       "\n",
       "    .dataframe thead th {\n",
       "        text-align: right;\n",
       "    }\n",
       "</style>\n",
       "<table border=\"1\" class=\"dataframe\">\n",
       "  <thead>\n",
       "    <tr style=\"text-align: right;\">\n",
       "      <th></th>\n",
       "      <th>Online_Reviews</th>\n",
       "      <th>Preprocessed_Opinion</th>\n",
       "      <th>Logistic Regression</th>\n",
       "    </tr>\n",
       "  </thead>\n",
       "  <tbody>\n",
       "    <tr>\n",
       "      <th>0</th>\n",
       "      <td>I only use the Shampoo Suave Sleek and its the...</td>\n",
       "      <td>i only use the shampoo suave sleek and its the...</td>\n",
       "      <td>Good opinion</td>\n",
       "    </tr>\n",
       "    <tr>\n",
       "      <th>1</th>\n",
       "      <td>I absolutely love this shampoo ! It has made m...</td>\n",
       "      <td>i absolutely love this shampoo it has made my ...</td>\n",
       "      <td>Good opinion</td>\n",
       "    </tr>\n",
       "    <tr>\n",
       "      <th>2</th>\n",
       "      <td>Works like the most expensive shampoo but at a...</td>\n",
       "      <td>works like the most expensive shampoo but at a...</td>\n",
       "      <td>Good opinion</td>\n",
       "    </tr>\n",
       "    <tr>\n",
       "      <th>3</th>\n",
       "      <td>I have curly unruly hair, and Suave Sleek and ...</td>\n",
       "      <td>i have curly unruly hair and suave sleek and s...</td>\n",
       "      <td>Good opinion</td>\n",
       "    </tr>\n",
       "    <tr>\n",
       "      <th>4</th>\n",
       "      <td>I love this shampoo! Years ago, I was having s...</td>\n",
       "      <td>i love this shampoo years ago i was having so ...</td>\n",
       "      <td>Average opinion</td>\n",
       "    </tr>\n",
       "    <tr>\n",
       "      <th>5</th>\n",
       "      <td>Texture not quite what I've had in other brand...</td>\n",
       "      <td>texture not quite what ive had in other brands...</td>\n",
       "      <td>Good opinion</td>\n",
       "    </tr>\n",
       "    <tr>\n",
       "      <th>6</th>\n",
       "      <td>I've had premium tuna in a can and this was no...</td>\n",
       "      <td>ive had premium tuna in a can and this was not...</td>\n",
       "      <td>Good opinion</td>\n",
       "    </tr>\n",
       "    <tr>\n",
       "      <th>7</th>\n",
       "      <td>Tuna is good. Not cheap though.</td>\n",
       "      <td>tuna is good not cheap though</td>\n",
       "      <td>Bad opinion</td>\n",
       "    </tr>\n",
       "    <tr>\n",
       "      <th>8</th>\n",
       "      <td>This is the only tunI buy. If you are a tuna f...</td>\n",
       "      <td>this is the only tuni buy if you are a tuna fa...</td>\n",
       "      <td>Good opinion</td>\n",
       "    </tr>\n",
       "    <tr>\n",
       "      <th>9</th>\n",
       "      <td>I had 2 cans of tuna. One was Bumble Bee the o...</td>\n",
       "      <td>i had cans of tuna one was bumble bee the othe...</td>\n",
       "      <td>Good opinion</td>\n",
       "    </tr>\n",
       "  </tbody>\n",
       "</table>\n",
       "</div>"
      ],
      "text/plain": [
       "                                      Online_Reviews  \\\n",
       "0  I only use the Shampoo Suave Sleek and its the...   \n",
       "1  I absolutely love this shampoo ! It has made m...   \n",
       "2  Works like the most expensive shampoo but at a...   \n",
       "3  I have curly unruly hair, and Suave Sleek and ...   \n",
       "4  I love this shampoo! Years ago, I was having s...   \n",
       "5  Texture not quite what I've had in other brand...   \n",
       "6  I've had premium tuna in a can and this was no...   \n",
       "7                    Tuna is good. Not cheap though.   \n",
       "8  This is the only tunI buy. If you are a tuna f...   \n",
       "9  I had 2 cans of tuna. One was Bumble Bee the o...   \n",
       "\n",
       "                                Preprocessed_Opinion Logistic Regression  \n",
       "0  i only use the shampoo suave sleek and its the...        Good opinion  \n",
       "1  i absolutely love this shampoo it has made my ...        Good opinion  \n",
       "2  works like the most expensive shampoo but at a...        Good opinion  \n",
       "3  i have curly unruly hair and suave sleek and s...        Good opinion  \n",
       "4  i love this shampoo years ago i was having so ...     Average opinion  \n",
       "5  texture not quite what ive had in other brands...        Good opinion  \n",
       "6  ive had premium tuna in a can and this was not...        Good opinion  \n",
       "7                      tuna is good not cheap though         Bad opinion  \n",
       "8  this is the only tuni buy if you are a tuna fa...        Good opinion  \n",
       "9  i had cans of tuna one was bumble bee the othe...        Good opinion  "
      ]
     },
     "execution_count": 31,
     "metadata": {},
     "output_type": "execute_result"
    }
   ],
   "source": [
    "new_reviewsfiltered_data.head(10)"
   ]
  },
  {
   "cell_type": "code",
   "execution_count": 32,
   "metadata": {},
   "outputs": [
    {
     "name": "stderr",
     "output_type": "stream",
     "text": [
      "c:\\python\\lib\\site-packages\\ipykernel_launcher.py:1: SettingWithCopyWarning: \n",
      "A value is trying to be set on a copy of a slice from a DataFrame.\n",
      "Try using .loc[row_indexer,col_indexer] = value instead\n",
      "\n",
      "See the caveats in the documentation: http://pandas.pydata.org/pandas-docs/stable/indexing.html#indexing-view-versus-copy\n",
      "  \"\"\"Entry point for launching an IPython kernel.\n"
     ]
    }
   ],
   "source": [
    "new_reviewsfiltered_data[\"SVM\"] = svmclassifier.predict(New_Reviews_tfidf)"
   ]
  },
  {
   "cell_type": "code",
   "execution_count": 33,
   "metadata": {},
   "outputs": [],
   "source": [
    "new_reviewsfiltered_data.head(10)\n",
    "new_reviewsfiltered_data.to_csv(\"New Reviews Opinion.csv\",index=False)"
   ]
  },
  {
   "cell_type": "code",
   "execution_count": 34,
   "metadata": {},
   "outputs": [
    {
     "name": "stdout",
     "output_type": "stream",
     "text": [
      " LogisticRegression:\n",
      "                 precision    recall  f1-score   support\n",
      "\n",
      "   Good opinion       0.48      0.41      0.44       835\n",
      "Average opinion       0.56      0.40      0.46       108\n",
      "    Bad opinion       0.84      0.88      0.86      3057\n",
      "\n",
      "    avg / total       0.76      0.77      0.76      4000\n",
      "\n",
      "\n",
      "\n",
      " SVM:\n",
      "                 precision    recall  f1-score   support\n",
      "\n",
      "   Good opinion       0.61      0.23      0.33       835\n",
      "Average opinion       0.85      0.31      0.45       108\n",
      "    Bad opinion       0.81      0.97      0.88      3057\n",
      "\n",
      "    avg / total       0.77      0.80      0.76      4000\n",
      "\n",
      "\n",
      "\n"
     ]
    }
   ],
   "source": [
    "keys = prediction.keys()\n",
    "for key in keys:\n",
    "    print(\" {}:\".format(key))\n",
    "    print(metrics.classification_report(opinion_test, prediction.get(key), target_names = [\"Good opinion\", \"Average opinion\",\"Bad opinion\"]))\n",
    "    print(\"\\n\")"
   ]
  },
  {
   "cell_type": "code",
   "execution_count": null,
   "metadata": {},
   "outputs": [],
   "source": []
  }
 ],
 "metadata": {
  "kernelspec": {
   "display_name": "Python 3",
   "language": "python",
   "name": "python3"
  },
  "language_info": {
   "codemirror_mode": {
    "name": "ipython",
    "version": 3
   },
   "file_extension": ".py",
   "mimetype": "text/x-python",
   "name": "python",
   "nbconvert_exporter": "python",
   "pygments_lexer": "ipython3",
   "version": "3.6.1"
  }
 },
 "nbformat": 4,
 "nbformat_minor": 2
}
