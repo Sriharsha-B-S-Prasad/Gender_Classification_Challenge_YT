{
 "cells": [
  {
   "cell_type": "code",
   "execution_count": 1,
   "metadata": {},
   "outputs": [
    {
     "name": "stderr",
     "output_type": "stream",
     "text": [
      "c:\\python\\lib\\site-packages\\nltk\\twitter\\__init__.py:20: UserWarning: The twython library has not been installed. Some functionality from the twitter package will not be available.\n",
      "  warnings.warn(\"The twython library has not been installed. \"\n"
     ]
    }
   ],
   "source": [
    "import numpy as np\n",
    "import pandas as pd\n",
    "import matplotlib.pyplot as plt\n",
    "import nltk\n",
    "import re\n",
    "from bs4 import BeautifulSoup\n",
    "from nltk.corpus import stopwords\n",
    "import string\n",
    "from sklearn.feature_extraction.text import CountVectorizer\n",
    "from sklearn.feature_extraction.text import TfidfTransformer\n",
    "from sklearn.model_selection import train_test_split\n",
    "from sklearn.metrics import confusion_matrix\n",
    "from sklearn import metrics\n",
    "from nltk.sentiment.vader import SentimentIntensityAnalyzer\n",
    "from nltk.sentiment.util import *\n",
    "%matplotlib inline"
   ]
  },
  {
   "cell_type": "code",
   "execution_count": null,
   "metadata": {},
   "outputs": [],
   "source": []
  },
  {
   "cell_type": "markdown",
   "metadata": {},
   "source": [
    "# Demonetization_tweets"
   ]
  },
  {
   "cell_type": "code",
   "execution_count": 2,
   "metadata": {},
   "outputs": [
    {
     "data": {
      "text/html": [
       "<div>\n",
       "<style scoped>\n",
       "    .dataframe tbody tr th:only-of-type {\n",
       "        vertical-align: middle;\n",
       "    }\n",
       "\n",
       "    .dataframe tbody tr th {\n",
       "        vertical-align: top;\n",
       "    }\n",
       "\n",
       "    .dataframe thead th {\n",
       "        text-align: right;\n",
       "    }\n",
       "</style>\n",
       "<table border=\"1\" class=\"dataframe\">\n",
       "  <thead>\n",
       "    <tr style=\"text-align: right;\">\n",
       "      <th></th>\n",
       "      <th>text</th>\n",
       "      <th>favorited</th>\n",
       "      <th>favoriteCount</th>\n",
       "      <th>replyToSN</th>\n",
       "      <th>created</th>\n",
       "      <th>truncated</th>\n",
       "      <th>replyToSID</th>\n",
       "      <th>id</th>\n",
       "      <th>replyToUID</th>\n",
       "      <th>statusSource</th>\n",
       "      <th>screenName</th>\n",
       "      <th>retweetCount</th>\n",
       "      <th>isRetweet</th>\n",
       "      <th>retweeted</th>\n",
       "    </tr>\n",
       "  </thead>\n",
       "  <tbody>\n",
       "    <tr>\n",
       "      <th>0</th>\n",
       "      <td>RT @rssurjewala: Critical question: Was PayTM ...</td>\n",
       "      <td>False</td>\n",
       "      <td>0</td>\n",
       "      <td>NaN</td>\n",
       "      <td>11/23/2016 18:40</td>\n",
       "      <td>False</td>\n",
       "      <td>NaN</td>\n",
       "      <td>8.014960e+17</td>\n",
       "      <td>NaN</td>\n",
       "      <td>&lt;a href=\"http://twitter.com/download/android\" ...</td>\n",
       "      <td>HASHTAGFARZIWAL</td>\n",
       "      <td>331</td>\n",
       "      <td>True</td>\n",
       "      <td>False</td>\n",
       "    </tr>\n",
       "    <tr>\n",
       "      <th>1</th>\n",
       "      <td>RT @Hemant_80: Did you vote on #Demonetization...</td>\n",
       "      <td>False</td>\n",
       "      <td>0</td>\n",
       "      <td>NaN</td>\n",
       "      <td>11/23/2016 18:40</td>\n",
       "      <td>False</td>\n",
       "      <td>NaN</td>\n",
       "      <td>8.014960e+17</td>\n",
       "      <td>NaN</td>\n",
       "      <td>&lt;a href=\"http://twitter.com/download/android\" ...</td>\n",
       "      <td>PRAMODKAUSHIK9</td>\n",
       "      <td>66</td>\n",
       "      <td>True</td>\n",
       "      <td>False</td>\n",
       "    </tr>\n",
       "    <tr>\n",
       "      <th>2</th>\n",
       "      <td>RT @roshankar: Former FinSec, RBI Dy Governor,...</td>\n",
       "      <td>False</td>\n",
       "      <td>0</td>\n",
       "      <td>NaN</td>\n",
       "      <td>11/23/2016 18:40</td>\n",
       "      <td>False</td>\n",
       "      <td>NaN</td>\n",
       "      <td>8.014960e+17</td>\n",
       "      <td>NaN</td>\n",
       "      <td>&lt;a href=\"http://twitter.com/download/android\" ...</td>\n",
       "      <td>rahulja13034944</td>\n",
       "      <td>12</td>\n",
       "      <td>True</td>\n",
       "      <td>False</td>\n",
       "    </tr>\n",
       "    <tr>\n",
       "      <th>3</th>\n",
       "      <td>RT @ANI_news: Gurugram (Haryana): Post office ...</td>\n",
       "      <td>False</td>\n",
       "      <td>0</td>\n",
       "      <td>NaN</td>\n",
       "      <td>11/23/2016 18:39</td>\n",
       "      <td>False</td>\n",
       "      <td>NaN</td>\n",
       "      <td>8.014960e+17</td>\n",
       "      <td>NaN</td>\n",
       "      <td>&lt;a href=\"http://twitter.com/download/android\" ...</td>\n",
       "      <td>deeptiyvd</td>\n",
       "      <td>338</td>\n",
       "      <td>True</td>\n",
       "      <td>False</td>\n",
       "    </tr>\n",
       "    <tr>\n",
       "      <th>4</th>\n",
       "      <td>RT @satishacharya: Reddy Wedding! @mail_today ...</td>\n",
       "      <td>False</td>\n",
       "      <td>0</td>\n",
       "      <td>NaN</td>\n",
       "      <td>11/23/2016 18:39</td>\n",
       "      <td>False</td>\n",
       "      <td>NaN</td>\n",
       "      <td>8.014950e+17</td>\n",
       "      <td>NaN</td>\n",
       "      <td>&lt;a href=\"http://cpimharyana.com\" rel=\"nofollow...</td>\n",
       "      <td>CPIMBadli</td>\n",
       "      <td>120</td>\n",
       "      <td>True</td>\n",
       "      <td>False</td>\n",
       "    </tr>\n",
       "  </tbody>\n",
       "</table>\n",
       "</div>"
      ],
      "text/plain": [
       "                                                text  favorited  \\\n",
       "0  RT @rssurjewala: Critical question: Was PayTM ...      False   \n",
       "1  RT @Hemant_80: Did you vote on #Demonetization...      False   \n",
       "2  RT @roshankar: Former FinSec, RBI Dy Governor,...      False   \n",
       "3  RT @ANI_news: Gurugram (Haryana): Post office ...      False   \n",
       "4  RT @satishacharya: Reddy Wedding! @mail_today ...      False   \n",
       "\n",
       "   favoriteCount replyToSN           created  truncated  replyToSID  \\\n",
       "0              0       NaN  11/23/2016 18:40      False         NaN   \n",
       "1              0       NaN  11/23/2016 18:40      False         NaN   \n",
       "2              0       NaN  11/23/2016 18:40      False         NaN   \n",
       "3              0       NaN  11/23/2016 18:39      False         NaN   \n",
       "4              0       NaN  11/23/2016 18:39      False         NaN   \n",
       "\n",
       "             id  replyToUID  \\\n",
       "0  8.014960e+17         NaN   \n",
       "1  8.014960e+17         NaN   \n",
       "2  8.014960e+17         NaN   \n",
       "3  8.014960e+17         NaN   \n",
       "4  8.014950e+17         NaN   \n",
       "\n",
       "                                        statusSource       screenName  \\\n",
       "0  <a href=\"http://twitter.com/download/android\" ...  HASHTAGFARZIWAL   \n",
       "1  <a href=\"http://twitter.com/download/android\" ...   PRAMODKAUSHIK9   \n",
       "2  <a href=\"http://twitter.com/download/android\" ...  rahulja13034944   \n",
       "3  <a href=\"http://twitter.com/download/android\" ...        deeptiyvd   \n",
       "4  <a href=\"http://cpimharyana.com\" rel=\"nofollow...        CPIMBadli   \n",
       "\n",
       "   retweetCount  isRetweet  retweeted  \n",
       "0           331       True      False  \n",
       "1            66       True      False  \n",
       "2            12       True      False  \n",
       "3           338       True      False  \n",
       "4           120       True      False  "
      ]
     },
     "execution_count": 2,
     "metadata": {},
     "output_type": "execute_result"
    }
   ],
   "source": [
    "dm_df = pd.read_csv('demonetization_tweets.csv',encoding = 'ISO-8859-1')\n",
    "dm_df.head()"
   ]
  },
  {
   "cell_type": "code",
   "execution_count": 3,
   "metadata": {},
   "outputs": [
    {
     "data": {
      "text/html": [
       "<div>\n",
       "<style scoped>\n",
       "    .dataframe tbody tr th:only-of-type {\n",
       "        vertical-align: middle;\n",
       "    }\n",
       "\n",
       "    .dataframe tbody tr th {\n",
       "        vertical-align: top;\n",
       "    }\n",
       "\n",
       "    .dataframe thead th {\n",
       "        text-align: right;\n",
       "    }\n",
       "</style>\n",
       "<table border=\"1\" class=\"dataframe\">\n",
       "  <thead>\n",
       "    <tr style=\"text-align: right;\">\n",
       "      <th></th>\n",
       "      <th>text</th>\n",
       "    </tr>\n",
       "  </thead>\n",
       "  <tbody>\n",
       "    <tr>\n",
       "      <th>0</th>\n",
       "      <td>RT @rssurjewala: Critical question: Was PayTM ...</td>\n",
       "    </tr>\n",
       "    <tr>\n",
       "      <th>1</th>\n",
       "      <td>RT @Hemant_80: Did you vote on #Demonetization...</td>\n",
       "    </tr>\n",
       "    <tr>\n",
       "      <th>2</th>\n",
       "      <td>RT @roshankar: Former FinSec, RBI Dy Governor,...</td>\n",
       "    </tr>\n",
       "    <tr>\n",
       "      <th>3</th>\n",
       "      <td>RT @ANI_news: Gurugram (Haryana): Post office ...</td>\n",
       "    </tr>\n",
       "    <tr>\n",
       "      <th>4</th>\n",
       "      <td>RT @satishacharya: Reddy Wedding! @mail_today ...</td>\n",
       "    </tr>\n",
       "  </tbody>\n",
       "</table>\n",
       "</div>"
      ],
      "text/plain": [
       "                                                text\n",
       "0  RT @rssurjewala: Critical question: Was PayTM ...\n",
       "1  RT @Hemant_80: Did you vote on #Demonetization...\n",
       "2  RT @roshankar: Former FinSec, RBI Dy Governor,...\n",
       "3  RT @ANI_news: Gurugram (Haryana): Post office ...\n",
       "4  RT @satishacharya: Reddy Wedding! @mail_today ..."
      ]
     },
     "execution_count": 3,
     "metadata": {},
     "output_type": "execute_result"
    }
   ],
   "source": [
    "demonitization_df = dm_df[['text']]\n",
    "demonitization_df.head()"
   ]
  },
  {
   "cell_type": "code",
   "execution_count": 4,
   "metadata": {},
   "outputs": [],
   "source": [
    "def clean_tweets(tweet):\n",
    "    #Remove Html  \n",
    "    tweet=BeautifulSoup(tweet).get_text()\n",
    "    \n",
    "    pattern = re.compile(r\"(RT) @[^\\s]+[\\s]?|@[^\\s]+[\\s]?\")\n",
    "\n",
    "    tweet = re.sub(\n",
    "           pattern, \n",
    "           \"\", tweet)\n",
    "          \n",
    "    \n",
    "    #Remove Non-Letters\n",
    "    tweet=re.sub('[^a-zA-Z]',' ',tweet)\n",
    "    \n",
    "    #Convert to lower_case and split\n",
    "    tweet=tweet.lower().split()\n",
    "    \n",
    "    #Remove stopwords\n",
    "    stop=set(stopwords.words('english'))\n",
    "    stop.add('https')\n",
    "    words=[w for w in tweet if not w in stop]\n",
    "    \n",
    "    #join the words back into one string\n",
    "    return(' '.join(words))"
   ]
  },
  {
   "cell_type": "code",
   "execution_count": 5,
   "metadata": {},
   "outputs": [
    {
     "name": "stderr",
     "output_type": "stream",
     "text": [
      "c:\\python\\lib\\site-packages\\bs4\\__init__.py:181: UserWarning: No parser was explicitly specified, so I'm using the best available HTML parser for this system (\"html5lib\"). This usually isn't a problem, but if you run this code on another system, or in a different virtual environment, it may use a different parser and behave differently.\n",
      "\n",
      "The code that caused this warning is on line 193 of the file c:\\python\\lib\\runpy.py. To get rid of this warning, change code that looks like this:\n",
      "\n",
      " BeautifulSoup(YOUR_MARKUP})\n",
      "\n",
      "to this:\n",
      "\n",
      " BeautifulSoup(YOUR_MARKUP, \"html5lib\")\n",
      "\n",
      "  markup_type=markup_type))\n",
      "c:\\python\\lib\\site-packages\\ipykernel_launcher.py:1: SettingWithCopyWarning: \n",
      "A value is trying to be set on a copy of a slice from a DataFrame.\n",
      "Try using .loc[row_indexer,col_indexer] = value instead\n",
      "\n",
      "See the caveats in the documentation: http://pandas.pydata.org/pandas-docs/stable/indexing.html#indexing-view-versus-copy\n",
      "  \"\"\"Entry point for launching an IPython kernel.\n"
     ]
    }
   ],
   "source": [
    "demonitization_df['processedtext']=demonitization_df['text'].apply(lambda x:clean_tweets(x))\n"
   ]
  },
  {
   "cell_type": "code",
   "execution_count": 6,
   "metadata": {},
   "outputs": [
    {
     "data": {
      "text/html": [
       "<div>\n",
       "<style scoped>\n",
       "    .dataframe tbody tr th:only-of-type {\n",
       "        vertical-align: middle;\n",
       "    }\n",
       "\n",
       "    .dataframe tbody tr th {\n",
       "        vertical-align: top;\n",
       "    }\n",
       "\n",
       "    .dataframe thead th {\n",
       "        text-align: right;\n",
       "    }\n",
       "</style>\n",
       "<table border=\"1\" class=\"dataframe\">\n",
       "  <thead>\n",
       "    <tr style=\"text-align: right;\">\n",
       "      <th></th>\n",
       "      <th>text</th>\n",
       "      <th>processedtext</th>\n",
       "    </tr>\n",
       "  </thead>\n",
       "  <tbody>\n",
       "    <tr>\n",
       "      <th>0</th>\n",
       "      <td>RT @rssurjewala: Critical question: Was PayTM ...</td>\n",
       "      <td>critical question paytm informed demonetizatio...</td>\n",
       "    </tr>\n",
       "    <tr>\n",
       "      <th>1</th>\n",
       "      <td>RT @Hemant_80: Did you vote on #Demonetization...</td>\n",
       "      <td>vote demonetization modi survey app</td>\n",
       "    </tr>\n",
       "    <tr>\n",
       "      <th>2</th>\n",
       "      <td>RT @roshankar: Former FinSec, RBI Dy Governor,...</td>\n",
       "      <td>former finsec rbi dy governor cbdt chair harva...</td>\n",
       "    </tr>\n",
       "    <tr>\n",
       "      <th>3</th>\n",
       "      <td>RT @ANI_news: Gurugram (Haryana): Post office ...</td>\n",
       "      <td>gurugram haryana post office employees provide...</td>\n",
       "    </tr>\n",
       "    <tr>\n",
       "      <th>4</th>\n",
       "      <td>RT @satishacharya: Reddy Wedding! @mail_today ...</td>\n",
       "      <td>reddy wedding cartoon demonetization reddywedd...</td>\n",
       "    </tr>\n",
       "  </tbody>\n",
       "</table>\n",
       "</div>"
      ],
      "text/plain": [
       "                                                text  \\\n",
       "0  RT @rssurjewala: Critical question: Was PayTM ...   \n",
       "1  RT @Hemant_80: Did you vote on #Demonetization...   \n",
       "2  RT @roshankar: Former FinSec, RBI Dy Governor,...   \n",
       "3  RT @ANI_news: Gurugram (Haryana): Post office ...   \n",
       "4  RT @satishacharya: Reddy Wedding! @mail_today ...   \n",
       "\n",
       "                                       processedtext  \n",
       "0  critical question paytm informed demonetizatio...  \n",
       "1                vote demonetization modi survey app  \n",
       "2  former finsec rbi dy governor cbdt chair harva...  \n",
       "3  gurugram haryana post office employees provide...  \n",
       "4  reddy wedding cartoon demonetization reddywedd...  "
      ]
     },
     "execution_count": 6,
     "metadata": {},
     "output_type": "execute_result"
    }
   ],
   "source": [
    "demonitization_df.head()"
   ]
  },
  {
   "cell_type": "code",
   "execution_count": 7,
   "metadata": {},
   "outputs": [
    {
     "name": "stderr",
     "output_type": "stream",
     "text": [
      "c:\\python\\lib\\site-packages\\ipykernel_launcher.py:3: SettingWithCopyWarning: \n",
      "A value is trying to be set on a copy of a slice from a DataFrame.\n",
      "Try using .loc[row_indexer,col_indexer] = value instead\n",
      "\n",
      "See the caveats in the documentation: http://pandas.pydata.org/pandas-docs/stable/indexing.html#indexing-view-versus-copy\n",
      "  This is separate from the ipykernel package so we can avoid doing imports until\n",
      "c:\\python\\lib\\site-packages\\ipykernel_launcher.py:4: SettingWithCopyWarning: \n",
      "A value is trying to be set on a copy of a slice from a DataFrame.\n",
      "Try using .loc[row_indexer,col_indexer] = value instead\n",
      "\n",
      "See the caveats in the documentation: http://pandas.pydata.org/pandas-docs/stable/indexing.html#indexing-view-versus-copy\n",
      "  after removing the cwd from sys.path.\n",
      "c:\\python\\lib\\site-packages\\ipykernel_launcher.py:5: SettingWithCopyWarning: \n",
      "A value is trying to be set on a copy of a slice from a DataFrame.\n",
      "Try using .loc[row_indexer,col_indexer] = value instead\n",
      "\n",
      "See the caveats in the documentation: http://pandas.pydata.org/pandas-docs/stable/indexing.html#indexing-view-versus-copy\n",
      "  \"\"\"\n",
      "c:\\python\\lib\\site-packages\\ipykernel_launcher.py:6: SettingWithCopyWarning: \n",
      "A value is trying to be set on a copy of a slice from a DataFrame.\n",
      "Try using .loc[row_indexer,col_indexer] = value instead\n",
      "\n",
      "See the caveats in the documentation: http://pandas.pydata.org/pandas-docs/stable/indexing.html#indexing-view-versus-copy\n",
      "  \n",
      "c:\\python\\lib\\site-packages\\ipykernel_launcher.py:7: SettingWithCopyWarning: \n",
      "A value is trying to be set on a copy of a slice from a DataFrame.\n",
      "Try using .loc[row_indexer,col_indexer] = value instead\n",
      "\n",
      "See the caveats in the documentation: http://pandas.pydata.org/pandas-docs/stable/indexing.html#indexing-view-versus-copy\n",
      "  import sys\n",
      "c:\\python\\lib\\site-packages\\pandas\\core\\indexing.py:537: SettingWithCopyWarning: \n",
      "A value is trying to be set on a copy of a slice from a DataFrame.\n",
      "Try using .loc[row_indexer,col_indexer] = value instead\n",
      "\n",
      "See the caveats in the documentation: http://pandas.pydata.org/pandas-docs/stable/indexing.html#indexing-view-versus-copy\n",
      "  self.obj[item] = s\n"
     ]
    },
    {
     "data": {
      "text/html": [
       "<div>\n",
       "<style scoped>\n",
       "    .dataframe tbody tr th:only-of-type {\n",
       "        vertical-align: middle;\n",
       "    }\n",
       "\n",
       "    .dataframe tbody tr th {\n",
       "        vertical-align: top;\n",
       "    }\n",
       "\n",
       "    .dataframe thead th {\n",
       "        text-align: right;\n",
       "    }\n",
       "</style>\n",
       "<table border=\"1\" class=\"dataframe\">\n",
       "  <thead>\n",
       "    <tr style=\"text-align: right;\">\n",
       "      <th></th>\n",
       "      <th>text</th>\n",
       "      <th>processedtext</th>\n",
       "      <th>sentiment_compound_polarity</th>\n",
       "      <th>sentiment_neutral</th>\n",
       "      <th>sentiment_negative</th>\n",
       "      <th>sentiment_pos</th>\n",
       "      <th>sentiment_type</th>\n",
       "    </tr>\n",
       "  </thead>\n",
       "  <tbody>\n",
       "    <tr>\n",
       "      <th>0</th>\n",
       "      <td>RT @rssurjewala: Critical question: Was PayTM ...</td>\n",
       "      <td>critical question paytm informed demonetizatio...</td>\n",
       "      <td>0.1027</td>\n",
       "      <td>0.667</td>\n",
       "      <td>0.153</td>\n",
       "      <td>0.18</td>\n",
       "      <td>POSITIVE</td>\n",
       "    </tr>\n",
       "    <tr>\n",
       "      <th>1</th>\n",
       "      <td>RT @Hemant_80: Did you vote on #Demonetization...</td>\n",
       "      <td>vote demonetization modi survey app</td>\n",
       "      <td>0.0000</td>\n",
       "      <td>1.000</td>\n",
       "      <td>0.000</td>\n",
       "      <td>0.00</td>\n",
       "      <td>NEUTRAL</td>\n",
       "    </tr>\n",
       "    <tr>\n",
       "      <th>2</th>\n",
       "      <td>RT @roshankar: Former FinSec, RBI Dy Governor,...</td>\n",
       "      <td>former finsec rbi dy governor cbdt chair harva...</td>\n",
       "      <td>0.0000</td>\n",
       "      <td>1.000</td>\n",
       "      <td>0.000</td>\n",
       "      <td>0.00</td>\n",
       "      <td>NEUTRAL</td>\n",
       "    </tr>\n",
       "    <tr>\n",
       "      <th>3</th>\n",
       "      <td>RT @ANI_news: Gurugram (Haryana): Post office ...</td>\n",
       "      <td>gurugram haryana post office employees provide...</td>\n",
       "      <td>0.0000</td>\n",
       "      <td>1.000</td>\n",
       "      <td>0.000</td>\n",
       "      <td>0.00</td>\n",
       "      <td>NEUTRAL</td>\n",
       "    </tr>\n",
       "    <tr>\n",
       "      <th>4</th>\n",
       "      <td>RT @satishacharya: Reddy Wedding! @mail_today ...</td>\n",
       "      <td>reddy wedding cartoon demonetization reddywedd...</td>\n",
       "      <td>0.0000</td>\n",
       "      <td>1.000</td>\n",
       "      <td>0.000</td>\n",
       "      <td>0.00</td>\n",
       "      <td>NEUTRAL</td>\n",
       "    </tr>\n",
       "  </tbody>\n",
       "</table>\n",
       "</div>"
      ],
      "text/plain": [
       "                                                text  \\\n",
       "0  RT @rssurjewala: Critical question: Was PayTM ...   \n",
       "1  RT @Hemant_80: Did you vote on #Demonetization...   \n",
       "2  RT @roshankar: Former FinSec, RBI Dy Governor,...   \n",
       "3  RT @ANI_news: Gurugram (Haryana): Post office ...   \n",
       "4  RT @satishacharya: Reddy Wedding! @mail_today ...   \n",
       "\n",
       "                                       processedtext  \\\n",
       "0  critical question paytm informed demonetizatio...   \n",
       "1                vote demonetization modi survey app   \n",
       "2  former finsec rbi dy governor cbdt chair harva...   \n",
       "3  gurugram haryana post office employees provide...   \n",
       "4  reddy wedding cartoon demonetization reddywedd...   \n",
       "\n",
       "   sentiment_compound_polarity  sentiment_neutral  sentiment_negative  \\\n",
       "0                       0.1027              0.667               0.153   \n",
       "1                       0.0000              1.000               0.000   \n",
       "2                       0.0000              1.000               0.000   \n",
       "3                       0.0000              1.000               0.000   \n",
       "4                       0.0000              1.000               0.000   \n",
       "\n",
       "   sentiment_pos sentiment_type  \n",
       "0           0.18       POSITIVE  \n",
       "1           0.00        NEUTRAL  \n",
       "2           0.00        NEUTRAL  \n",
       "3           0.00        NEUTRAL  \n",
       "4           0.00        NEUTRAL  "
      ]
     },
     "execution_count": 7,
     "metadata": {},
     "output_type": "execute_result"
    }
   ],
   "source": [
    "sid = SentimentIntensityAnalyzer()\n",
    "\n",
    "demonitization_df['sentiment_compound_polarity']=demonitization_df.processedtext.apply(lambda x:sid.polarity_scores(x)['compound'])\n",
    "demonitization_df['sentiment_neutral']=demonitization_df.processedtext.apply(lambda x:sid.polarity_scores(x)['neu'])\n",
    "demonitization_df['sentiment_negative']=demonitization_df.processedtext.apply(lambda x:sid.polarity_scores(x)['neg'])\n",
    "demonitization_df['sentiment_pos']=demonitization_df.processedtext.apply(lambda x:sid.polarity_scores(x)['pos'])\n",
    "demonitization_df['sentiment_type']=''\n",
    "demonitization_df.loc[demonitization_df.sentiment_compound_polarity>0,'sentiment_type']='POSITIVE'\n",
    "demonitization_df.loc[demonitization_df.sentiment_compound_polarity==0,'sentiment_type']='NEUTRAL'\n",
    "demonitization_df.loc[demonitization_df.sentiment_compound_polarity<0,'sentiment_type']='NEGATIVE'\n",
    "demonitization_df.head()"
   ]
  },
  {
   "cell_type": "code",
   "execution_count": 8,
   "metadata": {},
   "outputs": [
    {
     "data": {
      "text/plain": [
       "POSITIVE    3353\n",
       "NEGATIVE    2326\n",
       "NEUTRAL     2321\n",
       "Name: sentiment_type, dtype: int64"
      ]
     },
     "execution_count": 8,
     "metadata": {},
     "output_type": "execute_result"
    }
   ],
   "source": [
    "demonitization_df['sentiment_type'].value_counts()"
   ]
  },
  {
   "cell_type": "code",
   "execution_count": 9,
   "metadata": {},
   "outputs": [
    {
     "data": {
      "text/plain": [
       "<matplotlib.axes._subplots.AxesSubplot at 0x120e5048>"
      ]
     },
     "execution_count": 9,
     "metadata": {},
     "output_type": "execute_result"
    },
    {
     "data": {
      "image/png": "[encoded data removed]",
      "text/plain": [
       "<matplotlib.figure.Figure at 0x121efac8>"
      ]
     },
     "metadata": {},
     "output_type": "display_data"
    }
   ],
   "source": [
    "demonitization_df['sentiment_type'].value_counts().plot.bar()"
   ]
  },
  {
   "cell_type": "code",
   "execution_count": 10,
   "metadata": {},
   "outputs": [
    {
     "name": "stdout",
     "output_type": "stream",
     "text": [
      "6400 1600 8000\n"
     ]
    }
   ],
   "source": [
    "processed_dmtweet_train, processed_dmtweet_test, sentimentdm_train, sentimentdm_test = train_test_split(demonitization_df['processedtext'], demonitization_df['sentiment_type'], test_size=0.2,random_state=101)\n",
    "\n",
    "print(len(processed_dmtweet_train), len(processed_dmtweet_test), len(processed_dmtweet_train) + len(processed_dmtweet_test))"
   ]
  },
  {
   "cell_type": "code",
   "execution_count": 11,
   "metadata": {},
   "outputs": [
    {
     "name": "stdout",
     "output_type": "stream",
     "text": [
      "[('demonetization', 8280), ('co', 3379), ('demonetization co', 1516), ('pm', 1265), ('people', 892), ('modi', 837), ('lakh', 689), ('rs', 676), ('bank', 665), ('support', 648)]\n"
     ]
    }
   ],
   "source": [
    "vec = CountVectorizer(min_df=2  , ngram_range=(1,3)).fit(demonitization_df['processedtext'])\n",
    "\n",
    "bag_of_words = vec.transform(demonitization_df['processedtext'])\n",
    "sum_words = bag_of_words.sum(axis=0)\n",
    "words_freq = [(word, sum_words[0, idx]) for word, idx in vec.vocabulary_.items()]\n",
    "words_freq =sorted(words_freq, key = lambda x: x[1], reverse=True)[:10]\n",
    "print(words_freq)"
   ]
  },
  {
   "cell_type": "code",
   "execution_count": 12,
   "metadata": {},
   "outputs": [],
   "source": [
    "count_vect = CountVectorizer(min_df=2 ,ngram_range=(1,3))\n",
    "X_dm = count_vect.fit_transform(demonitization_df['processedtext'])\n",
    "X_dmTrain_counts = count_vect.fit_transform(processed_dmtweet_train)"
   ]
  },
  {
   "cell_type": "code",
   "execution_count": 13,
   "metadata": {},
   "outputs": [],
   "source": [
    "X_dmTest_counts = count_vect.transform(processed_dmtweet_test)"
   ]
  },
  {
   "cell_type": "code",
   "execution_count": 14,
   "metadata": {},
   "outputs": [
    {
     "name": "stdout",
     "output_type": "stream",
     "text": [
      "Train data-Shape of Sparse Matrix:  (6400, 11741)\n",
      "Train data-Amount of Non-Zero occurences:  154899\n",
      "Test data-Shape of Sparse Matrix:  (1600, 11741)\n",
      "Test data-Amount of Non-Zero occurences:  36752\n"
     ]
    }
   ],
   "source": [
    "print('Train data-Shape of Sparse Matrix: ', X_dmTrain_counts.shape)\n",
    "print('Train data-Amount of Non-Zero occurences: ', X_dmTrain_counts.nnz)\n",
    "\n",
    "print('Test data-Shape of Sparse Matrix: ', X_dmTest_counts.shape)\n",
    "print('Test data-Amount of Non-Zero occurences: ', X_dmTest_counts.nnz)"
   ]
  },
  {
   "cell_type": "code",
   "execution_count": 15,
   "metadata": {},
   "outputs": [],
   "source": [
    "from sklearn.feature_extraction.text import TfidfTransformer\n",
    "tfidf_transformer = TfidfTransformer()\n",
    "X_dm_tfidf = tfidf_transformer.fit_transform(X_dm)\n",
    "X_dmTrain_tfidf = tfidf_transformer.fit_transform(X_dmTrain_counts)"
   ]
  },
  {
   "cell_type": "code",
   "execution_count": 16,
   "metadata": {},
   "outputs": [],
   "source": [
    "X_dmTest_tfidf = tfidf_transformer.transform(X_dmTest_counts)"
   ]
  },
  {
   "cell_type": "code",
   "execution_count": 17,
   "metadata": {},
   "outputs": [
    {
     "name": "stdout",
     "output_type": "stream",
     "text": [
      "(6400, 11741)\n",
      "(1600, 11741)\n"
     ]
    }
   ],
   "source": [
    "print(X_dmTrain_tfidf.shape)\n",
    "print(X_dmTest_tfidf.shape)"
   ]
  },
  {
   "cell_type": "code",
   "execution_count": 18,
   "metadata": {},
   "outputs": [],
   "source": [
    "demonetization_prediction={}"
   ]
  },
  {
   "cell_type": "code",
   "execution_count": 19,
   "metadata": {},
   "outputs": [
    {
     "name": "stdout",
     "output_type": "stream",
     "text": [
      "Demonetization-Decision Tree Accuracy : 0.42375\n"
     ]
    }
   ],
   "source": [
    "from sklearn.tree import DecisionTreeClassifier\n",
    "decision_tree_model_dm = DecisionTreeClassifier(max_leaf_nodes=2, random_state=101)\n",
    "decision_tree_model_dm.fit(X_dmTrain_tfidf,sentimentdm_train)\n",
    "demonetization_prediction['Decision tree'] = decision_tree_model_dm.predict(X_dmTest_tfidf)\n",
    "print(\"Demonetization-Decision Tree Accuracy : {}\".format(decision_tree_model_dm.score(X_dmTest_tfidf , sentimentdm_test)))"
   ]
  },
  {
   "cell_type": "code",
   "execution_count": 20,
   "metadata": {},
   "outputs": [
    {
     "name": "stdout",
     "output_type": "stream",
     "text": [
      "Demonetization-Logistic regression Accuracy : 0.901875\n"
     ]
    }
   ],
   "source": [
    "from sklearn.linear_model import LogisticRegression\n",
    "logistic_regression_model_dm = LogisticRegression( random_state=101)\n",
    "logistic_regression_model_dm.fit(X_dmTrain_tfidf,sentimentdm_train)\n",
    "demonetization_prediction['Logistic Regression'] = logistic_regression_model_dm.predict(X_dmTest_tfidf)\n",
    "print(\"Demonetization-Logistic regression Accuracy : {}\".format(logistic_regression_model_dm.score(X_dmTest_tfidf , sentimentdm_test)))"
   ]
  },
  {
   "cell_type": "code",
   "execution_count": 21,
   "metadata": {},
   "outputs": [
    {
     "name": "stdout",
     "output_type": "stream",
     "text": [
      " Decision tree:\n",
      "             precision    recall  f1-score   support\n",
      "\n",
      "   POSITIVE       0.00      0.00      0.00       469\n",
      "   NEGATIVE       0.00      0.00      0.00       453\n",
      "    NEUTRAL       0.42      1.00      0.60       678\n",
      "\n",
      "avg / total       0.18      0.42      0.25      1600\n",
      "\n",
      "\n",
      "\n",
      " Logistic Regression:\n",
      "             precision    recall  f1-score   support\n",
      "\n",
      "   POSITIVE       0.91      0.88      0.89       469\n",
      "   NEGATIVE       0.91      0.87      0.89       453\n",
      "    NEUTRAL       0.89      0.94      0.91       678\n",
      "\n",
      "avg / total       0.90      0.90      0.90      1600\n",
      "\n",
      "\n",
      "\n"
     ]
    },
    {
     "name": "stderr",
     "output_type": "stream",
     "text": [
      "c:\\python\\lib\\site-packages\\sklearn\\metrics\\classification.py:1135: UndefinedMetricWarning: Precision and F-score are ill-defined and being set to 0.0 in labels with no predicted samples.\n",
      "  'precision', 'predicted', average, warn_for)\n"
     ]
    }
   ],
   "source": [
    "keys = demonetization_prediction.keys()\n",
    "for key in keys:\n",
    "    print(\" {}:\".format(key))\n",
    "    print(metrics.classification_report(sentimentdm_test, demonetization_prediction.get(key), target_names = [\"POSITIVE\", \"NEGATIVE\",\"NEUTRAL\"]))\n",
    "    print(\"\\n\")"
   ]
  },
  {
   "cell_type": "code",
   "execution_count": 22,
   "metadata": {},
   "outputs": [
    {
     "name": "stderr",
     "output_type": "stream",
     "text": [
      "c:\\python\\lib\\site-packages\\ipykernel_launcher.py:3: SettingWithCopyWarning: \n",
      "A value is trying to be set on a copy of a slice from a DataFrame.\n",
      "Try using .loc[row_indexer,col_indexer] = value instead\n",
      "\n",
      "See the caveats in the documentation: http://pandas.pydata.org/pandas-docs/stable/indexing.html#indexing-view-versus-copy\n",
      "  This is separate from the ipykernel package so we can avoid doing imports until\n"
     ]
    },
    {
     "data": {
      "text/html": [
       "<div>\n",
       "<style scoped>\n",
       "    .dataframe tbody tr th:only-of-type {\n",
       "        vertical-align: middle;\n",
       "    }\n",
       "\n",
       "    .dataframe tbody tr th {\n",
       "        vertical-align: top;\n",
       "    }\n",
       "\n",
       "    .dataframe thead th {\n",
       "        text-align: right;\n",
       "    }\n",
       "</style>\n",
       "<table border=\"1\" class=\"dataframe\">\n",
       "  <thead>\n",
       "    <tr style=\"text-align: right;\">\n",
       "      <th></th>\n",
       "      <th>text</th>\n",
       "      <th>processedtext</th>\n",
       "      <th>sentiment_compound_polarity</th>\n",
       "      <th>sentiment_neutral</th>\n",
       "      <th>sentiment_negative</th>\n",
       "      <th>sentiment_pos</th>\n",
       "      <th>sentiment_type</th>\n",
       "      <th>Sentiment_byDT</th>\n",
       "    </tr>\n",
       "  </thead>\n",
       "  <tbody>\n",
       "    <tr>\n",
       "      <th>0</th>\n",
       "      <td>RT @rssurjewala: Critical question: Was PayTM ...</td>\n",
       "      <td>critical question paytm informed demonetizatio...</td>\n",
       "      <td>0.1027</td>\n",
       "      <td>0.667</td>\n",
       "      <td>0.153</td>\n",
       "      <td>0.18</td>\n",
       "      <td>POSITIVE</td>\n",
       "      <td>POSITIVE</td>\n",
       "    </tr>\n",
       "    <tr>\n",
       "      <th>1</th>\n",
       "      <td>RT @Hemant_80: Did you vote on #Demonetization...</td>\n",
       "      <td>vote demonetization modi survey app</td>\n",
       "      <td>0.0000</td>\n",
       "      <td>1.000</td>\n",
       "      <td>0.000</td>\n",
       "      <td>0.00</td>\n",
       "      <td>NEUTRAL</td>\n",
       "      <td>POSITIVE</td>\n",
       "    </tr>\n",
       "    <tr>\n",
       "      <th>2</th>\n",
       "      <td>RT @roshankar: Former FinSec, RBI Dy Governor,...</td>\n",
       "      <td>former finsec rbi dy governor cbdt chair harva...</td>\n",
       "      <td>0.0000</td>\n",
       "      <td>1.000</td>\n",
       "      <td>0.000</td>\n",
       "      <td>0.00</td>\n",
       "      <td>NEUTRAL</td>\n",
       "      <td>POSITIVE</td>\n",
       "    </tr>\n",
       "    <tr>\n",
       "      <th>3</th>\n",
       "      <td>RT @ANI_news: Gurugram (Haryana): Post office ...</td>\n",
       "      <td>gurugram haryana post office employees provide...</td>\n",
       "      <td>0.0000</td>\n",
       "      <td>1.000</td>\n",
       "      <td>0.000</td>\n",
       "      <td>0.00</td>\n",
       "      <td>NEUTRAL</td>\n",
       "      <td>POSITIVE</td>\n",
       "    </tr>\n",
       "    <tr>\n",
       "      <th>4</th>\n",
       "      <td>RT @satishacharya: Reddy Wedding! @mail_today ...</td>\n",
       "      <td>reddy wedding cartoon demonetization reddywedd...</td>\n",
       "      <td>0.0000</td>\n",
       "      <td>1.000</td>\n",
       "      <td>0.000</td>\n",
       "      <td>0.00</td>\n",
       "      <td>NEUTRAL</td>\n",
       "      <td>POSITIVE</td>\n",
       "    </tr>\n",
       "  </tbody>\n",
       "</table>\n",
       "</div>"
      ],
      "text/plain": [
       "                                                text  \\\n",
       "0  RT @rssurjewala: Critical question: Was PayTM ...   \n",
       "1  RT @Hemant_80: Did you vote on #Demonetization...   \n",
       "2  RT @roshankar: Former FinSec, RBI Dy Governor,...   \n",
       "3  RT @ANI_news: Gurugram (Haryana): Post office ...   \n",
       "4  RT @satishacharya: Reddy Wedding! @mail_today ...   \n",
       "\n",
       "                                       processedtext  \\\n",
       "0  critical question paytm informed demonetizatio...   \n",
       "1                vote demonetization modi survey app   \n",
       "2  former finsec rbi dy governor cbdt chair harva...   \n",
       "3  gurugram haryana post office employees provide...   \n",
       "4  reddy wedding cartoon demonetization reddywedd...   \n",
       "\n",
       "   sentiment_compound_polarity  sentiment_neutral  sentiment_negative  \\\n",
       "0                       0.1027              0.667               0.153   \n",
       "1                       0.0000              1.000               0.000   \n",
       "2                       0.0000              1.000               0.000   \n",
       "3                       0.0000              1.000               0.000   \n",
       "4                       0.0000              1.000               0.000   \n",
       "\n",
       "   sentiment_pos sentiment_type Sentiment_byDT  \n",
       "0           0.18       POSITIVE       POSITIVE  \n",
       "1           0.00        NEUTRAL       POSITIVE  \n",
       "2           0.00        NEUTRAL       POSITIVE  \n",
       "3           0.00        NEUTRAL       POSITIVE  \n",
       "4           0.00        NEUTRAL       POSITIVE  "
      ]
     },
     "execution_count": 22,
     "metadata": {},
     "output_type": "execute_result"
    }
   ],
   "source": [
    "decision_tree_model_dm1 = DecisionTreeClassifier(max_leaf_nodes=2, random_state=101)\n",
    "decision_tree_model_dm1.fit(X_dm_tfidf,demonitization_df['sentiment_type'])\n",
    "demonitization_df['Sentiment_byDT']=decision_tree_model_dm1.predict(X_dm_tfidf)\n",
    "demonitization_df.head()"
   ]
  },
  {
   "cell_type": "code",
   "execution_count": 23,
   "metadata": {},
   "outputs": [
    {
     "name": "stderr",
     "output_type": "stream",
     "text": [
      "c:\\python\\lib\\site-packages\\ipykernel_launcher.py:3: SettingWithCopyWarning: \n",
      "A value is trying to be set on a copy of a slice from a DataFrame.\n",
      "Try using .loc[row_indexer,col_indexer] = value instead\n",
      "\n",
      "See the caveats in the documentation: http://pandas.pydata.org/pandas-docs/stable/indexing.html#indexing-view-versus-copy\n",
      "  This is separate from the ipykernel package so we can avoid doing imports until\n"
     ]
    },
    {
     "data": {
      "text/html": [
       "<div>\n",
       "<style scoped>\n",
       "    .dataframe tbody tr th:only-of-type {\n",
       "        vertical-align: middle;\n",
       "    }\n",
       "\n",
       "    .dataframe tbody tr th {\n",
       "        vertical-align: top;\n",
       "    }\n",
       "\n",
       "    .dataframe thead th {\n",
       "        text-align: right;\n",
       "    }\n",
       "</style>\n",
       "<table border=\"1\" class=\"dataframe\">\n",
       "  <thead>\n",
       "    <tr style=\"text-align: right;\">\n",
       "      <th></th>\n",
       "      <th>text</th>\n",
       "      <th>processedtext</th>\n",
       "      <th>sentiment_compound_polarity</th>\n",
       "      <th>sentiment_neutral</th>\n",
       "      <th>sentiment_negative</th>\n",
       "      <th>sentiment_pos</th>\n",
       "      <th>sentiment_type</th>\n",
       "      <th>Sentiment_byDT</th>\n",
       "      <th>Sentiment_byLR</th>\n",
       "    </tr>\n",
       "  </thead>\n",
       "  <tbody>\n",
       "    <tr>\n",
       "      <th>0</th>\n",
       "      <td>RT @rssurjewala: Critical question: Was PayTM ...</td>\n",
       "      <td>critical question paytm informed demonetizatio...</td>\n",
       "      <td>0.1027</td>\n",
       "      <td>0.667</td>\n",
       "      <td>0.153</td>\n",
       "      <td>0.18</td>\n",
       "      <td>POSITIVE</td>\n",
       "      <td>POSITIVE</td>\n",
       "      <td>POSITIVE</td>\n",
       "    </tr>\n",
       "    <tr>\n",
       "      <th>1</th>\n",
       "      <td>RT @Hemant_80: Did you vote on #Demonetization...</td>\n",
       "      <td>vote demonetization modi survey app</td>\n",
       "      <td>0.0000</td>\n",
       "      <td>1.000</td>\n",
       "      <td>0.000</td>\n",
       "      <td>0.00</td>\n",
       "      <td>NEUTRAL</td>\n",
       "      <td>POSITIVE</td>\n",
       "      <td>NEUTRAL</td>\n",
       "    </tr>\n",
       "    <tr>\n",
       "      <th>2</th>\n",
       "      <td>RT @roshankar: Former FinSec, RBI Dy Governor,...</td>\n",
       "      <td>former finsec rbi dy governor cbdt chair harva...</td>\n",
       "      <td>0.0000</td>\n",
       "      <td>1.000</td>\n",
       "      <td>0.000</td>\n",
       "      <td>0.00</td>\n",
       "      <td>NEUTRAL</td>\n",
       "      <td>POSITIVE</td>\n",
       "      <td>NEUTRAL</td>\n",
       "    </tr>\n",
       "    <tr>\n",
       "      <th>3</th>\n",
       "      <td>RT @ANI_news: Gurugram (Haryana): Post office ...</td>\n",
       "      <td>gurugram haryana post office employees provide...</td>\n",
       "      <td>0.0000</td>\n",
       "      <td>1.000</td>\n",
       "      <td>0.000</td>\n",
       "      <td>0.00</td>\n",
       "      <td>NEUTRAL</td>\n",
       "      <td>POSITIVE</td>\n",
       "      <td>NEUTRAL</td>\n",
       "    </tr>\n",
       "    <tr>\n",
       "      <th>4</th>\n",
       "      <td>RT @satishacharya: Reddy Wedding! @mail_today ...</td>\n",
       "      <td>reddy wedding cartoon demonetization reddywedd...</td>\n",
       "      <td>0.0000</td>\n",
       "      <td>1.000</td>\n",
       "      <td>0.000</td>\n",
       "      <td>0.00</td>\n",
       "      <td>NEUTRAL</td>\n",
       "      <td>POSITIVE</td>\n",
       "      <td>NEUTRAL</td>\n",
       "    </tr>\n",
       "  </tbody>\n",
       "</table>\n",
       "</div>"
      ],
      "text/plain": [
       "                                                text  \\\n",
       "0  RT @rssurjewala: Critical question: Was PayTM ...   \n",
       "1  RT @Hemant_80: Did you vote on #Demonetization...   \n",
       "2  RT @roshankar: Former FinSec, RBI Dy Governor,...   \n",
       "3  RT @ANI_news: Gurugram (Haryana): Post office ...   \n",
       "4  RT @satishacharya: Reddy Wedding! @mail_today ...   \n",
       "\n",
       "                                       processedtext  \\\n",
       "0  critical question paytm informed demonetizatio...   \n",
       "1                vote demonetization modi survey app   \n",
       "2  former finsec rbi dy governor cbdt chair harva...   \n",
       "3  gurugram haryana post office employees provide...   \n",
       "4  reddy wedding cartoon demonetization reddywedd...   \n",
       "\n",
       "   sentiment_compound_polarity  sentiment_neutral  sentiment_negative  \\\n",
       "0                       0.1027              0.667               0.153   \n",
       "1                       0.0000              1.000               0.000   \n",
       "2                       0.0000              1.000               0.000   \n",
       "3                       0.0000              1.000               0.000   \n",
       "4                       0.0000              1.000               0.000   \n",
       "\n",
       "   sentiment_pos sentiment_type Sentiment_byDT Sentiment_byLR  \n",
       "0           0.18       POSITIVE       POSITIVE       POSITIVE  \n",
       "1           0.00        NEUTRAL       POSITIVE        NEUTRAL  \n",
       "2           0.00        NEUTRAL       POSITIVE        NEUTRAL  \n",
       "3           0.00        NEUTRAL       POSITIVE        NEUTRAL  \n",
       "4           0.00        NEUTRAL       POSITIVE        NEUTRAL  "
      ]
     },
     "execution_count": 23,
     "metadata": {},
     "output_type": "execute_result"
    }
   ],
   "source": [
    "logistic_regression_model_dm1 = LogisticRegression( random_state=101)\n",
    "logistic_regression_model_dm1.fit(X_dm_tfidf,demonitization_df['sentiment_type'])\n",
    "demonitization_df['Sentiment_byLR']=logistic_regression_model_dm1.predict(X_dm_tfidf)\n",
    "demonitization_df.head()"
   ]
  },
  {
   "cell_type": "code",
   "execution_count": 24,
   "metadata": {},
   "outputs": [],
   "source": [
    "demonitization_df.to_csv(\"Demonetization_predicted_result.csv\",index=False)"
   ]
  },
  {
   "cell_type": "code",
   "execution_count": null,
   "metadata": {},
   "outputs": [],
   "source": []
  },
  {
   "cell_type": "markdown",
   "metadata": {},
   "source": [
    "# GST Tweets"
   ]
  },
  {
   "cell_type": "code",
   "execution_count": 25,
   "metadata": {},
   "outputs": [
    {
     "data": {
      "text/html": [
       "<div>\n",
       "<style scoped>\n",
       "    .dataframe tbody tr th:only-of-type {\n",
       "        vertical-align: middle;\n",
       "    }\n",
       "\n",
       "    .dataframe tbody tr th {\n",
       "        vertical-align: top;\n",
       "    }\n",
       "\n",
       "    .dataframe thead th {\n",
       "        text-align: right;\n",
       "    }\n",
       "</style>\n",
       "<table border=\"1\" class=\"dataframe\">\n",
       "  <thead>\n",
       "    <tr style=\"text-align: right;\">\n",
       "      <th></th>\n",
       "      <th>id_str</th>\n",
       "      <th>from_user</th>\n",
       "      <th>text</th>\n",
       "      <th>created_at</th>\n",
       "      <th>time</th>\n",
       "      <th>geo_coordinates</th>\n",
       "      <th>user_lang</th>\n",
       "      <th>in_reply_to_user_id_str</th>\n",
       "      <th>in_reply_to_screen_name</th>\n",
       "      <th>from_user_id_str</th>\n",
       "      <th>in_reply_to_status_id_str</th>\n",
       "      <th>source</th>\n",
       "      <th>Unnamed: 12</th>\n",
       "      <th>user_followers_count</th>\n",
       "      <th>user_friends_count</th>\n",
       "      <th>user_location</th>\n",
       "      <th>status_url</th>\n",
       "      <th>entities_str</th>\n",
       "    </tr>\n",
       "  </thead>\n",
       "  <tbody>\n",
       "    <tr>\n",
       "      <th>0</th>\n",
       "      <td>961674756071350278</td>\n",
       "      <td>vaandematram</td>\n",
       "      <td>RT @vaandematram: #GST à¤à¤¾ à¤µà¤¿à¤°à¥à¤§ ...</td>\n",
       "      <td>Thu Feb 08 18:55:03 +0000 2018</td>\n",
       "      <td>08/02/2018 18:55:03</td>\n",
       "      <td>NaN</td>\n",
       "      <td>en</td>\n",
       "      <td>NaN</td>\n",
       "      <td>NaN</td>\n",
       "      <td>781407854569881600</td>\n",
       "      <td>NaN</td>\n",
       "      <td>&lt;a href=\"http://twitter.com\" rel=\"nofollow\"&gt;Tw...</td>\n",
       "      <td>NaN</td>\n",
       "      <td>730.0</td>\n",
       "      <td>47.0</td>\n",
       "      <td>India</td>\n",
       "      <td>http://twitter.com/vaandematram/statuses/96167...</td>\n",
       "      <td>{\"hashtags\":[{\"text\":\"GST\",\"indices\":[18,22]}]...</td>\n",
       "    </tr>\n",
       "    <tr>\n",
       "      <th>1</th>\n",
       "      <td>961674645207441410</td>\n",
       "      <td>christendusse12</td>\n",
       "      <td>RT @fadnavis_amruta: Glimpse of #GST song , I ...</td>\n",
       "      <td>Thu Feb 08 18:54:37 +0000 2018</td>\n",
       "      <td>08/02/2018 18:54:37</td>\n",
       "      <td>NaN</td>\n",
       "      <td>en</td>\n",
       "      <td>NaN</td>\n",
       "      <td>NaN</td>\n",
       "      <td>961032020880076801</td>\n",
       "      <td>NaN</td>\n",
       "      <td>&lt;a href=\"http://twitter.com/download/android\" ...</td>\n",
       "      <td>NaN</td>\n",
       "      <td>2.0</td>\n",
       "      <td>47.0</td>\n",
       "      <td>NaN</td>\n",
       "      <td>http://twitter.com/christendusse12/statuses/96...</td>\n",
       "      <td>{\"hashtags\":[{\"text\":\"GST\",\"indices\":[32,36]}]...</td>\n",
       "    </tr>\n",
       "    <tr>\n",
       "      <th>2</th>\n",
       "      <td>961674539045412869</td>\n",
       "      <td>amaresh4</td>\n",
       "      <td>à¤¬à¤¿à¤²à¥à¤¡à¤°à¥à¤ à¤¨à¥ à¤®à¤¾à¤¨à¥ à...</td>\n",
       "      <td>Thu Feb 08 18:54:11 +0000 2018</td>\n",
       "      <td>08/02/2018 18:54:11</td>\n",
       "      <td>NaN</td>\n",
       "      <td>en</td>\n",
       "      <td>NaN</td>\n",
       "      <td>NaN</td>\n",
       "      <td>136207490</td>\n",
       "      <td>NaN</td>\n",
       "      <td>&lt;a href=\"http://twitter.com\" rel=\"nofollow\"&gt;Tw...</td>\n",
       "      <td>NaN</td>\n",
       "      <td>757.0</td>\n",
       "      <td>675.0</td>\n",
       "      <td>Delhi</td>\n",
       "      <td>http://twitter.com/amaresh4/statuses/961674539...</td>\n",
       "      <td>{\"hashtags\":[{\"text\":\"gst\",\"indices\":[82,86]}]...</td>\n",
       "    </tr>\n",
       "    <tr>\n",
       "      <th>3</th>\n",
       "      <td>961674417431629824</td>\n",
       "      <td>teruya_talitha</td>\n",
       "      <td>RT @fadnavis_amruta: Glimpse of #GST song , I ...</td>\n",
       "      <td>Thu Feb 08 18:53:42 +0000 2018</td>\n",
       "      <td>08/02/2018 18:53:42</td>\n",
       "      <td>NaN</td>\n",
       "      <td>en</td>\n",
       "      <td>NaN</td>\n",
       "      <td>NaN</td>\n",
       "      <td>961208311721938944</td>\n",
       "      <td>NaN</td>\n",
       "      <td>&lt;a href=\"http://twitter.com/download/android\" ...</td>\n",
       "      <td>NaN</td>\n",
       "      <td>1.0</td>\n",
       "      <td>49.0</td>\n",
       "      <td>NaN</td>\n",
       "      <td>http://twitter.com/teruya_talitha/statuses/961...</td>\n",
       "      <td>{\"hashtags\":[{\"text\":\"GST\",\"indices\":[32,36]}]...</td>\n",
       "    </tr>\n",
       "    <tr>\n",
       "      <th>4</th>\n",
       "      <td>961674250632364032</td>\n",
       "      <td>hntiaaobsisqr21</td>\n",
       "      <td>RT @fadnavis_amruta: Glimpse of #GST song , I ...</td>\n",
       "      <td>Thu Feb 08 18:53:03 +0000 2018</td>\n",
       "      <td>08/02/2018 18:53:03</td>\n",
       "      <td>NaN</td>\n",
       "      <td>en</td>\n",
       "      <td>NaN</td>\n",
       "      <td>NaN</td>\n",
       "      <td>961361830311415809</td>\n",
       "      <td>NaN</td>\n",
       "      <td>&lt;a href=\"http://twitter.com/download/android\" ...</td>\n",
       "      <td>NaN</td>\n",
       "      <td>1.0</td>\n",
       "      <td>77.0</td>\n",
       "      <td>Egmore Nungambakkam, India</td>\n",
       "      <td>http://twitter.com/hntiaaobsisqr21/statuses/96...</td>\n",
       "      <td>{\"hashtags\":[{\"text\":\"GST\",\"indices\":[32,36]}]...</td>\n",
       "    </tr>\n",
       "  </tbody>\n",
       "</table>\n",
       "</div>"
      ],
      "text/plain": [
       "               id_str        from_user  \\\n",
       "0  961674756071350278     vaandematram   \n",
       "1  961674645207441410  christendusse12   \n",
       "2  961674539045412869         amaresh4   \n",
       "3  961674417431629824   teruya_talitha   \n",
       "4  961674250632364032  hntiaaobsisqr21   \n",
       "\n",
       "                                                text  \\\n",
       "0  RT @vaandematram: #GST à¤à¤¾ à¤µà¤¿à¤°à¥à¤§ ...   \n",
       "1  RT @fadnavis_amruta: Glimpse of #GST song , I ...   \n",
       "2  à¤¬à¤¿à¤²à¥à¤¡à¤°à¥à¤ à¤¨à¥ à¤®à¤¾à¤¨à¥ à...   \n",
       "3  RT @fadnavis_amruta: Glimpse of #GST song , I ...   \n",
       "4  RT @fadnavis_amruta: Glimpse of #GST song , I ...   \n",
       "\n",
       "                       created_at                 time geo_coordinates  \\\n",
       "0  Thu Feb 08 18:55:03 +0000 2018  08/02/2018 18:55:03             NaN   \n",
       "1  Thu Feb 08 18:54:37 +0000 2018  08/02/2018 18:54:37             NaN   \n",
       "2  Thu Feb 08 18:54:11 +0000 2018  08/02/2018 18:54:11             NaN   \n",
       "3  Thu Feb 08 18:53:42 +0000 2018  08/02/2018 18:53:42             NaN   \n",
       "4  Thu Feb 08 18:53:03 +0000 2018  08/02/2018 18:53:03             NaN   \n",
       "\n",
       "  user_lang  in_reply_to_user_id_str in_reply_to_screen_name  \\\n",
       "0        en                      NaN                     NaN   \n",
       "1        en                      NaN                     NaN   \n",
       "2        en                      NaN                     NaN   \n",
       "3        en                      NaN                     NaN   \n",
       "4        en                      NaN                     NaN   \n",
       "\n",
       "     from_user_id_str  in_reply_to_status_id_str  \\\n",
       "0  781407854569881600                        NaN   \n",
       "1  961032020880076801                        NaN   \n",
       "2           136207490                        NaN   \n",
       "3  961208311721938944                        NaN   \n",
       "4  961361830311415809                        NaN   \n",
       "\n",
       "                                              source  Unnamed: 12  \\\n",
       "0  <a href=\"http://twitter.com\" rel=\"nofollow\">Tw...          NaN   \n",
       "1  <a href=\"http://twitter.com/download/android\" ...          NaN   \n",
       "2  <a href=\"http://twitter.com\" rel=\"nofollow\">Tw...          NaN   \n",
       "3  <a href=\"http://twitter.com/download/android\" ...          NaN   \n",
       "4  <a href=\"http://twitter.com/download/android\" ...          NaN   \n",
       "\n",
       "   user_followers_count  user_friends_count               user_location  \\\n",
       "0                 730.0                47.0                       India   \n",
       "1                   2.0                47.0                         NaN   \n",
       "2                 757.0               675.0                       Delhi   \n",
       "3                   1.0                49.0                         NaN   \n",
       "4                   1.0                77.0  Egmore Nungambakkam, India   \n",
       "\n",
       "                                          status_url  \\\n",
       "0  http://twitter.com/vaandematram/statuses/96167...   \n",
       "1  http://twitter.com/christendusse12/statuses/96...   \n",
       "2  http://twitter.com/amaresh4/statuses/961674539...   \n",
       "3  http://twitter.com/teruya_talitha/statuses/961...   \n",
       "4  http://twitter.com/hntiaaobsisqr21/statuses/96...   \n",
       "\n",
       "                                        entities_str  \n",
       "0  {\"hashtags\":[{\"text\":\"GST\",\"indices\":[18,22]}]...  \n",
       "1  {\"hashtags\":[{\"text\":\"GST\",\"indices\":[32,36]}]...  \n",
       "2  {\"hashtags\":[{\"text\":\"gst\",\"indices\":[82,86]}]...  \n",
       "3  {\"hashtags\":[{\"text\":\"GST\",\"indices\":[32,36]}]...  \n",
       "4  {\"hashtags\":[{\"text\":\"GST\",\"indices\":[32,36]}]...  "
      ]
     },
     "execution_count": 25,
     "metadata": {},
     "output_type": "execute_result"
    }
   ],
   "source": [
    "gst_df = pd.read_csv('Gst_tweets.csv',encoding = 'ISO-8859-1')\n",
    "gst_df.head()"
   ]
  },
  {
   "cell_type": "code",
   "execution_count": 26,
   "metadata": {},
   "outputs": [
    {
     "data": {
      "text/html": [
       "<div>\n",
       "<style scoped>\n",
       "    .dataframe tbody tr th:only-of-type {\n",
       "        vertical-align: middle;\n",
       "    }\n",
       "\n",
       "    .dataframe tbody tr th {\n",
       "        vertical-align: top;\n",
       "    }\n",
       "\n",
       "    .dataframe thead th {\n",
       "        text-align: right;\n",
       "    }\n",
       "</style>\n",
       "<table border=\"1\" class=\"dataframe\">\n",
       "  <thead>\n",
       "    <tr style=\"text-align: right;\">\n",
       "      <th></th>\n",
       "      <th>text</th>\n",
       "    </tr>\n",
       "  </thead>\n",
       "  <tbody>\n",
       "    <tr>\n",
       "      <th>0</th>\n",
       "      <td>RT @vaandematram: #GST à¤à¤¾ à¤µà¤¿à¤°à¥à¤§ ...</td>\n",
       "    </tr>\n",
       "    <tr>\n",
       "      <th>1</th>\n",
       "      <td>RT @fadnavis_amruta: Glimpse of #GST song , I ...</td>\n",
       "    </tr>\n",
       "    <tr>\n",
       "      <th>2</th>\n",
       "      <td>à¤¬à¤¿à¤²à¥à¤¡à¤°à¥à¤ à¤¨à¥ à¤®à¤¾à¤¨à¥ à...</td>\n",
       "    </tr>\n",
       "    <tr>\n",
       "      <th>3</th>\n",
       "      <td>RT @fadnavis_amruta: Glimpse of #GST song , I ...</td>\n",
       "    </tr>\n",
       "    <tr>\n",
       "      <th>4</th>\n",
       "      <td>RT @fadnavis_amruta: Glimpse of #GST song , I ...</td>\n",
       "    </tr>\n",
       "  </tbody>\n",
       "</table>\n",
       "</div>"
      ],
      "text/plain": [
       "                                                text\n",
       "0  RT @vaandematram: #GST à¤à¤¾ à¤µà¤¿à¤°à¥à¤§ ...\n",
       "1  RT @fadnavis_amruta: Glimpse of #GST song , I ...\n",
       "2  à¤¬à¤¿à¤²à¥à¤¡à¤°à¥à¤ à¤¨à¥ à¤®à¤¾à¤¨à¥ à...\n",
       "3  RT @fadnavis_amruta: Glimpse of #GST song , I ...\n",
       "4  RT @fadnavis_amruta: Glimpse of #GST song , I ..."
      ]
     },
     "execution_count": 26,
     "metadata": {},
     "output_type": "execute_result"
    }
   ],
   "source": [
    "csgst_df = gst_df[['text']]\n",
    "csgst_df.head()"
   ]
  },
  {
   "cell_type": "code",
   "execution_count": 27,
   "metadata": {},
   "outputs": [
    {
     "name": "stderr",
     "output_type": "stream",
     "text": [
      "c:\\python\\lib\\site-packages\\bs4\\__init__.py:181: UserWarning: No parser was explicitly specified, so I'm using the best available HTML parser for this system (\"html5lib\"). This usually isn't a problem, but if you run this code on another system, or in a different virtual environment, it may use a different parser and behave differently.\n",
      "\n",
      "The code that caused this warning is on line 193 of the file c:\\python\\lib\\runpy.py. To get rid of this warning, change code that looks like this:\n",
      "\n",
      " BeautifulSoup(YOUR_MARKUP})\n",
      "\n",
      "to this:\n",
      "\n",
      " BeautifulSoup(YOUR_MARKUP, \"html5lib\")\n",
      "\n",
      "  markup_type=markup_type))\n",
      "c:\\python\\lib\\site-packages\\bs4\\__init__.py:282: UserWarning: \"https://t.co/X2J3aDT52c\n",
      "#GST\" looks like a URL. Beautiful Soup is not an HTTP client. You should probably use an HTTP client like requests to get the document behind the URL, and feed that document to Beautiful Soup.\n",
      "  ' that document to Beautiful Soup.' % decoded_markup\n",
      "c:\\python\\lib\\site-packages\\ipykernel_launcher.py:1: SettingWithCopyWarning: \n",
      "A value is trying to be set on a copy of a slice from a DataFrame.\n",
      "Try using .loc[row_indexer,col_indexer] = value instead\n",
      "\n",
      "See the caveats in the documentation: http://pandas.pydata.org/pandas-docs/stable/indexing.html#indexing-view-versus-copy\n",
      "  \"\"\"Entry point for launching an IPython kernel.\n"
     ]
    }
   ],
   "source": [
    "csgst_df['processedtext']=csgst_df['text'].apply(lambda x:clean_tweets(x))\n"
   ]
  },
  {
   "cell_type": "code",
   "execution_count": 28,
   "metadata": {},
   "outputs": [
    {
     "data": {
      "text/html": [
       "<div>\n",
       "<style scoped>\n",
       "    .dataframe tbody tr th:only-of-type {\n",
       "        vertical-align: middle;\n",
       "    }\n",
       "\n",
       "    .dataframe tbody tr th {\n",
       "        vertical-align: top;\n",
       "    }\n",
       "\n",
       "    .dataframe thead th {\n",
       "        text-align: right;\n",
       "    }\n",
       "</style>\n",
       "<table border=\"1\" class=\"dataframe\">\n",
       "  <thead>\n",
       "    <tr style=\"text-align: right;\">\n",
       "      <th></th>\n",
       "      <th>text</th>\n",
       "      <th>processedtext</th>\n",
       "    </tr>\n",
       "  </thead>\n",
       "  <tbody>\n",
       "    <tr>\n",
       "      <th>0</th>\n",
       "      <td>RT @vaandematram: #GST à¤à¤¾ à¤µà¤¿à¤°à¥à¤§ ...</td>\n",
       "      <td>gst gstfornewindia</td>\n",
       "    </tr>\n",
       "    <tr>\n",
       "      <th>1</th>\n",
       "      <td>RT @fadnavis_amruta: Glimpse of #GST song , I ...</td>\n",
       "      <td>glimpse gst song sang customs wth composed rit...</td>\n",
       "    </tr>\n",
       "    <tr>\n",
       "      <th>2</th>\n",
       "      <td>à¤¬à¤¿à¤²à¥à¤¡à¤°à¥à¤ à¤¨à¥ à¤®à¤¾à¤¨à¥ à...</td>\n",
       "      <td>co pkwmpj hdd gst</td>\n",
       "    </tr>\n",
       "    <tr>\n",
       "      <th>3</th>\n",
       "      <td>RT @fadnavis_amruta: Glimpse of #GST song , I ...</td>\n",
       "      <td>glimpse gst song sang customs wth composed rit...</td>\n",
       "    </tr>\n",
       "    <tr>\n",
       "      <th>4</th>\n",
       "      <td>RT @fadnavis_amruta: Glimpse of #GST song , I ...</td>\n",
       "      <td>glimpse gst song sang customs wth composed rit...</td>\n",
       "    </tr>\n",
       "  </tbody>\n",
       "</table>\n",
       "</div>"
      ],
      "text/plain": [
       "                                                text  \\\n",
       "0  RT @vaandematram: #GST à¤à¤¾ à¤µà¤¿à¤°à¥à¤§ ...   \n",
       "1  RT @fadnavis_amruta: Glimpse of #GST song , I ...   \n",
       "2  à¤¬à¤¿à¤²à¥à¤¡à¤°à¥à¤ à¤¨à¥ à¤®à¤¾à¤¨à¥ à...   \n",
       "3  RT @fadnavis_amruta: Glimpse of #GST song , I ...   \n",
       "4  RT @fadnavis_amruta: Glimpse of #GST song , I ...   \n",
       "\n",
       "                                       processedtext  \n",
       "0                                 gst gstfornewindia  \n",
       "1  glimpse gst song sang customs wth composed rit...  \n",
       "2                                  co pkwmpj hdd gst  \n",
       "3  glimpse gst song sang customs wth composed rit...  \n",
       "4  glimpse gst song sang customs wth composed rit...  "
      ]
     },
     "execution_count": 28,
     "metadata": {},
     "output_type": "execute_result"
    }
   ],
   "source": [
    "csgst_df.head()"
   ]
  },
  {
   "cell_type": "code",
   "execution_count": 29,
   "metadata": {},
   "outputs": [
    {
     "name": "stderr",
     "output_type": "stream",
     "text": [
      "c:\\python\\lib\\site-packages\\ipykernel_launcher.py:1: SettingWithCopyWarning: \n",
      "A value is trying to be set on a copy of a slice from a DataFrame.\n",
      "Try using .loc[row_indexer,col_indexer] = value instead\n",
      "\n",
      "See the caveats in the documentation: http://pandas.pydata.org/pandas-docs/stable/indexing.html#indexing-view-versus-copy\n",
      "  \"\"\"Entry point for launching an IPython kernel.\n",
      "c:\\python\\lib\\site-packages\\ipykernel_launcher.py:2: SettingWithCopyWarning: \n",
      "A value is trying to be set on a copy of a slice from a DataFrame.\n",
      "Try using .loc[row_indexer,col_indexer] = value instead\n",
      "\n",
      "See the caveats in the documentation: http://pandas.pydata.org/pandas-docs/stable/indexing.html#indexing-view-versus-copy\n",
      "  \n",
      "c:\\python\\lib\\site-packages\\ipykernel_launcher.py:3: SettingWithCopyWarning: \n",
      "A value is trying to be set on a copy of a slice from a DataFrame.\n",
      "Try using .loc[row_indexer,col_indexer] = value instead\n",
      "\n",
      "See the caveats in the documentation: http://pandas.pydata.org/pandas-docs/stable/indexing.html#indexing-view-versus-copy\n",
      "  This is separate from the ipykernel package so we can avoid doing imports until\n",
      "c:\\python\\lib\\site-packages\\ipykernel_launcher.py:4: SettingWithCopyWarning: \n",
      "A value is trying to be set on a copy of a slice from a DataFrame.\n",
      "Try using .loc[row_indexer,col_indexer] = value instead\n",
      "\n",
      "See the caveats in the documentation: http://pandas.pydata.org/pandas-docs/stable/indexing.html#indexing-view-versus-copy\n",
      "  after removing the cwd from sys.path.\n",
      "c:\\python\\lib\\site-packages\\ipykernel_launcher.py:5: SettingWithCopyWarning: \n",
      "A value is trying to be set on a copy of a slice from a DataFrame.\n",
      "Try using .loc[row_indexer,col_indexer] = value instead\n",
      "\n",
      "See the caveats in the documentation: http://pandas.pydata.org/pandas-docs/stable/indexing.html#indexing-view-versus-copy\n",
      "  \"\"\"\n",
      "c:\\python\\lib\\site-packages\\pandas\\core\\indexing.py:537: SettingWithCopyWarning: \n",
      "A value is trying to be set on a copy of a slice from a DataFrame.\n",
      "Try using .loc[row_indexer,col_indexer] = value instead\n",
      "\n",
      "See the caveats in the documentation: http://pandas.pydata.org/pandas-docs/stable/indexing.html#indexing-view-versus-copy\n",
      "  self.obj[item] = s\n"
     ]
    },
    {
     "data": {
      "text/html": [
       "<div>\n",
       "<style scoped>\n",
       "    .dataframe tbody tr th:only-of-type {\n",
       "        vertical-align: middle;\n",
       "    }\n",
       "\n",
       "    .dataframe tbody tr th {\n",
       "        vertical-align: top;\n",
       "    }\n",
       "\n",
       "    .dataframe thead th {\n",
       "        text-align: right;\n",
       "    }\n",
       "</style>\n",
       "<table border=\"1\" class=\"dataframe\">\n",
       "  <thead>\n",
       "    <tr style=\"text-align: right;\">\n",
       "      <th></th>\n",
       "      <th>text</th>\n",
       "      <th>processedtext</th>\n",
       "      <th>sentiment_compound_polarity</th>\n",
       "      <th>sentiment_neutral</th>\n",
       "      <th>sentiment_negative</th>\n",
       "      <th>sentiment_pos</th>\n",
       "      <th>sentiment_type</th>\n",
       "    </tr>\n",
       "  </thead>\n",
       "  <tbody>\n",
       "    <tr>\n",
       "      <th>0</th>\n",
       "      <td>RT @vaandematram: #GST à¤à¤¾ à¤µà¤¿à¤°à¥à¤§ ...</td>\n",
       "      <td>gst gstfornewindia</td>\n",
       "      <td>0.0000</td>\n",
       "      <td>1.000</td>\n",
       "      <td>0.000</td>\n",
       "      <td>0.0</td>\n",
       "      <td>NEUTRAL</td>\n",
       "    </tr>\n",
       "    <tr>\n",
       "      <th>1</th>\n",
       "      <td>RT @fadnavis_amruta: Glimpse of #GST song , I ...</td>\n",
       "      <td>glimpse gst song sang customs wth composed rit...</td>\n",
       "      <td>-0.5267</td>\n",
       "      <td>0.892</td>\n",
       "      <td>0.108</td>\n",
       "      <td>0.0</td>\n",
       "      <td>NEGATIVE</td>\n",
       "    </tr>\n",
       "    <tr>\n",
       "      <th>2</th>\n",
       "      <td>à¤¬à¤¿à¤²à¥à¤¡à¤°à¥à¤ à¤¨à¥ à¤®à¤¾à¤¨à¥ à...</td>\n",
       "      <td>co pkwmpj hdd gst</td>\n",
       "      <td>0.0000</td>\n",
       "      <td>1.000</td>\n",
       "      <td>0.000</td>\n",
       "      <td>0.0</td>\n",
       "      <td>NEUTRAL</td>\n",
       "    </tr>\n",
       "    <tr>\n",
       "      <th>3</th>\n",
       "      <td>RT @fadnavis_amruta: Glimpse of #GST song , I ...</td>\n",
       "      <td>glimpse gst song sang customs wth composed rit...</td>\n",
       "      <td>-0.5267</td>\n",
       "      <td>0.892</td>\n",
       "      <td>0.108</td>\n",
       "      <td>0.0</td>\n",
       "      <td>NEGATIVE</td>\n",
       "    </tr>\n",
       "    <tr>\n",
       "      <th>4</th>\n",
       "      <td>RT @fadnavis_amruta: Glimpse of #GST song , I ...</td>\n",
       "      <td>glimpse gst song sang customs wth composed rit...</td>\n",
       "      <td>-0.5267</td>\n",
       "      <td>0.892</td>\n",
       "      <td>0.108</td>\n",
       "      <td>0.0</td>\n",
       "      <td>NEGATIVE</td>\n",
       "    </tr>\n",
       "  </tbody>\n",
       "</table>\n",
       "</div>"
      ],
      "text/plain": [
       "                                                text  \\\n",
       "0  RT @vaandematram: #GST à¤à¤¾ à¤µà¤¿à¤°à¥à¤§ ...   \n",
       "1  RT @fadnavis_amruta: Glimpse of #GST song , I ...   \n",
       "2  à¤¬à¤¿à¤²à¥à¤¡à¤°à¥à¤ à¤¨à¥ à¤®à¤¾à¤¨à¥ à...   \n",
       "3  RT @fadnavis_amruta: Glimpse of #GST song , I ...   \n",
       "4  RT @fadnavis_amruta: Glimpse of #GST song , I ...   \n",
       "\n",
       "                                       processedtext  \\\n",
       "0                                 gst gstfornewindia   \n",
       "1  glimpse gst song sang customs wth composed rit...   \n",
       "2                                  co pkwmpj hdd gst   \n",
       "3  glimpse gst song sang customs wth composed rit...   \n",
       "4  glimpse gst song sang customs wth composed rit...   \n",
       "\n",
       "   sentiment_compound_polarity  sentiment_neutral  sentiment_negative  \\\n",
       "0                       0.0000              1.000               0.000   \n",
       "1                      -0.5267              0.892               0.108   \n",
       "2                       0.0000              1.000               0.000   \n",
       "3                      -0.5267              0.892               0.108   \n",
       "4                      -0.5267              0.892               0.108   \n",
       "\n",
       "   sentiment_pos sentiment_type  \n",
       "0            0.0        NEUTRAL  \n",
       "1            0.0       NEGATIVE  \n",
       "2            0.0        NEUTRAL  \n",
       "3            0.0       NEGATIVE  \n",
       "4            0.0       NEGATIVE  "
      ]
     },
     "execution_count": 29,
     "metadata": {},
     "output_type": "execute_result"
    }
   ],
   "source": [
    "csgst_df['sentiment_compound_polarity']=csgst_df.processedtext.apply(lambda x:sid.polarity_scores(x)['compound'])\n",
    "csgst_df['sentiment_neutral']=csgst_df.processedtext.apply(lambda x:sid.polarity_scores(x)['neu'])\n",
    "csgst_df['sentiment_negative']=csgst_df.processedtext.apply(lambda x:sid.polarity_scores(x)['neg'])\n",
    "csgst_df['sentiment_pos']=csgst_df.processedtext.apply(lambda x:sid.polarity_scores(x)['pos'])\n",
    "csgst_df['sentiment_type']=''\n",
    "csgst_df.loc[csgst_df.sentiment_compound_polarity>0,'sentiment_type']='POSITIVE'\n",
    "csgst_df.loc[csgst_df.sentiment_compound_polarity==0,'sentiment_type']='NEUTRAL'\n",
    "csgst_df.loc[csgst_df.sentiment_compound_polarity<0,'sentiment_type']='NEGATIVE'\n",
    "csgst_df.head()"
   ]
  },
  {
   "cell_type": "code",
   "execution_count": 30,
   "metadata": {},
   "outputs": [
    {
     "data": {
      "text/plain": [
       "NEUTRAL     5657\n",
       "POSITIVE    2450\n",
       "NEGATIVE    1712\n",
       "Name: sentiment_type, dtype: int64"
      ]
     },
     "execution_count": 30,
     "metadata": {},
     "output_type": "execute_result"
    }
   ],
   "source": [
    "csgst_df['sentiment_type'].value_counts()"
   ]
  },
  {
   "cell_type": "code",
   "execution_count": 31,
   "metadata": {},
   "outputs": [
    {
     "data": {
      "text/plain": [
       "<matplotlib.axes._subplots.AxesSubplot at 0x15bcc9b0>"
      ]
     },
     "execution_count": 31,
     "metadata": {},
     "output_type": "execute_result"
    },
    {
     "data": {
      "image/png": "[encoded data removed]",
      "text/plain": [
       "<matplotlib.figure.Figure at 0x161ee400>"
      ]
     },
     "metadata": {},
     "output_type": "display_data"
    }
   ],
   "source": [
    "csgst_df['sentiment_type'].value_counts().plot.bar()"
   ]
  },
  {
   "cell_type": "code",
   "execution_count": 32,
   "metadata": {},
   "outputs": [
    {
     "name": "stdout",
     "output_type": "stream",
     "text": [
      "7855 1964 9819\n"
     ]
    }
   ],
   "source": [
    "processed_csgsttweet_train, processed_csgsttweet_test, sentimentcsgst_train, sentimentcsgst_test = train_test_split(csgst_df['processedtext'], csgst_df['sentiment_type'], test_size=0.2,random_state=101)\n",
    "\n",
    "print(len(processed_csgsttweet_train), len(processed_csgsttweet_test), len(processed_csgsttweet_train) + len(processed_csgsttweet_test))"
   ]
  },
  {
   "cell_type": "code",
   "execution_count": 33,
   "metadata": {},
   "outputs": [
    {
     "name": "stdout",
     "output_type": "stream",
     "text": [
      "[('gst', 12969), ('co', 6973), ('gst co', 2197), ('gst gst', 2083), ('budget', 1295), ('gst gst gst', 937), ('gst gst co', 900), ('tax', 826), ('modi', 760), ('uxchmunmex', 731)]\n"
     ]
    }
   ],
   "source": [
    "vec1 = CountVectorizer(min_df=2  , ngram_range=(1,3)).fit(csgst_df['processedtext'])\n",
    "\n",
    "bag_of_words1 = vec1.transform(csgst_df['processedtext'])\n",
    "sum_words1 = bag_of_words1.sum(axis=0)\n",
    "words_freq1 = [(word1, sum_words1[0, idx1]) for word1, idx1 in vec1.vocabulary_.items()]\n",
    "words_freq1 =sorted(words_freq1, key = lambda x: x[1], reverse=True)[:10]\n",
    "print(words_freq1)"
   ]
  },
  {
   "cell_type": "code",
   "execution_count": 34,
   "metadata": {},
   "outputs": [],
   "source": [
    "count_vect1 = CountVectorizer(min_df=2 ,ngram_range=(1,3))\n",
    "X_csgst = count_vect1.fit_transform(csgst_df['processedtext'])\n",
    "X_csgstTrain_counts = count_vect1.fit_transform(processed_csgsttweet_train)"
   ]
  },
  {
   "cell_type": "code",
   "execution_count": 35,
   "metadata": {},
   "outputs": [],
   "source": [
    "X_csgstTest_counts = count_vect1.transform(processed_csgsttweet_test)"
   ]
  },
  {
   "cell_type": "code",
   "execution_count": 37,
   "metadata": {},
   "outputs": [
    {
     "name": "stdout",
     "output_type": "stream",
     "text": [
      "Train data-Shape of Sparse Matrix:  (7855, 20759)\n",
      "Train data-Amount of Non-Zero occurences:  201970\n",
      "Test data-Shape of Sparse Matrix:  (1964, 20759)\n",
      "Test data-Amount of Non-Zero occurences:  47824\n"
     ]
    }
   ],
   "source": [
    "print('Train data-Shape of Sparse Matrix: ', X_csgstTrain_counts.shape)\n",
    "print('Train data-Amount of Non-Zero occurences: ', X_csgstTrain_counts.nnz)\n",
    "\n",
    "print('Test data-Shape of Sparse Matrix: ', X_csgstTest_counts.shape)\n",
    "print('Test data-Amount of Non-Zero occurences: ', X_csgstTest_counts.nnz)"
   ]
  },
  {
   "cell_type": "code",
   "execution_count": 38,
   "metadata": {},
   "outputs": [],
   "source": [
    "from sklearn.feature_extraction.text import TfidfTransformer\n",
    "tfidf_transformer1 = TfidfTransformer()\n",
    "X_csgst_tfidf = tfidf_transformer1.fit_transform(X_csgst)\n",
    "X_csgstTrain_tfidf = tfidf_transformer1.fit_transform(X_csgstTrain_counts)"
   ]
  },
  {
   "cell_type": "code",
   "execution_count": 39,
   "metadata": {},
   "outputs": [],
   "source": [
    "X_csgstTest_tfidf = tfidf_transformer1.transform(X_csgstTest_counts)"
   ]
  },
  {
   "cell_type": "code",
   "execution_count": 40,
   "metadata": {},
   "outputs": [
    {
     "name": "stdout",
     "output_type": "stream",
     "text": [
      "(7855, 20759)\n",
      "(1964, 20759)\n"
     ]
    }
   ],
   "source": [
    "print(X_csgstTrain_tfidf.shape)\n",
    "print(X_csgstTest_tfidf.shape)"
   ]
  },
  {
   "cell_type": "code",
   "execution_count": 41,
   "metadata": {},
   "outputs": [],
   "source": [
    "gst_prediction={}"
   ]
  },
  {
   "cell_type": "code",
   "execution_count": 42,
   "metadata": {},
   "outputs": [
    {
     "name": "stdout",
     "output_type": "stream",
     "text": [
      "GST-Decision Tree Accuracy : 0.5936863543788188\n"
     ]
    }
   ],
   "source": [
    "from sklearn.tree import DecisionTreeClassifier\n",
    "decision_tree_model_csgst = DecisionTreeClassifier(max_leaf_nodes=2, random_state=101)\n",
    "decision_tree_model_csgst.fit(X_csgstTrain_tfidf,sentimentcsgst_train)\n",
    "gst_prediction['Decision tree'] = decision_tree_model_csgst.predict(X_csgstTest_tfidf)\n",
    "print(\"GST-Decision Tree Accuracy : {}\".format(decision_tree_model_csgst.score(X_csgstTest_tfidf , sentimentcsgst_test)))"
   ]
  },
  {
   "cell_type": "code",
   "execution_count": 43,
   "metadata": {},
   "outputs": [
    {
     "name": "stdout",
     "output_type": "stream",
     "text": [
      "GST-Logistic regression Accuracy : 0.905295315682281\n"
     ]
    }
   ],
   "source": [
    "from sklearn.linear_model import LogisticRegression\n",
    "logistic_regression_model_csgst = LogisticRegression( random_state=101)\n",
    "logistic_regression_model_csgst.fit(X_csgstTrain_tfidf,sentimentcsgst_train)\n",
    "gst_prediction['Logistic Regression'] = logistic_regression_model_csgst.predict(X_csgstTest_tfidf)\n",
    "print(\"GST-Logistic regression Accuracy : {}\".format(logistic_regression_model_csgst.score(X_csgstTest_tfidf , sentimentcsgst_test)))"
   ]
  },
  {
   "cell_type": "code",
   "execution_count": 44,
   "metadata": {},
   "outputs": [
    {
     "name": "stdout",
     "output_type": "stream",
     "text": [
      " Decision tree:\n",
      "             precision    recall  f1-score   support\n",
      "\n",
      "   POSITIVE       0.00      0.00      0.00       335\n",
      "   NEGATIVE       0.91      0.63      0.75      1128\n",
      "    NEUTRAL       0.38      0.90      0.54       501\n",
      "\n",
      "avg / total       0.62      0.59      0.57      1964\n",
      "\n",
      "\n",
      "\n",
      " Logistic Regression:\n",
      "             precision    recall  f1-score   support\n",
      "\n",
      "   POSITIVE       0.96      0.73      0.83       335\n",
      "   NEGATIVE       0.91      0.97      0.94      1128\n",
      "    NEUTRAL       0.86      0.87      0.87       501\n",
      "\n",
      "avg / total       0.91      0.91      0.90      1964\n",
      "\n",
      "\n",
      "\n"
     ]
    },
    {
     "name": "stderr",
     "output_type": "stream",
     "text": [
      "c:\\python\\lib\\site-packages\\sklearn\\metrics\\classification.py:1135: UndefinedMetricWarning: Precision and F-score are ill-defined and being set to 0.0 in labels with no predicted samples.\n",
      "  'precision', 'predicted', average, warn_for)\n"
     ]
    }
   ],
   "source": [
    "keys = gst_prediction.keys()\n",
    "for key in keys:\n",
    "    print(\" {}:\".format(key))\n",
    "    print(metrics.classification_report(sentimentcsgst_test, gst_prediction.get(key), target_names = [\"POSITIVE\", \"NEGATIVE\",\"NEUTRAL\"]))\n",
    "    print(\"\\n\")"
   ]
  },
  {
   "cell_type": "code",
   "execution_count": 45,
   "metadata": {},
   "outputs": [
    {
     "name": "stderr",
     "output_type": "stream",
     "text": [
      "c:\\python\\lib\\site-packages\\ipykernel_launcher.py:3: SettingWithCopyWarning: \n",
      "A value is trying to be set on a copy of a slice from a DataFrame.\n",
      "Try using .loc[row_indexer,col_indexer] = value instead\n",
      "\n",
      "See the caveats in the documentation: http://pandas.pydata.org/pandas-docs/stable/indexing.html#indexing-view-versus-copy\n",
      "  This is separate from the ipykernel package so we can avoid doing imports until\n"
     ]
    },
    {
     "data": {
      "text/html": [
       "<div>\n",
       "<style scoped>\n",
       "    .dataframe tbody tr th:only-of-type {\n",
       "        vertical-align: middle;\n",
       "    }\n",
       "\n",
       "    .dataframe tbody tr th {\n",
       "        vertical-align: top;\n",
       "    }\n",
       "\n",
       "    .dataframe thead th {\n",
       "        text-align: right;\n",
       "    }\n",
       "</style>\n",
       "<table border=\"1\" class=\"dataframe\">\n",
       "  <thead>\n",
       "    <tr style=\"text-align: right;\">\n",
       "      <th></th>\n",
       "      <th>text</th>\n",
       "      <th>processedtext</th>\n",
       "      <th>sentiment_compound_polarity</th>\n",
       "      <th>sentiment_neutral</th>\n",
       "      <th>sentiment_negative</th>\n",
       "      <th>sentiment_pos</th>\n",
       "      <th>sentiment_type</th>\n",
       "      <th>Sentiment_byDT</th>\n",
       "    </tr>\n",
       "  </thead>\n",
       "  <tbody>\n",
       "    <tr>\n",
       "      <th>0</th>\n",
       "      <td>RT @vaandematram: #GST à¤à¤¾ à¤µà¤¿à¤°à¥à¤§ ...</td>\n",
       "      <td>gst gstfornewindia</td>\n",
       "      <td>0.0000</td>\n",
       "      <td>1.000</td>\n",
       "      <td>0.000</td>\n",
       "      <td>0.0</td>\n",
       "      <td>NEUTRAL</td>\n",
       "      <td>NEUTRAL</td>\n",
       "    </tr>\n",
       "    <tr>\n",
       "      <th>1</th>\n",
       "      <td>RT @fadnavis_amruta: Glimpse of #GST song , I ...</td>\n",
       "      <td>glimpse gst song sang customs wth composed rit...</td>\n",
       "      <td>-0.5267</td>\n",
       "      <td>0.892</td>\n",
       "      <td>0.108</td>\n",
       "      <td>0.0</td>\n",
       "      <td>NEGATIVE</td>\n",
       "      <td>POSITIVE</td>\n",
       "    </tr>\n",
       "    <tr>\n",
       "      <th>2</th>\n",
       "      <td>à¤¬à¤¿à¤²à¥à¤¡à¤°à¥à¤ à¤¨à¥ à¤®à¤¾à¤¨à¥ à...</td>\n",
       "      <td>co pkwmpj hdd gst</td>\n",
       "      <td>0.0000</td>\n",
       "      <td>1.000</td>\n",
       "      <td>0.000</td>\n",
       "      <td>0.0</td>\n",
       "      <td>NEUTRAL</td>\n",
       "      <td>NEUTRAL</td>\n",
       "    </tr>\n",
       "    <tr>\n",
       "      <th>3</th>\n",
       "      <td>RT @fadnavis_amruta: Glimpse of #GST song , I ...</td>\n",
       "      <td>glimpse gst song sang customs wth composed rit...</td>\n",
       "      <td>-0.5267</td>\n",
       "      <td>0.892</td>\n",
       "      <td>0.108</td>\n",
       "      <td>0.0</td>\n",
       "      <td>NEGATIVE</td>\n",
       "      <td>POSITIVE</td>\n",
       "    </tr>\n",
       "    <tr>\n",
       "      <th>4</th>\n",
       "      <td>RT @fadnavis_amruta: Glimpse of #GST song , I ...</td>\n",
       "      <td>glimpse gst song sang customs wth composed rit...</td>\n",
       "      <td>-0.5267</td>\n",
       "      <td>0.892</td>\n",
       "      <td>0.108</td>\n",
       "      <td>0.0</td>\n",
       "      <td>NEGATIVE</td>\n",
       "      <td>POSITIVE</td>\n",
       "    </tr>\n",
       "  </tbody>\n",
       "</table>\n",
       "</div>"
      ],
      "text/plain": [
       "                                                text  \\\n",
       "0  RT @vaandematram: #GST à¤à¤¾ à¤µà¤¿à¤°à¥à¤§ ...   \n",
       "1  RT @fadnavis_amruta: Glimpse of #GST song , I ...   \n",
       "2  à¤¬à¤¿à¤²à¥à¤¡à¤°à¥à¤ à¤¨à¥ à¤®à¤¾à¤¨à¥ à...   \n",
       "3  RT @fadnavis_amruta: Glimpse of #GST song , I ...   \n",
       "4  RT @fadnavis_amruta: Glimpse of #GST song , I ...   \n",
       "\n",
       "                                       processedtext  \\\n",
       "0                                 gst gstfornewindia   \n",
       "1  glimpse gst song sang customs wth composed rit...   \n",
       "2                                  co pkwmpj hdd gst   \n",
       "3  glimpse gst song sang customs wth composed rit...   \n",
       "4  glimpse gst song sang customs wth composed rit...   \n",
       "\n",
       "   sentiment_compound_polarity  sentiment_neutral  sentiment_negative  \\\n",
       "0                       0.0000              1.000               0.000   \n",
       "1                      -0.5267              0.892               0.108   \n",
       "2                       0.0000              1.000               0.000   \n",
       "3                      -0.5267              0.892               0.108   \n",
       "4                      -0.5267              0.892               0.108   \n",
       "\n",
       "   sentiment_pos sentiment_type Sentiment_byDT  \n",
       "0            0.0        NEUTRAL        NEUTRAL  \n",
       "1            0.0       NEGATIVE       POSITIVE  \n",
       "2            0.0        NEUTRAL        NEUTRAL  \n",
       "3            0.0       NEGATIVE       POSITIVE  \n",
       "4            0.0       NEGATIVE       POSITIVE  "
      ]
     },
     "execution_count": 45,
     "metadata": {},
     "output_type": "execute_result"
    }
   ],
   "source": [
    "decision_tree_model_csgst1 = DecisionTreeClassifier(max_leaf_nodes=2, random_state=101)\n",
    "decision_tree_model_csgst1.fit(X_csgst_tfidf,csgst_df['sentiment_type'])\n",
    "csgst_df['Sentiment_byDT']=decision_tree_model_csgst1.predict(X_csgst_tfidf)\n",
    "csgst_df.head()"
   ]
  },
  {
   "cell_type": "code",
   "execution_count": 46,
   "metadata": {},
   "outputs": [
    {
     "name": "stderr",
     "output_type": "stream",
     "text": [
      "c:\\python\\lib\\site-packages\\ipykernel_launcher.py:3: SettingWithCopyWarning: \n",
      "A value is trying to be set on a copy of a slice from a DataFrame.\n",
      "Try using .loc[row_indexer,col_indexer] = value instead\n",
      "\n",
      "See the caveats in the documentation: http://pandas.pydata.org/pandas-docs/stable/indexing.html#indexing-view-versus-copy\n",
      "  This is separate from the ipykernel package so we can avoid doing imports until\n"
     ]
    },
    {
     "data": {
      "text/html": [
       "<div>\n",
       "<style scoped>\n",
       "    .dataframe tbody tr th:only-of-type {\n",
       "        vertical-align: middle;\n",
       "    }\n",
       "\n",
       "    .dataframe tbody tr th {\n",
       "        vertical-align: top;\n",
       "    }\n",
       "\n",
       "    .dataframe thead th {\n",
       "        text-align: right;\n",
       "    }\n",
       "</style>\n",
       "<table border=\"1\" class=\"dataframe\">\n",
       "  <thead>\n",
       "    <tr style=\"text-align: right;\">\n",
       "      <th></th>\n",
       "      <th>text</th>\n",
       "      <th>processedtext</th>\n",
       "      <th>sentiment_compound_polarity</th>\n",
       "      <th>sentiment_neutral</th>\n",
       "      <th>sentiment_negative</th>\n",
       "      <th>sentiment_pos</th>\n",
       "      <th>sentiment_type</th>\n",
       "      <th>Sentiment_byDT</th>\n",
       "      <th>Sentiment_byLR</th>\n",
       "    </tr>\n",
       "  </thead>\n",
       "  <tbody>\n",
       "    <tr>\n",
       "      <th>0</th>\n",
       "      <td>RT @vaandematram: #GST à¤à¤¾ à¤µà¤¿à¤°à¥à¤§ ...</td>\n",
       "      <td>gst gstfornewindia</td>\n",
       "      <td>0.0000</td>\n",
       "      <td>1.000</td>\n",
       "      <td>0.000</td>\n",
       "      <td>0.0</td>\n",
       "      <td>NEUTRAL</td>\n",
       "      <td>NEUTRAL</td>\n",
       "      <td>NEUTRAL</td>\n",
       "    </tr>\n",
       "    <tr>\n",
       "      <th>1</th>\n",
       "      <td>RT @fadnavis_amruta: Glimpse of #GST song , I ...</td>\n",
       "      <td>glimpse gst song sang customs wth composed rit...</td>\n",
       "      <td>-0.5267</td>\n",
       "      <td>0.892</td>\n",
       "      <td>0.108</td>\n",
       "      <td>0.0</td>\n",
       "      <td>NEGATIVE</td>\n",
       "      <td>POSITIVE</td>\n",
       "      <td>NEGATIVE</td>\n",
       "    </tr>\n",
       "    <tr>\n",
       "      <th>2</th>\n",
       "      <td>à¤¬à¤¿à¤²à¥à¤¡à¤°à¥à¤ à¤¨à¥ à¤®à¤¾à¤¨à¥ à...</td>\n",
       "      <td>co pkwmpj hdd gst</td>\n",
       "      <td>0.0000</td>\n",
       "      <td>1.000</td>\n",
       "      <td>0.000</td>\n",
       "      <td>0.0</td>\n",
       "      <td>NEUTRAL</td>\n",
       "      <td>NEUTRAL</td>\n",
       "      <td>NEUTRAL</td>\n",
       "    </tr>\n",
       "    <tr>\n",
       "      <th>3</th>\n",
       "      <td>RT @fadnavis_amruta: Glimpse of #GST song , I ...</td>\n",
       "      <td>glimpse gst song sang customs wth composed rit...</td>\n",
       "      <td>-0.5267</td>\n",
       "      <td>0.892</td>\n",
       "      <td>0.108</td>\n",
       "      <td>0.0</td>\n",
       "      <td>NEGATIVE</td>\n",
       "      <td>POSITIVE</td>\n",
       "      <td>NEGATIVE</td>\n",
       "    </tr>\n",
       "    <tr>\n",
       "      <th>4</th>\n",
       "      <td>RT @fadnavis_amruta: Glimpse of #GST song , I ...</td>\n",
       "      <td>glimpse gst song sang customs wth composed rit...</td>\n",
       "      <td>-0.5267</td>\n",
       "      <td>0.892</td>\n",
       "      <td>0.108</td>\n",
       "      <td>0.0</td>\n",
       "      <td>NEGATIVE</td>\n",
       "      <td>POSITIVE</td>\n",
       "      <td>NEGATIVE</td>\n",
       "    </tr>\n",
       "  </tbody>\n",
       "</table>\n",
       "</div>"
      ],
      "text/plain": [
       "                                                text  \\\n",
       "0  RT @vaandematram: #GST à¤à¤¾ à¤µà¤¿à¤°à¥à¤§ ...   \n",
       "1  RT @fadnavis_amruta: Glimpse of #GST song , I ...   \n",
       "2  à¤¬à¤¿à¤²à¥à¤¡à¤°à¥à¤ à¤¨à¥ à¤®à¤¾à¤¨à¥ à...   \n",
       "3  RT @fadnavis_amruta: Glimpse of #GST song , I ...   \n",
       "4  RT @fadnavis_amruta: Glimpse of #GST song , I ...   \n",
       "\n",
       "                                       processedtext  \\\n",
       "0                                 gst gstfornewindia   \n",
       "1  glimpse gst song sang customs wth composed rit...   \n",
       "2                                  co pkwmpj hdd gst   \n",
       "3  glimpse gst song sang customs wth composed rit...   \n",
       "4  glimpse gst song sang customs wth composed rit...   \n",
       "\n",
       "   sentiment_compound_polarity  sentiment_neutral  sentiment_negative  \\\n",
       "0                       0.0000              1.000               0.000   \n",
       "1                      -0.5267              0.892               0.108   \n",
       "2                       0.0000              1.000               0.000   \n",
       "3                      -0.5267              0.892               0.108   \n",
       "4                      -0.5267              0.892               0.108   \n",
       "\n",
       "   sentiment_pos sentiment_type Sentiment_byDT Sentiment_byLR  \n",
       "0            0.0        NEUTRAL        NEUTRAL        NEUTRAL  \n",
       "1            0.0       NEGATIVE       POSITIVE       NEGATIVE  \n",
       "2            0.0        NEUTRAL        NEUTRAL        NEUTRAL  \n",
       "3            0.0       NEGATIVE       POSITIVE       NEGATIVE  \n",
       "4            0.0       NEGATIVE       POSITIVE       NEGATIVE  "
      ]
     },
     "execution_count": 46,
     "metadata": {},
     "output_type": "execute_result"
    }
   ],
   "source": [
    "logistic_regression_model_csgst1 = LogisticRegression( random_state=101)\n",
    "logistic_regression_model_csgst1.fit(X_csgst_tfidf,csgst_df['sentiment_type'])\n",
    "csgst_df['Sentiment_byLR']=logistic_regression_model_csgst1.predict(X_csgst_tfidf)\n",
    "csgst_df.head()"
   ]
  },
  {
   "cell_type": "code",
   "execution_count": 47,
   "metadata": {},
   "outputs": [],
   "source": [
    "csgst_df.to_csv(\"GST_predicted_result.csv\",index=False)"
   ]
  },
  {
   "cell_type": "code",
   "execution_count": null,
   "metadata": {},
   "outputs": [],
   "source": []
  },
  {
   "cell_type": "markdown",
   "metadata": {},
   "source": [
    "# Clean India Tweets"
   ]
  },
  {
   "cell_type": "code",
   "execution_count": 48,
   "metadata": {},
   "outputs": [
    {
     "data": {
      "text/html": [
       "<div>\n",
       "<style scoped>\n",
       "    .dataframe tbody tr th:only-of-type {\n",
       "        vertical-align: middle;\n",
       "    }\n",
       "\n",
       "    .dataframe tbody tr th {\n",
       "        vertical-align: top;\n",
       "    }\n",
       "\n",
       "    .dataframe thead th {\n",
       "        text-align: right;\n",
       "    }\n",
       "</style>\n",
       "<table border=\"1\" class=\"dataframe\">\n",
       "  <thead>\n",
       "    <tr style=\"text-align: right;\">\n",
       "      <th></th>\n",
       "      <th>id_str</th>\n",
       "      <th>from_user</th>\n",
       "      <th>text</th>\n",
       "      <th>created_at</th>\n",
       "      <th>time</th>\n",
       "      <th>geo_coordinates</th>\n",
       "      <th>user_lang</th>\n",
       "      <th>in_reply_to_user_id_str</th>\n",
       "      <th>in_reply_to_screen_name</th>\n",
       "      <th>from_user_id_str</th>\n",
       "      <th>in_reply_to_status_id_str</th>\n",
       "      <th>source</th>\n",
       "      <th>profile_image_url</th>\n",
       "      <th>user_followers_count</th>\n",
       "      <th>user_friends_count</th>\n",
       "      <th>user_location</th>\n",
       "      <th>status_url</th>\n",
       "      <th>entities_str</th>\n",
       "    </tr>\n",
       "  </thead>\n",
       "  <tbody>\n",
       "    <tr>\n",
       "      <th>0</th>\n",
       "      <td>961887187498184705</td>\n",
       "      <td>gbumanath</td>\n",
       "      <td>RT @chennaistpi: Cleanliness drive at STPI-Mad...</td>\n",
       "      <td>Fri Feb 09 08:59:11 +0000 2018</td>\n",
       "      <td>09/02/2018 08:59:11</td>\n",
       "      <td>NaN</td>\n",
       "      <td>en</td>\n",
       "      <td>NaN</td>\n",
       "      <td>NaN</td>\n",
       "      <td>727053648568537088</td>\n",
       "      <td>NaN</td>\n",
       "      <td>&lt;a href=\"http://twitter.com\" rel=\"nofollow\"&gt;Tw...</td>\n",
       "      <td>http://pbs.twimg.com/profile_images/7270555065...</td>\n",
       "      <td>67.0</td>\n",
       "      <td>47.0</td>\n",
       "      <td>Nanganallur India</td>\n",
       "      <td>http://twitter.com/gbumanath/statuses/96188718...</td>\n",
       "      <td>{\"hashtags\":[{\"text\":\"SwachhtaPakhwada\",\"indic...</td>\n",
       "    </tr>\n",
       "    <tr>\n",
       "      <th>1</th>\n",
       "      <td>961887178732302336</td>\n",
       "      <td>yogeshwar_ade</td>\n",
       "      <td>RT @STPIPune: Distribution of pamphlets at STP...</td>\n",
       "      <td>Fri Feb 09 08:59:09 +0000 2018</td>\n",
       "      <td>09/02/2018 08:59:09</td>\n",
       "      <td>NaN</td>\n",
       "      <td>en</td>\n",
       "      <td>NaN</td>\n",
       "      <td>NaN</td>\n",
       "      <td>815808866625540097</td>\n",
       "      <td>NaN</td>\n",
       "      <td>&lt;a href=\"http://twitter.com/download/android\" ...</td>\n",
       "      <td>http://pbs.twimg.com/profile_images/8321920263...</td>\n",
       "      <td>68.0</td>\n",
       "      <td>41.0</td>\n",
       "      <td>Pune, India</td>\n",
       "      <td>http://twitter.com/yogeshwar_ade/statuses/9618...</td>\n",
       "      <td>{\"hashtags\":[{\"text\":\"SwachhataPakhwada\",\"indi...</td>\n",
       "    </tr>\n",
       "    <tr>\n",
       "      <th>2</th>\n",
       "      <td>961887162869231616</td>\n",
       "      <td>gbumanath</td>\n",
       "      <td>RT @chennaistpi: Cleanliness drive at RMG Elec...</td>\n",
       "      <td>Fri Feb 09 08:59:05 +0000 2018</td>\n",
       "      <td>09/02/2018 08:59:05</td>\n",
       "      <td>NaN</td>\n",
       "      <td>en</td>\n",
       "      <td>NaN</td>\n",
       "      <td>NaN</td>\n",
       "      <td>727053648568537088</td>\n",
       "      <td>NaN</td>\n",
       "      <td>&lt;a href=\"http://twitter.com\" rel=\"nofollow\"&gt;Tw...</td>\n",
       "      <td>http://pbs.twimg.com/profile_images/7270555065...</td>\n",
       "      <td>67.0</td>\n",
       "      <td>47.0</td>\n",
       "      <td>Nanganallur India</td>\n",
       "      <td>http://twitter.com/gbumanath/statuses/96188716...</td>\n",
       "      <td>{\"hashtags\":[{\"text\":\"SwachhtaPakhwada\",\"indic...</td>\n",
       "    </tr>\n",
       "    <tr>\n",
       "      <th>3</th>\n",
       "      <td>961887058460426240</td>\n",
       "      <td>gbumanath</td>\n",
       "      <td>RT @chennaistpi: Staff at STPI-Puducherry invo...</td>\n",
       "      <td>Fri Feb 09 08:58:40 +0000 2018</td>\n",
       "      <td>09/02/2018 08:58:40</td>\n",
       "      <td>NaN</td>\n",
       "      <td>en</td>\n",
       "      <td>NaN</td>\n",
       "      <td>NaN</td>\n",
       "      <td>727053648568537088</td>\n",
       "      <td>NaN</td>\n",
       "      <td>&lt;a href=\"http://twitter.com\" rel=\"nofollow\"&gt;Tw...</td>\n",
       "      <td>http://pbs.twimg.com/profile_images/7270555065...</td>\n",
       "      <td>67.0</td>\n",
       "      <td>47.0</td>\n",
       "      <td>Nanganallur India</td>\n",
       "      <td>http://twitter.com/gbumanath/statuses/96188705...</td>\n",
       "      <td>{\"hashtags\":[{\"text\":\"SwachhtaPakhwada\",\"indic...</td>\n",
       "    </tr>\n",
       "    <tr>\n",
       "      <th>4</th>\n",
       "      <td>961886889753042949</td>\n",
       "      <td>gbumanath</td>\n",
       "      <td>RT @chennaistpi: Staff at STPI-Coimbatore invo...</td>\n",
       "      <td>Fri Feb 09 08:58:00 +0000 2018</td>\n",
       "      <td>09/02/2018 08:58:00</td>\n",
       "      <td>NaN</td>\n",
       "      <td>en</td>\n",
       "      <td>NaN</td>\n",
       "      <td>NaN</td>\n",
       "      <td>727053648568537088</td>\n",
       "      <td>NaN</td>\n",
       "      <td>&lt;a href=\"http://twitter.com\" rel=\"nofollow\"&gt;Tw...</td>\n",
       "      <td>http://pbs.twimg.com/profile_images/7270555065...</td>\n",
       "      <td>67.0</td>\n",
       "      <td>47.0</td>\n",
       "      <td>Nanganallur India</td>\n",
       "      <td>http://twitter.com/gbumanath/statuses/96188688...</td>\n",
       "      <td>{\"hashtags\":[{\"text\":\"SwachhtaPakhwada\",\"indic...</td>\n",
       "    </tr>\n",
       "  </tbody>\n",
       "</table>\n",
       "</div>"
      ],
      "text/plain": [
       "               id_str      from_user  \\\n",
       "0  961887187498184705      gbumanath   \n",
       "1  961887178732302336  yogeshwar_ade   \n",
       "2  961887162869231616      gbumanath   \n",
       "3  961887058460426240      gbumanath   \n",
       "4  961886889753042949      gbumanath   \n",
       "\n",
       "                                                text  \\\n",
       "0  RT @chennaistpi: Cleanliness drive at STPI-Mad...   \n",
       "1  RT @STPIPune: Distribution of pamphlets at STP...   \n",
       "2  RT @chennaistpi: Cleanliness drive at RMG Elec...   \n",
       "3  RT @chennaistpi: Staff at STPI-Puducherry invo...   \n",
       "4  RT @chennaistpi: Staff at STPI-Coimbatore invo...   \n",
       "\n",
       "                       created_at                 time geo_coordinates  \\\n",
       "0  Fri Feb 09 08:59:11 +0000 2018  09/02/2018 08:59:11             NaN   \n",
       "1  Fri Feb 09 08:59:09 +0000 2018  09/02/2018 08:59:09             NaN   \n",
       "2  Fri Feb 09 08:59:05 +0000 2018  09/02/2018 08:59:05             NaN   \n",
       "3  Fri Feb 09 08:58:40 +0000 2018  09/02/2018 08:58:40             NaN   \n",
       "4  Fri Feb 09 08:58:00 +0000 2018  09/02/2018 08:58:00             NaN   \n",
       "\n",
       "  user_lang  in_reply_to_user_id_str in_reply_to_screen_name  \\\n",
       "0        en                      NaN                     NaN   \n",
       "1        en                      NaN                     NaN   \n",
       "2        en                      NaN                     NaN   \n",
       "3        en                      NaN                     NaN   \n",
       "4        en                      NaN                     NaN   \n",
       "\n",
       "     from_user_id_str  in_reply_to_status_id_str  \\\n",
       "0  727053648568537088                        NaN   \n",
       "1  815808866625540097                        NaN   \n",
       "2  727053648568537088                        NaN   \n",
       "3  727053648568537088                        NaN   \n",
       "4  727053648568537088                        NaN   \n",
       "\n",
       "                                              source  \\\n",
       "0  <a href=\"http://twitter.com\" rel=\"nofollow\">Tw...   \n",
       "1  <a href=\"http://twitter.com/download/android\" ...   \n",
       "2  <a href=\"http://twitter.com\" rel=\"nofollow\">Tw...   \n",
       "3  <a href=\"http://twitter.com\" rel=\"nofollow\">Tw...   \n",
       "4  <a href=\"http://twitter.com\" rel=\"nofollow\">Tw...   \n",
       "\n",
       "                                   profile_image_url  user_followers_count  \\\n",
       "0  http://pbs.twimg.com/profile_images/7270555065...                  67.0   \n",
       "1  http://pbs.twimg.com/profile_images/8321920263...                  68.0   \n",
       "2  http://pbs.twimg.com/profile_images/7270555065...                  67.0   \n",
       "3  http://pbs.twimg.com/profile_images/7270555065...                  67.0   \n",
       "4  http://pbs.twimg.com/profile_images/7270555065...                  67.0   \n",
       "\n",
       "   user_friends_count      user_location  \\\n",
       "0                47.0  Nanganallur India   \n",
       "1                41.0        Pune, India   \n",
       "2                47.0  Nanganallur India   \n",
       "3                47.0  Nanganallur India   \n",
       "4                47.0  Nanganallur India   \n",
       "\n",
       "                                          status_url  \\\n",
       "0  http://twitter.com/gbumanath/statuses/96188718...   \n",
       "1  http://twitter.com/yogeshwar_ade/statuses/9618...   \n",
       "2  http://twitter.com/gbumanath/statuses/96188716...   \n",
       "3  http://twitter.com/gbumanath/statuses/96188705...   \n",
       "4  http://twitter.com/gbumanath/statuses/96188688...   \n",
       "\n",
       "                                        entities_str  \n",
       "0  {\"hashtags\":[{\"text\":\"SwachhtaPakhwada\",\"indic...  \n",
       "1  {\"hashtags\":[{\"text\":\"SwachhataPakhwada\",\"indi...  \n",
       "2  {\"hashtags\":[{\"text\":\"SwachhtaPakhwada\",\"indic...  \n",
       "3  {\"hashtags\":[{\"text\":\"SwachhtaPakhwada\",\"indic...  \n",
       "4  {\"hashtags\":[{\"text\":\"SwachhtaPakhwada\",\"indic...  "
      ]
     },
     "execution_count": 48,
     "metadata": {},
     "output_type": "execute_result"
    }
   ],
   "source": [
    "cleanInd_df = pd.read_csv('Clean_India.csv',encoding = 'ISO-8859-1')\n",
    "cleanInd_df.head()"
   ]
  },
  {
   "cell_type": "code",
   "execution_count": 49,
   "metadata": {},
   "outputs": [
    {
     "data": {
      "text/html": [
       "<div>\n",
       "<style scoped>\n",
       "    .dataframe tbody tr th:only-of-type {\n",
       "        vertical-align: middle;\n",
       "    }\n",
       "\n",
       "    .dataframe tbody tr th {\n",
       "        vertical-align: top;\n",
       "    }\n",
       "\n",
       "    .dataframe thead th {\n",
       "        text-align: right;\n",
       "    }\n",
       "</style>\n",
       "<table border=\"1\" class=\"dataframe\">\n",
       "  <thead>\n",
       "    <tr style=\"text-align: right;\">\n",
       "      <th></th>\n",
       "      <th>text</th>\n",
       "    </tr>\n",
       "  </thead>\n",
       "  <tbody>\n",
       "    <tr>\n",
       "      <th>0</th>\n",
       "      <td>RT @chennaistpi: Cleanliness drive at STPI-Mad...</td>\n",
       "    </tr>\n",
       "    <tr>\n",
       "      <th>1</th>\n",
       "      <td>RT @STPIPune: Distribution of pamphlets at STP...</td>\n",
       "    </tr>\n",
       "    <tr>\n",
       "      <th>2</th>\n",
       "      <td>RT @chennaistpi: Cleanliness drive at RMG Elec...</td>\n",
       "    </tr>\n",
       "    <tr>\n",
       "      <th>3</th>\n",
       "      <td>RT @chennaistpi: Staff at STPI-Puducherry invo...</td>\n",
       "    </tr>\n",
       "    <tr>\n",
       "      <th>4</th>\n",
       "      <td>RT @chennaistpi: Staff at STPI-Coimbatore invo...</td>\n",
       "    </tr>\n",
       "  </tbody>\n",
       "</table>\n",
       "</div>"
      ],
      "text/plain": [
       "                                                text\n",
       "0  RT @chennaistpi: Cleanliness drive at STPI-Mad...\n",
       "1  RT @STPIPune: Distribution of pamphlets at STP...\n",
       "2  RT @chennaistpi: Cleanliness drive at RMG Elec...\n",
       "3  RT @chennaistpi: Staff at STPI-Puducherry invo...\n",
       "4  RT @chennaistpi: Staff at STPI-Coimbatore invo..."
      ]
     },
     "execution_count": 49,
     "metadata": {},
     "output_type": "execute_result"
    }
   ],
   "source": [
    "cleanIndia_df = cleanInd_df[['text']]\n",
    "cleanIndia_df.head()"
   ]
  },
  {
   "cell_type": "code",
   "execution_count": 50,
   "metadata": {},
   "outputs": [
    {
     "name": "stderr",
     "output_type": "stream",
     "text": [
      "c:\\python\\lib\\site-packages\\bs4\\__init__.py:181: UserWarning: No parser was explicitly specified, so I'm using the best available HTML parser for this system (\"html5lib\"). This usually isn't a problem, but if you run this code on another system, or in a different virtual environment, it may use a different parser and behave differently.\n",
      "\n",
      "The code that caused this warning is on line 193 of the file c:\\python\\lib\\runpy.py. To get rid of this warning, change code that looks like this:\n",
      "\n",
      " BeautifulSoup(YOUR_MARKUP})\n",
      "\n",
      "to this:\n",
      "\n",
      " BeautifulSoup(YOUR_MARKUP, \"html5lib\")\n",
      "\n",
      "  markup_type=markup_type))\n",
      "c:\\python\\lib\\site-packages\\ipykernel_launcher.py:1: SettingWithCopyWarning: \n",
      "A value is trying to be set on a copy of a slice from a DataFrame.\n",
      "Try using .loc[row_indexer,col_indexer] = value instead\n",
      "\n",
      "See the caveats in the documentation: http://pandas.pydata.org/pandas-docs/stable/indexing.html#indexing-view-versus-copy\n",
      "  \"\"\"Entry point for launching an IPython kernel.\n"
     ]
    }
   ],
   "source": [
    "cleanIndia_df['processedtext']=cleanIndia_df['text'].apply(lambda x:clean_tweets(x))"
   ]
  },
  {
   "cell_type": "code",
   "execution_count": 51,
   "metadata": {},
   "outputs": [
    {
     "data": {
      "text/html": [
       "<div>\n",
       "<style scoped>\n",
       "    .dataframe tbody tr th:only-of-type {\n",
       "        vertical-align: middle;\n",
       "    }\n",
       "\n",
       "    .dataframe tbody tr th {\n",
       "        vertical-align: top;\n",
       "    }\n",
       "\n",
       "    .dataframe thead th {\n",
       "        text-align: right;\n",
       "    }\n",
       "</style>\n",
       "<table border=\"1\" class=\"dataframe\">\n",
       "  <thead>\n",
       "    <tr style=\"text-align: right;\">\n",
       "      <th></th>\n",
       "      <th>text</th>\n",
       "      <th>processedtext</th>\n",
       "    </tr>\n",
       "  </thead>\n",
       "  <tbody>\n",
       "    <tr>\n",
       "      <th>0</th>\n",
       "      <td>RT @chennaistpi: Cleanliness drive at STPI-Mad...</td>\n",
       "      <td>cleanliness drive stpi madurai premises swachh...</td>\n",
       "    </tr>\n",
       "    <tr>\n",
       "      <th>1</th>\n",
       "      <td>RT @STPIPune: Distribution of pamphlets at STP...</td>\n",
       "      <td>distribution pamphlets stpi nashik visitors pa...</td>\n",
       "    </tr>\n",
       "    <tr>\n",
       "      <th>2</th>\n",
       "      <td>RT @chennaistpi: Cleanliness drive at RMG Elec...</td>\n",
       "      <td>cleanliness drive rmg electrical area stpi che...</td>\n",
       "    </tr>\n",
       "    <tr>\n",
       "      <th>3</th>\n",
       "      <td>RT @chennaistpi: Staff at STPI-Puducherry invo...</td>\n",
       "      <td>staff stpi puducherry involved cleanliness dri...</td>\n",
       "    </tr>\n",
       "    <tr>\n",
       "      <th>4</th>\n",
       "      <td>RT @chennaistpi: Staff at STPI-Coimbatore invo...</td>\n",
       "      <td>staff stpi coimbatore involved cleanliness dri...</td>\n",
       "    </tr>\n",
       "  </tbody>\n",
       "</table>\n",
       "</div>"
      ],
      "text/plain": [
       "                                                text  \\\n",
       "0  RT @chennaistpi: Cleanliness drive at STPI-Mad...   \n",
       "1  RT @STPIPune: Distribution of pamphlets at STP...   \n",
       "2  RT @chennaistpi: Cleanliness drive at RMG Elec...   \n",
       "3  RT @chennaistpi: Staff at STPI-Puducherry invo...   \n",
       "4  RT @chennaistpi: Staff at STPI-Coimbatore invo...   \n",
       "\n",
       "                                       processedtext  \n",
       "0  cleanliness drive stpi madurai premises swachh...  \n",
       "1  distribution pamphlets stpi nashik visitors pa...  \n",
       "2  cleanliness drive rmg electrical area stpi che...  \n",
       "3  staff stpi puducherry involved cleanliness dri...  \n",
       "4  staff stpi coimbatore involved cleanliness dri...  "
      ]
     },
     "execution_count": 51,
     "metadata": {},
     "output_type": "execute_result"
    }
   ],
   "source": [
    "cleanIndia_df.head()"
   ]
  },
  {
   "cell_type": "code",
   "execution_count": 52,
   "metadata": {},
   "outputs": [
    {
     "name": "stderr",
     "output_type": "stream",
     "text": [
      "c:\\python\\lib\\site-packages\\ipykernel_launcher.py:1: SettingWithCopyWarning: \n",
      "A value is trying to be set on a copy of a slice from a DataFrame.\n",
      "Try using .loc[row_indexer,col_indexer] = value instead\n",
      "\n",
      "See the caveats in the documentation: http://pandas.pydata.org/pandas-docs/stable/indexing.html#indexing-view-versus-copy\n",
      "  \"\"\"Entry point for launching an IPython kernel.\n",
      "c:\\python\\lib\\site-packages\\ipykernel_launcher.py:2: SettingWithCopyWarning: \n",
      "A value is trying to be set on a copy of a slice from a DataFrame.\n",
      "Try using .loc[row_indexer,col_indexer] = value instead\n",
      "\n",
      "See the caveats in the documentation: http://pandas.pydata.org/pandas-docs/stable/indexing.html#indexing-view-versus-copy\n",
      "  \n",
      "c:\\python\\lib\\site-packages\\ipykernel_launcher.py:3: SettingWithCopyWarning: \n",
      "A value is trying to be set on a copy of a slice from a DataFrame.\n",
      "Try using .loc[row_indexer,col_indexer] = value instead\n",
      "\n",
      "See the caveats in the documentation: http://pandas.pydata.org/pandas-docs/stable/indexing.html#indexing-view-versus-copy\n",
      "  This is separate from the ipykernel package so we can avoid doing imports until\n",
      "c:\\python\\lib\\site-packages\\ipykernel_launcher.py:4: SettingWithCopyWarning: \n",
      "A value is trying to be set on a copy of a slice from a DataFrame.\n",
      "Try using .loc[row_indexer,col_indexer] = value instead\n",
      "\n",
      "See the caveats in the documentation: http://pandas.pydata.org/pandas-docs/stable/indexing.html#indexing-view-versus-copy\n",
      "  after removing the cwd from sys.path.\n",
      "c:\\python\\lib\\site-packages\\ipykernel_launcher.py:5: SettingWithCopyWarning: \n",
      "A value is trying to be set on a copy of a slice from a DataFrame.\n",
      "Try using .loc[row_indexer,col_indexer] = value instead\n",
      "\n",
      "See the caveats in the documentation: http://pandas.pydata.org/pandas-docs/stable/indexing.html#indexing-view-versus-copy\n",
      "  \"\"\"\n",
      "c:\\python\\lib\\site-packages\\pandas\\core\\indexing.py:537: SettingWithCopyWarning: \n",
      "A value is trying to be set on a copy of a slice from a DataFrame.\n",
      "Try using .loc[row_indexer,col_indexer] = value instead\n",
      "\n",
      "See the caveats in the documentation: http://pandas.pydata.org/pandas-docs/stable/indexing.html#indexing-view-versus-copy\n",
      "  self.obj[item] = s\n"
     ]
    },
    {
     "data": {
      "text/html": [
       "<div>\n",
       "<style scoped>\n",
       "    .dataframe tbody tr th:only-of-type {\n",
       "        vertical-align: middle;\n",
       "    }\n",
       "\n",
       "    .dataframe tbody tr th {\n",
       "        vertical-align: top;\n",
       "    }\n",
       "\n",
       "    .dataframe thead th {\n",
       "        text-align: right;\n",
       "    }\n",
       "</style>\n",
       "<table border=\"1\" class=\"dataframe\">\n",
       "  <thead>\n",
       "    <tr style=\"text-align: right;\">\n",
       "      <th></th>\n",
       "      <th>text</th>\n",
       "      <th>processedtext</th>\n",
       "      <th>sentiment_compound_polarity</th>\n",
       "      <th>sentiment_neutral</th>\n",
       "      <th>sentiment_negative</th>\n",
       "      <th>sentiment_pos</th>\n",
       "      <th>sentiment_type</th>\n",
       "    </tr>\n",
       "  </thead>\n",
       "  <tbody>\n",
       "    <tr>\n",
       "      <th>0</th>\n",
       "      <td>RT @chennaistpi: Cleanliness drive at STPI-Mad...</td>\n",
       "      <td>cleanliness drive stpi madurai premises swachh...</td>\n",
       "      <td>0.0</td>\n",
       "      <td>1.0</td>\n",
       "      <td>0.0</td>\n",
       "      <td>0.0</td>\n",
       "      <td>NEUTRAL</td>\n",
       "    </tr>\n",
       "    <tr>\n",
       "      <th>1</th>\n",
       "      <td>RT @STPIPune: Distribution of pamphlets at STP...</td>\n",
       "      <td>distribution pamphlets stpi nashik visitors pa...</td>\n",
       "      <td>0.0</td>\n",
       "      <td>1.0</td>\n",
       "      <td>0.0</td>\n",
       "      <td>0.0</td>\n",
       "      <td>NEUTRAL</td>\n",
       "    </tr>\n",
       "    <tr>\n",
       "      <th>2</th>\n",
       "      <td>RT @chennaistpi: Cleanliness drive at RMG Elec...</td>\n",
       "      <td>cleanliness drive rmg electrical area stpi che...</td>\n",
       "      <td>0.0</td>\n",
       "      <td>1.0</td>\n",
       "      <td>0.0</td>\n",
       "      <td>0.0</td>\n",
       "      <td>NEUTRAL</td>\n",
       "    </tr>\n",
       "    <tr>\n",
       "      <th>3</th>\n",
       "      <td>RT @chennaistpi: Staff at STPI-Puducherry invo...</td>\n",
       "      <td>staff stpi puducherry involved cleanliness dri...</td>\n",
       "      <td>0.0</td>\n",
       "      <td>1.0</td>\n",
       "      <td>0.0</td>\n",
       "      <td>0.0</td>\n",
       "      <td>NEUTRAL</td>\n",
       "    </tr>\n",
       "    <tr>\n",
       "      <th>4</th>\n",
       "      <td>RT @chennaistpi: Staff at STPI-Coimbatore invo...</td>\n",
       "      <td>staff stpi coimbatore involved cleanliness dri...</td>\n",
       "      <td>0.0</td>\n",
       "      <td>1.0</td>\n",
       "      <td>0.0</td>\n",
       "      <td>0.0</td>\n",
       "      <td>NEUTRAL</td>\n",
       "    </tr>\n",
       "  </tbody>\n",
       "</table>\n",
       "</div>"
      ],
      "text/plain": [
       "                                                text  \\\n",
       "0  RT @chennaistpi: Cleanliness drive at STPI-Mad...   \n",
       "1  RT @STPIPune: Distribution of pamphlets at STP...   \n",
       "2  RT @chennaistpi: Cleanliness drive at RMG Elec...   \n",
       "3  RT @chennaistpi: Staff at STPI-Puducherry invo...   \n",
       "4  RT @chennaistpi: Staff at STPI-Coimbatore invo...   \n",
       "\n",
       "                                       processedtext  \\\n",
       "0  cleanliness drive stpi madurai premises swachh...   \n",
       "1  distribution pamphlets stpi nashik visitors pa...   \n",
       "2  cleanliness drive rmg electrical area stpi che...   \n",
       "3  staff stpi puducherry involved cleanliness dri...   \n",
       "4  staff stpi coimbatore involved cleanliness dri...   \n",
       "\n",
       "   sentiment_compound_polarity  sentiment_neutral  sentiment_negative  \\\n",
       "0                          0.0                1.0                 0.0   \n",
       "1                          0.0                1.0                 0.0   \n",
       "2                          0.0                1.0                 0.0   \n",
       "3                          0.0                1.0                 0.0   \n",
       "4                          0.0                1.0                 0.0   \n",
       "\n",
       "   sentiment_pos sentiment_type  \n",
       "0            0.0        NEUTRAL  \n",
       "1            0.0        NEUTRAL  \n",
       "2            0.0        NEUTRAL  \n",
       "3            0.0        NEUTRAL  \n",
       "4            0.0        NEUTRAL  "
      ]
     },
     "execution_count": 52,
     "metadata": {},
     "output_type": "execute_result"
    }
   ],
   "source": [
    "cleanIndia_df['sentiment_compound_polarity']=cleanIndia_df.processedtext.apply(lambda x:sid.polarity_scores(x)['compound'])\n",
    "cleanIndia_df['sentiment_neutral']=cleanIndia_df.processedtext.apply(lambda x:sid.polarity_scores(x)['neu'])\n",
    "cleanIndia_df['sentiment_negative']=cleanIndia_df.processedtext.apply(lambda x:sid.polarity_scores(x)['neg'])\n",
    "cleanIndia_df['sentiment_pos']=cleanIndia_df.processedtext.apply(lambda x:sid.polarity_scores(x)['pos'])\n",
    "cleanIndia_df['sentiment_type']=''\n",
    "cleanIndia_df.loc[cleanIndia_df.sentiment_compound_polarity>0,'sentiment_type']='POSITIVE'\n",
    "cleanIndia_df.loc[cleanIndia_df.sentiment_compound_polarity==0,'sentiment_type']='NEUTRAL'\n",
    "cleanIndia_df.loc[cleanIndia_df.sentiment_compound_polarity<0,'sentiment_type']='NEGATIVE'\n",
    "cleanIndia_df.head()"
   ]
  },
  {
   "cell_type": "code",
   "execution_count": 53,
   "metadata": {},
   "outputs": [
    {
     "data": {
      "text/plain": [
       "NEUTRAL     7722\n",
       "POSITIVE    4303\n",
       "NEGATIVE    1853\n",
       "Name: sentiment_type, dtype: int64"
      ]
     },
     "execution_count": 53,
     "metadata": {},
     "output_type": "execute_result"
    }
   ],
   "source": [
    "cleanIndia_df['sentiment_type'].value_counts()"
   ]
  },
  {
   "cell_type": "code",
   "execution_count": 54,
   "metadata": {},
   "outputs": [
    {
     "data": {
      "text/plain": [
       "<matplotlib.axes._subplots.AxesSubplot at 0x17debe48>"
      ]
     },
     "execution_count": 54,
     "metadata": {},
     "output_type": "execute_result"
    },
    {
     "data": {
      "image/png": "[encoded data removed]",
      "text/plain": [
       "<matplotlib.figure.Figure at 0x17deb9b0>"
      ]
     },
     "metadata": {},
     "output_type": "display_data"
    }
   ],
   "source": [
    "cleanIndia_df['sentiment_type'].value_counts().plot.bar()"
   ]
  },
  {
   "cell_type": "code",
   "execution_count": 55,
   "metadata": {},
   "outputs": [
    {
     "name": "stdout",
     "output_type": "stream",
     "text": [
      "11102 2776 13878\n"
     ]
    }
   ],
   "source": [
    "processed_cleanIndiatweet_train, processed_cleanIndiatweet_test, sentimentcleanIndia_train, sentimentcleanIndia_test = train_test_split(cleanIndia_df['processedtext'], cleanIndia_df['sentiment_type'], test_size=0.2,random_state=101)\n",
    "\n",
    "print(len(processed_cleanIndiatweet_train), len(processed_cleanIndiatweet_test), len(processed_cleanIndiatweet_train) + len(processed_cleanIndiatweet_test))"
   ]
  },
  {
   "cell_type": "code",
   "execution_count": 57,
   "metadata": {},
   "outputs": [
    {
     "name": "stdout",
     "output_type": "stream",
     "text": [
      "[('co', 13826), ('swachhbharat', 10896), ('mycleanindia', 4814), ('swachhbharat co', 4129), ('zsbp', 3383), ('swachhtapakhwada', 2662), ('stpi', 2535), ('swachhbharatmission', 2436), ('cleanliness', 2169), ('drive', 1859)]\n"
     ]
    }
   ],
   "source": [
    "vec2 = CountVectorizer(min_df=2  , ngram_range=(1,3)).fit(cleanIndia_df['processedtext'])\n",
    "\n",
    "bag_of_words2 = vec2.transform(cleanIndia_df['processedtext'])\n",
    "sum_words2 = bag_of_words2.sum(axis=0)\n",
    "words_freq2 = [(word2, sum_words2[0, idx2]) for word2, idx2 in vec2.vocabulary_.items()]\n",
    "words_freq2 =sorted(words_freq2, key = lambda x: x[1], reverse=True)[:10]\n",
    "print(words_freq2)"
   ]
  },
  {
   "cell_type": "code",
   "execution_count": 58,
   "metadata": {},
   "outputs": [],
   "source": [
    "count_vect2 = CountVectorizer(min_df=2 ,ngram_range=(1,3))\n",
    "X_cleanIndia = count_vect2.fit_transform(cleanIndia_df['processedtext'])\n",
    "X_cleanIndiaTrain_counts = count_vect2.fit_transform(processed_cleanIndiatweet_train)"
   ]
  },
  {
   "cell_type": "code",
   "execution_count": 59,
   "metadata": {},
   "outputs": [],
   "source": [
    "X_cleanIndiaTest_counts = count_vect2.transform(processed_cleanIndiatweet_test)"
   ]
  },
  {
   "cell_type": "code",
   "execution_count": 60,
   "metadata": {},
   "outputs": [
    {
     "name": "stdout",
     "output_type": "stream",
     "text": [
      "Train data-Shape of Sparse Matrix:  (11102, 27428)\n",
      "Train data-Amount of Non-Zero occurences:  345825\n",
      "Test data-Shape of Sparse Matrix:  (2776, 27428)\n",
      "Test data-Amount of Non-Zero occurences:  81134\n"
     ]
    }
   ],
   "source": [
    "print('Train data-Shape of Sparse Matrix: ', X_cleanIndiaTrain_counts.shape)\n",
    "print('Train data-Amount of Non-Zero occurences: ', X_cleanIndiaTrain_counts.nnz)\n",
    "\n",
    "print('Test data-Shape of Sparse Matrix: ', X_cleanIndiaTest_counts.shape)\n",
    "print('Test data-Amount of Non-Zero occurences: ', X_cleanIndiaTest_counts.nnz)"
   ]
  },
  {
   "cell_type": "code",
   "execution_count": 61,
   "metadata": {},
   "outputs": [],
   "source": [
    "from sklearn.feature_extraction.text import TfidfTransformer\n",
    "tfidf_transformer2 = TfidfTransformer()\n",
    "X_cleanIndia_tfidf = tfidf_transformer2.fit_transform(X_cleanIndia)\n",
    "X_cleanIndiaTrain_tfidf = tfidf_transformer2.fit_transform(X_cleanIndiaTrain_counts)"
   ]
  },
  {
   "cell_type": "code",
   "execution_count": 62,
   "metadata": {},
   "outputs": [],
   "source": [
    "X_cleanIndiaTest_tfidf = tfidf_transformer2.transform(X_cleanIndiaTest_counts)"
   ]
  },
  {
   "cell_type": "code",
   "execution_count": 63,
   "metadata": {},
   "outputs": [
    {
     "name": "stdout",
     "output_type": "stream",
     "text": [
      "(11102, 27428)\n",
      "(2776, 27428)\n"
     ]
    }
   ],
   "source": [
    "print(X_cleanIndiaTrain_tfidf.shape)\n",
    "print(X_cleanIndiaTest_tfidf.shape)"
   ]
  },
  {
   "cell_type": "code",
   "execution_count": 64,
   "metadata": {},
   "outputs": [],
   "source": [
    "cleanIndia_prediction={}"
   ]
  },
  {
   "cell_type": "code",
   "execution_count": 65,
   "metadata": {},
   "outputs": [
    {
     "name": "stdout",
     "output_type": "stream",
     "text": [
      "Clean India - Decision Tree Accuracy : 0.603386167146974\n"
     ]
    }
   ],
   "source": [
    "from sklearn.tree import DecisionTreeClassifier\n",
    "decision_tree_model_cleanIndia = DecisionTreeClassifier(max_leaf_nodes=2, random_state=101)\n",
    "decision_tree_model_cleanIndia.fit(X_cleanIndiaTrain_tfidf,sentimentcleanIndia_train)\n",
    "cleanIndia_prediction['Decision tree'] = decision_tree_model_cleanIndia.predict(X_cleanIndiaTest_tfidf)\n",
    "print(\"Clean India - Decision Tree Accuracy : {}\".format(decision_tree_model_cleanIndia.score(X_cleanIndiaTest_tfidf , sentimentcleanIndia_test)))"
   ]
  },
  {
   "cell_type": "code",
   "execution_count": 66,
   "metadata": {},
   "outputs": [
    {
     "name": "stdout",
     "output_type": "stream",
     "text": [
      "Clean India - Logistic regression Accuracy : 0.9438040345821326\n"
     ]
    }
   ],
   "source": [
    "from sklearn.linear_model import LogisticRegression\n",
    "logistic_regression_model_cleanIndia = LogisticRegression( random_state=101)\n",
    "logistic_regression_model_cleanIndia.fit(X_cleanIndiaTrain_tfidf,sentimentcleanIndia_train)\n",
    "cleanIndia_prediction['Logistic Regression'] = logistic_regression_model_cleanIndia.predict(X_cleanIndiaTest_tfidf)\n",
    "print(\"Clean India - Logistic regression Accuracy : {}\".format(logistic_regression_model_cleanIndia.score(X_cleanIndiaTest_tfidf , sentimentcleanIndia_test)))"
   ]
  },
  {
   "cell_type": "code",
   "execution_count": 67,
   "metadata": {},
   "outputs": [
    {
     "name": "stdout",
     "output_type": "stream",
     "text": [
      " Decision tree:\n",
      "             precision    recall  f1-score   support\n",
      "\n",
      "   POSITIVE       0.00      0.00      0.00       360\n",
      "   NEGATIVE       0.75      0.66      0.70      1560\n",
      "    NEUTRAL       0.46      0.75      0.57       856\n",
      "\n",
      "avg / total       0.56      0.60      0.57      2776\n",
      "\n",
      "\n",
      "\n",
      " Logistic Regression:\n",
      "             precision    recall  f1-score   support\n",
      "\n",
      "   POSITIVE       0.96      0.87      0.91       360\n",
      "   NEGATIVE       0.94      0.99      0.96      1560\n",
      "    NEUTRAL       0.95      0.90      0.92       856\n",
      "\n",
      "avg / total       0.94      0.94      0.94      2776\n",
      "\n",
      "\n",
      "\n"
     ]
    },
    {
     "name": "stderr",
     "output_type": "stream",
     "text": [
      "c:\\python\\lib\\site-packages\\sklearn\\metrics\\classification.py:1135: UndefinedMetricWarning: Precision and F-score are ill-defined and being set to 0.0 in labels with no predicted samples.\n",
      "  'precision', 'predicted', average, warn_for)\n"
     ]
    }
   ],
   "source": [
    "keys = cleanIndia_prediction.keys()\n",
    "for key in keys:\n",
    "    print(\" {}:\".format(key))\n",
    "    print(metrics.classification_report(sentimentcleanIndia_test, cleanIndia_prediction.get(key), target_names = [\"POSITIVE\", \"NEGATIVE\",\"NEUTRAL\"]))\n",
    "    print(\"\\n\")"
   ]
  },
  {
   "cell_type": "code",
   "execution_count": 68,
   "metadata": {},
   "outputs": [
    {
     "name": "stderr",
     "output_type": "stream",
     "text": [
      "c:\\python\\lib\\site-packages\\ipykernel_launcher.py:3: SettingWithCopyWarning: \n",
      "A value is trying to be set on a copy of a slice from a DataFrame.\n",
      "Try using .loc[row_indexer,col_indexer] = value instead\n",
      "\n",
      "See the caveats in the documentation: http://pandas.pydata.org/pandas-docs/stable/indexing.html#indexing-view-versus-copy\n",
      "  This is separate from the ipykernel package so we can avoid doing imports until\n"
     ]
    },
    {
     "data": {
      "text/html": [
       "<div>\n",
       "<style scoped>\n",
       "    .dataframe tbody tr th:only-of-type {\n",
       "        vertical-align: middle;\n",
       "    }\n",
       "\n",
       "    .dataframe tbody tr th {\n",
       "        vertical-align: top;\n",
       "    }\n",
       "\n",
       "    .dataframe thead th {\n",
       "        text-align: right;\n",
       "    }\n",
       "</style>\n",
       "<table border=\"1\" class=\"dataframe\">\n",
       "  <thead>\n",
       "    <tr style=\"text-align: right;\">\n",
       "      <th></th>\n",
       "      <th>text</th>\n",
       "      <th>processedtext</th>\n",
       "      <th>sentiment_compound_polarity</th>\n",
       "      <th>sentiment_neutral</th>\n",
       "      <th>sentiment_negative</th>\n",
       "      <th>sentiment_pos</th>\n",
       "      <th>sentiment_type</th>\n",
       "      <th>Sentiment_byDT</th>\n",
       "    </tr>\n",
       "  </thead>\n",
       "  <tbody>\n",
       "    <tr>\n",
       "      <th>0</th>\n",
       "      <td>RT @chennaistpi: Cleanliness drive at STPI-Mad...</td>\n",
       "      <td>cleanliness drive stpi madurai premises swachh...</td>\n",
       "      <td>0.0</td>\n",
       "      <td>1.0</td>\n",
       "      <td>0.0</td>\n",
       "      <td>0.0</td>\n",
       "      <td>NEUTRAL</td>\n",
       "      <td>NEUTRAL</td>\n",
       "    </tr>\n",
       "    <tr>\n",
       "      <th>1</th>\n",
       "      <td>RT @STPIPune: Distribution of pamphlets at STP...</td>\n",
       "      <td>distribution pamphlets stpi nashik visitors pa...</td>\n",
       "      <td>0.0</td>\n",
       "      <td>1.0</td>\n",
       "      <td>0.0</td>\n",
       "      <td>0.0</td>\n",
       "      <td>NEUTRAL</td>\n",
       "      <td>POSITIVE</td>\n",
       "    </tr>\n",
       "    <tr>\n",
       "      <th>2</th>\n",
       "      <td>RT @chennaistpi: Cleanliness drive at RMG Elec...</td>\n",
       "      <td>cleanliness drive rmg electrical area stpi che...</td>\n",
       "      <td>0.0</td>\n",
       "      <td>1.0</td>\n",
       "      <td>0.0</td>\n",
       "      <td>0.0</td>\n",
       "      <td>NEUTRAL</td>\n",
       "      <td>POSITIVE</td>\n",
       "    </tr>\n",
       "    <tr>\n",
       "      <th>3</th>\n",
       "      <td>RT @chennaistpi: Staff at STPI-Puducherry invo...</td>\n",
       "      <td>staff stpi puducherry involved cleanliness dri...</td>\n",
       "      <td>0.0</td>\n",
       "      <td>1.0</td>\n",
       "      <td>0.0</td>\n",
       "      <td>0.0</td>\n",
       "      <td>NEUTRAL</td>\n",
       "      <td>NEUTRAL</td>\n",
       "    </tr>\n",
       "    <tr>\n",
       "      <th>4</th>\n",
       "      <td>RT @chennaistpi: Staff at STPI-Coimbatore invo...</td>\n",
       "      <td>staff stpi coimbatore involved cleanliness dri...</td>\n",
       "      <td>0.0</td>\n",
       "      <td>1.0</td>\n",
       "      <td>0.0</td>\n",
       "      <td>0.0</td>\n",
       "      <td>NEUTRAL</td>\n",
       "      <td>POSITIVE</td>\n",
       "    </tr>\n",
       "  </tbody>\n",
       "</table>\n",
       "</div>"
      ],
      "text/plain": [
       "                                                text  \\\n",
       "0  RT @chennaistpi: Cleanliness drive at STPI-Mad...   \n",
       "1  RT @STPIPune: Distribution of pamphlets at STP...   \n",
       "2  RT @chennaistpi: Cleanliness drive at RMG Elec...   \n",
       "3  RT @chennaistpi: Staff at STPI-Puducherry invo...   \n",
       "4  RT @chennaistpi: Staff at STPI-Coimbatore invo...   \n",
       "\n",
       "                                       processedtext  \\\n",
       "0  cleanliness drive stpi madurai premises swachh...   \n",
       "1  distribution pamphlets stpi nashik visitors pa...   \n",
       "2  cleanliness drive rmg electrical area stpi che...   \n",
       "3  staff stpi puducherry involved cleanliness dri...   \n",
       "4  staff stpi coimbatore involved cleanliness dri...   \n",
       "\n",
       "   sentiment_compound_polarity  sentiment_neutral  sentiment_negative  \\\n",
       "0                          0.0                1.0                 0.0   \n",
       "1                          0.0                1.0                 0.0   \n",
       "2                          0.0                1.0                 0.0   \n",
       "3                          0.0                1.0                 0.0   \n",
       "4                          0.0                1.0                 0.0   \n",
       "\n",
       "   sentiment_pos sentiment_type Sentiment_byDT  \n",
       "0            0.0        NEUTRAL        NEUTRAL  \n",
       "1            0.0        NEUTRAL       POSITIVE  \n",
       "2            0.0        NEUTRAL       POSITIVE  \n",
       "3            0.0        NEUTRAL        NEUTRAL  \n",
       "4            0.0        NEUTRAL       POSITIVE  "
      ]
     },
     "execution_count": 68,
     "metadata": {},
     "output_type": "execute_result"
    }
   ],
   "source": [
    "decision_tree_model_cleanIndia1 = DecisionTreeClassifier(max_leaf_nodes=2, random_state=101)\n",
    "decision_tree_model_cleanIndia1.fit(X_cleanIndia_tfidf,cleanIndia_df['sentiment_type'])\n",
    "cleanIndia_df['Sentiment_byDT']=decision_tree_model_cleanIndia1.predict(X_cleanIndia_tfidf)\n",
    "cleanIndia_df.head()"
   ]
  },
  {
   "cell_type": "code",
   "execution_count": 69,
   "metadata": {},
   "outputs": [
    {
     "name": "stderr",
     "output_type": "stream",
     "text": [
      "c:\\python\\lib\\site-packages\\ipykernel_launcher.py:3: SettingWithCopyWarning: \n",
      "A value is trying to be set on a copy of a slice from a DataFrame.\n",
      "Try using .loc[row_indexer,col_indexer] = value instead\n",
      "\n",
      "See the caveats in the documentation: http://pandas.pydata.org/pandas-docs/stable/indexing.html#indexing-view-versus-copy\n",
      "  This is separate from the ipykernel package so we can avoid doing imports until\n"
     ]
    },
    {
     "data": {
      "text/html": [
       "<div>\n",
       "<style scoped>\n",
       "    .dataframe tbody tr th:only-of-type {\n",
       "        vertical-align: middle;\n",
       "    }\n",
       "\n",
       "    .dataframe tbody tr th {\n",
       "        vertical-align: top;\n",
       "    }\n",
       "\n",
       "    .dataframe thead th {\n",
       "        text-align: right;\n",
       "    }\n",
       "</style>\n",
       "<table border=\"1\" class=\"dataframe\">\n",
       "  <thead>\n",
       "    <tr style=\"text-align: right;\">\n",
       "      <th></th>\n",
       "      <th>text</th>\n",
       "      <th>processedtext</th>\n",
       "      <th>sentiment_compound_polarity</th>\n",
       "      <th>sentiment_neutral</th>\n",
       "      <th>sentiment_negative</th>\n",
       "      <th>sentiment_pos</th>\n",
       "      <th>sentiment_type</th>\n",
       "      <th>Sentiment_byDT</th>\n",
       "      <th>Sentiment_byLR</th>\n",
       "    </tr>\n",
       "  </thead>\n",
       "  <tbody>\n",
       "    <tr>\n",
       "      <th>0</th>\n",
       "      <td>RT @chennaistpi: Cleanliness drive at STPI-Mad...</td>\n",
       "      <td>cleanliness drive stpi madurai premises swachh...</td>\n",
       "      <td>0.0</td>\n",
       "      <td>1.0</td>\n",
       "      <td>0.0</td>\n",
       "      <td>0.0</td>\n",
       "      <td>NEUTRAL</td>\n",
       "      <td>NEUTRAL</td>\n",
       "      <td>NEUTRAL</td>\n",
       "    </tr>\n",
       "    <tr>\n",
       "      <th>1</th>\n",
       "      <td>RT @STPIPune: Distribution of pamphlets at STP...</td>\n",
       "      <td>distribution pamphlets stpi nashik visitors pa...</td>\n",
       "      <td>0.0</td>\n",
       "      <td>1.0</td>\n",
       "      <td>0.0</td>\n",
       "      <td>0.0</td>\n",
       "      <td>NEUTRAL</td>\n",
       "      <td>POSITIVE</td>\n",
       "      <td>NEUTRAL</td>\n",
       "    </tr>\n",
       "    <tr>\n",
       "      <th>2</th>\n",
       "      <td>RT @chennaistpi: Cleanliness drive at RMG Elec...</td>\n",
       "      <td>cleanliness drive rmg electrical area stpi che...</td>\n",
       "      <td>0.0</td>\n",
       "      <td>1.0</td>\n",
       "      <td>0.0</td>\n",
       "      <td>0.0</td>\n",
       "      <td>NEUTRAL</td>\n",
       "      <td>POSITIVE</td>\n",
       "      <td>NEUTRAL</td>\n",
       "    </tr>\n",
       "    <tr>\n",
       "      <th>3</th>\n",
       "      <td>RT @chennaistpi: Staff at STPI-Puducherry invo...</td>\n",
       "      <td>staff stpi puducherry involved cleanliness dri...</td>\n",
       "      <td>0.0</td>\n",
       "      <td>1.0</td>\n",
       "      <td>0.0</td>\n",
       "      <td>0.0</td>\n",
       "      <td>NEUTRAL</td>\n",
       "      <td>NEUTRAL</td>\n",
       "      <td>NEUTRAL</td>\n",
       "    </tr>\n",
       "    <tr>\n",
       "      <th>4</th>\n",
       "      <td>RT @chennaistpi: Staff at STPI-Coimbatore invo...</td>\n",
       "      <td>staff stpi coimbatore involved cleanliness dri...</td>\n",
       "      <td>0.0</td>\n",
       "      <td>1.0</td>\n",
       "      <td>0.0</td>\n",
       "      <td>0.0</td>\n",
       "      <td>NEUTRAL</td>\n",
       "      <td>POSITIVE</td>\n",
       "      <td>NEUTRAL</td>\n",
       "    </tr>\n",
       "  </tbody>\n",
       "</table>\n",
       "</div>"
      ],
      "text/plain": [
       "                                                text  \\\n",
       "0  RT @chennaistpi: Cleanliness drive at STPI-Mad...   \n",
       "1  RT @STPIPune: Distribution of pamphlets at STP...   \n",
       "2  RT @chennaistpi: Cleanliness drive at RMG Elec...   \n",
       "3  RT @chennaistpi: Staff at STPI-Puducherry invo...   \n",
       "4  RT @chennaistpi: Staff at STPI-Coimbatore invo...   \n",
       "\n",
       "                                       processedtext  \\\n",
       "0  cleanliness drive stpi madurai premises swachh...   \n",
       "1  distribution pamphlets stpi nashik visitors pa...   \n",
       "2  cleanliness drive rmg electrical area stpi che...   \n",
       "3  staff stpi puducherry involved cleanliness dri...   \n",
       "4  staff stpi coimbatore involved cleanliness dri...   \n",
       "\n",
       "   sentiment_compound_polarity  sentiment_neutral  sentiment_negative  \\\n",
       "0                          0.0                1.0                 0.0   \n",
       "1                          0.0                1.0                 0.0   \n",
       "2                          0.0                1.0                 0.0   \n",
       "3                          0.0                1.0                 0.0   \n",
       "4                          0.0                1.0                 0.0   \n",
       "\n",
       "   sentiment_pos sentiment_type Sentiment_byDT Sentiment_byLR  \n",
       "0            0.0        NEUTRAL        NEUTRAL        NEUTRAL  \n",
       "1            0.0        NEUTRAL       POSITIVE        NEUTRAL  \n",
       "2            0.0        NEUTRAL       POSITIVE        NEUTRAL  \n",
       "3            0.0        NEUTRAL        NEUTRAL        NEUTRAL  \n",
       "4            0.0        NEUTRAL       POSITIVE        NEUTRAL  "
      ]
     },
     "execution_count": 69,
     "metadata": {},
     "output_type": "execute_result"
    }
   ],
   "source": [
    "logistic_regression_model_cleanIndia1 = LogisticRegression( random_state=101)\n",
    "logistic_regression_model_cleanIndia1.fit(X_cleanIndia_tfidf,cleanIndia_df['sentiment_type'])\n",
    "cleanIndia_df['Sentiment_byLR']=logistic_regression_model_cleanIndia1.predict(X_cleanIndia_tfidf)\n",
    "cleanIndia_df.head()"
   ]
  },
  {
   "cell_type": "code",
   "execution_count": 70,
   "metadata": {},
   "outputs": [],
   "source": [
    "cleanIndia_df.to_csv(\"CleanIndia_predicted_result.csv\",index=False)"
   ]
  },
  {
   "cell_type": "code",
   "execution_count": null,
   "metadata": {},
   "outputs": [],
   "source": []
  }
 ],
 "metadata": {
  "kernelspec": {
   "display_name": "Python 3",
   "language": "python",
   "name": "python3"
  },
  "language_info": {
   "codemirror_mode": {
    "name": "ipython",
    "version": 3
   },
   "file_extension": ".py",
   "mimetype": "text/x-python",
   "name": "python",
   "nbconvert_exporter": "python",
   "pygments_lexer": "ipython3",
   "version": "3.6.1"
  }
 },
 "nbformat": 4,
 "nbformat_minor": 2
}
